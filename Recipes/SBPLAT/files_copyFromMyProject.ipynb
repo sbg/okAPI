{
 "cells": [
  {
   "cell_type": "markdown",
   "metadata": {
    "deletable": true,
    "editable": true
   },
   "source": [
    "# How do I _copy_ a file from another one of _my projects_?\n",
    "### Overview\n",
    "Files can be copied from one of two sources:\n",
    "1. other projects you are a member of\n",
    "2. public reference.  \n",
    "\n",
    "Here we focus on copying a file from _your own project_. \n",
    "\n",
    "### Prerequisites\n",
    " 1. You need to be a member (or owner) of _at least one_ project.\n",
    " 2. You need your _authentication token_ and the API needs to know about it. See <a href=\"Setup_API_environment.ipynb\">**Setup_API_environment.ipynb**</a> for details.\n",
    " 3. You understand how to <a href=\"projects_listAll.ipynb\" target=\"_blank\">list</a> projects you are a member of (we will just use that call directly and pick one here).\n",
    " 4. You understand how to <a href=\"files_listAll.ipynb\" target=\"_blank\">list</a> files within one of your projects (we will just use that call directly here).\n",
    "\n",
    "### Warning\n",
    "You are only permitted to copy a file from a `controlled` project to a _target project_ if that project is also a `controlled` project.\n",
    "\n",
    "## Imports\n",
    "We import the _Api_ class from the official sevenbridges-python bindings below."
   ]
  },
  {
   "cell_type": "code",
   "execution_count": null,
   "metadata": {
    "deletable": true,
    "editable": true
   },
   "outputs": [],
   "source": [
    "import sevenbridges as sbg"
   ]
  },
  {
   "cell_type": "markdown",
   "metadata": {
    "deletable": true,
    "editable": true
   },
   "source": [
    "## Initialize the object\n",
    "The `Api` object needs to know your **auth\\_token** and the correct path. Here we assume you are using the credentials file in your home directory. For other options see <a href=\"Setup_API_environment.ipynb\">Setup_API_environment.ipynb</a>"
   ]
  },
  {
   "cell_type": "code",
   "execution_count": null,
   "metadata": {
    "deletable": true,
    "editable": true
   },
   "outputs": [],
   "source": [
    "# [USER INPUT] specify platform {cgc, sbpla, etc}\n",
    "prof = 'sbpla'\n",
    "\n",
    "\n",
    "config_file = sbg.Config(profile=prof)\n",
    "api = sbg.Api(config=config_file)"
   ]
  },
  {
   "cell_type": "markdown",
   "metadata": {
    "deletable": true,
    "editable": true
   },
   "source": [
    "## Copy a file from another project\n",
    "We will first find our _source\\_project_ and _my\\_project_ (target), then list the files within the source project, and copy a file from **_source\\_project_ -> _destination\\_project_**.\n",
    "\n",
    "The critical information for this POST is the **file_id**. Note, you are allowed to copy the same file as many times as you like. However, duplicates will be automatically have a prefix attached of (\\_1\\_, \\_2\\_, etc) depending on how many times you copy the file.\n",
    "\n",
    "To make these results very obvious, use an empty project as your destination\\_project (e.g. your <a href=projects_makeNew.ipynb> cookbook example project</a>) or change the _name_ in the _data_ dictionary to something like 'Dept of Awesome.copy'"
   ]
  },
  {
   "cell_type": "code",
   "execution_count": null,
   "metadata": {
    "collapsed": false,
    "deletable": true,
    "editable": true,
    "jupyter": {
     "outputs_hidden": false
    }
   },
   "outputs": [],
   "source": [
    "# [USER INPUT] Set source project name, destinatio project name and file index here:\n",
    "# Note that you can have multiple apps or projects with the same name. It is best practice to reference entities by ID.\n",
    "source_project_name = 'Source project name'        \n",
    "destination_project_name = 'Destination project name'\n",
    "f_index = 0 # file to copy, here we take the first file from the source project\n",
    "\n",
    "\n",
    "# Find TARGET and YOUR projects\n",
    "source_project = [p for p in api.projects.query(limit=100).all()\n",
    "                  if p.name == source_project_name]\n",
    "\n",
    "destination_project = [p for p in api.projects.query(limit=100).all() \n",
    "                  if p.name == destination_project_name]\n",
    "\n",
    "# Double-check that all projects exist\n",
    "if not source_project:\n",
    "    print('Source project {} not found, check spelling'.format(\n",
    "        source_project_name))\n",
    "    raise KeyboardInterrupt\n",
    "else:\n",
    "    source_project = source_project[0]\n",
    "    \n",
    "if not destination_project:\n",
    "    print('Destination project {} not found, check spelling'.format(\n",
    "            destination_project_name))\n",
    "    raise KeyboardInterrupt\n",
    "else:\n",
    "    destination_project = destination_project[0]\n",
    "\n",
    "# LIST all files in the source and target project\n",
    "my_files = api.files.query(limit=100, project=destination_project)\n",
    "source_files = api.files.query(limit=100, project=source_project)\n",
    "\n",
    "# pop out the file names \n",
    "my_file_names = [f.name for f in my_files.all()]\n",
    "source_file_names = [f.name for f in source_files.all()]\n",
    "\n",
    "# Check if first file already exists in the target project\n",
    "if source_file_names[f_index] in my_file_names:\n",
    "    print('File already exists in second project, skipping.')\n",
    "else:\n",
    "    print('File {} does not exist in project {}; copying now.'.format(\n",
    "            source_file_names[f_index], my_project.id))\n",
    "    \n",
    "    source_file = source_file_names[f_index]\n",
    "    my_new_file = source_file.copy(project=destination_project.id,\n",
    "                                   name=source_file.name)\n",
    "\n",
    "    # re-list files in target project to verify the copy worked\n",
    "    my_files = [f.name for f in api.files.query(\n",
    "            limit=100, project=my_project.id).all()]\n",
    "    \n",
    "    if source_file.name in my_files:\n",
    "        print('Sucessfully copied one file!')\n",
    "    else:\n",
    "        print('Something went wrong...')"
   ]
  },
  {
   "cell_type": "markdown",
   "metadata": {
    "deletable": true,
    "editable": true
   },
   "source": [
    "## Additional Information\n",
    "Detailed documentation of this particular REST architectural style request is available [here](http://docs.sevenbridges.com/docs/copy-a-file)"
   ]
  }
 ],
 "metadata": {
  "kernelspec": {
   "display_name": "Python 3",
   "language": "python",
   "name": "python3"
  },
  "language_info": {
   "codemirror_mode": {
    "name": "ipython",
    "version": 3
   },
   "file_extension": ".py",
   "mimetype": "text/x-python",
   "name": "python",
   "nbconvert_exporter": "python",
   "pygments_lexer": "ipython3",
   "version": "3.8.3"
  }
 },
 "nbformat": 4,
 "nbformat_minor": 4
}
