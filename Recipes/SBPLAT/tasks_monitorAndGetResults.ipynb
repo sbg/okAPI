{
 "cells": [
  {
   "cell_type": "markdown",
   "metadata": {
    "deletable": true,
    "editable": true
   },
   "source": [
    "# How do I _create_, _start_, & _monitor_ a task?\n",
    "### Overview\n",
    "We are getting into advanced techniques here and will need to leverage a few other cookbooks. You will need an app and some files in your project, then it is easy to start one. The beginning of this notebook **replicates** the <a href=\"tasks_create.ipynb\"> tasks_create </a> notebook.\n",
    "\n",
    "\n",
    "### Prerequisites\n",
    " 1. You need to be a member (or owner) of _at least one_ project.\n",
    " 2. You need your _authentication token_ and the API needs to know about it. See <a href=\"Setup_API_environment.ipynb\">**Setup_API_environment.ipynb**</a> for details.\n",
    " 3. You understand how to <a href=\"projects_listAll.ipynb\" target=\"_blank\">list</a> projects you are a member of (we will just use that call directly and pick one here).\n",
    " 4. You understand how to <a href=\"apps_listAll.ipynb\" target=\"_blank\">list</a> apps within one of your projects (we will just use that call directly here). This is a **great place** to get the **app_id** you will need in this recipe.\n",
    " 5. You have at least one app in your project, maybe from <a href=\"apps_copyFromPublicApps.ipynb\" target=\"_blank\">copying one</a>\n",
    " 6. You may want to review how to <a href=\"apps_detailOne.ipynb\" target=\"_blank\"> get details </a> of your app (we will assume you do, and pass the appropriate inputs).\n",
    "\n",
    " \n",
    "### WARNING\n",
    "This will burn through some processing credits (**about \\$0.50**). You can create _DRAFT_ tasks to just see how it works, swap the commenting in **Build and run tasks** to only run: \n",
    "```python\n",
    "# task created in DRAFT state\n",
    "task = api.tasks.create(name=task_name, project=my_project.id, app=single_app.id, inputs=inputs, run=False)       \n",
    "\n",
    "# task created and RUN immediately\n",
    "task = api.tasks.create(name=task_name, project=my_project.id, app=single_app.id, inputs=inputs, run=True)       \n",
    "```\n",
    "\n",
    "## Imports\n",
    "We import the _Api_ class from the official sevenbridges-python bindings below.  \n",
    "We also import the `Conflict` error to handle situations when trying to copy over an existing app."
   ]
  },
  {
   "cell_type": "code",
   "execution_count": null,
   "metadata": {
    "deletable": true,
    "editable": true
   },
   "outputs": [],
   "source": [
    "import sevenbridges as sbg\n",
    "from sevenbridges.errors import Conflict"
   ]
  },
  {
   "cell_type": "markdown",
   "metadata": {
    "deletable": true,
    "editable": true
   },
   "source": [
    "## Initialize the object\n",
    "The `Api` object needs to know your **auth\\_token** and the correct path. Here we assume you are using the credentials file in your home directory. For other options see <a href=\"Setup_API_environment.ipynb\">Setup_API_environment.ipynb</a>"
   ]
  },
  {
   "cell_type": "code",
   "execution_count": null,
   "metadata": {
    "deletable": true,
    "editable": true
   },
   "outputs": [],
   "source": [
    "# [USER INPUT] specify platform {cgc, sbpla, etc}\n",
    "prof = 'sbpla'\n",
    "\n",
    "\n",
    "config_file = sbg.Config(profile=prof)\n",
    "api = sbg.Api(config=config_file)"
   ]
  },
  {
   "cell_type": "markdown",
   "metadata": {
    "deletable": true,
    "editable": true
   },
   "source": [
    "## Find your project \n",
    "First, we identify an **interesting project** (by _name_) by searching though all of our projects<sup>1</sup>"
   ]
  },
  {
   "cell_type": "code",
   "execution_count": null,
   "metadata": {
    "collapsed": false,
    "deletable": true,
    "editable": true,
    "jupyter": {
     "outputs_hidden": false
    }
   },
   "outputs": [],
   "source": [
    "# [USER INPUT] Set project and App names:\n",
    "# Note that you can have multiple apps or projects with the same name. It is best practice to reference entities by ID.\n",
    "project_id = 'user-name/my-project-name'     \n",
    "a_name = 'SBG FASTA Indices'\n",
    "\n",
    "# Get my project\n",
    "my_project = api.projects.get(project_id)                       "
   ]
  },
  {
   "cell_type": "markdown",
   "metadata": {
    "deletable": true,
    "editable": true
   },
   "source": [
    "## Copy an app to use for the task\n",
    "Next, we find an **interesting app** (by _name_), again by searching though all of the apps _within_ that project<sup>1</sup>. Note, we are reusing my_project from above.\n",
    "\n",
    "<sup>1</sup> A _cleaner_ way to do this would be to identify by project and app **id**."
   ]
  },
  {
   "cell_type": "code",
   "execution_count": null,
   "metadata": {
    "collapsed": false,
    "deletable": true,
    "editable": true,
    "jupyter": {
     "outputs_hidden": false
    }
   },
   "outputs": [],
   "source": [
    "# Find app by name in the Public Apps\n",
    "public_app = [a for a in api.apps.query(\n",
    "        visibility='public', limit=100\n",
    "    ).all() if a.name == a_name][0]\n",
    "\n",
    "try:\n",
    "    my_app = public_app.copy(project=my_project)\n",
    "    print('App {} copied to Project {}.'.format(my_app.name, destination_project.name))\n",
    "except Conflict:\n",
    "    my_app = [a for a in api.apps.query(project=my_project, limit=100).all() if a.name == a_name][0]\n",
    "    print('App already exists in the destination project, reusing the existing app.')\n",
    "    \n",
    "# re-list apps in target project to verify the copy worked\n",
    "my_apps = api.apps.query(project=my_project.id, limit=100)\n",
    "my_app_names = [a.name for a in my_apps.all()]\n",
    "\n",
    "if a_name in my_app_names:\n",
    "    print('Sucessfully copied or reused one app!')\n",
    "else:\n",
    "    print('Something went wrong...')"
   ]
  },
  {
   "cell_type": "markdown",
   "metadata": {
    "deletable": true,
    "editable": true
   },
   "source": [
    "## Copy a public reference file to use for an input\n",
    "We will first find our _source\\_project_ (the Public Reference Files), then list the files within the source project<sup>2</sup>, and copy a file from **_source\\_project_ -> _my\\_project_**.\n",
    "\n",
    "<sup>2</sup> Files are only accessible **within** a project - here the Public Reference project (**warning** we may change this project name in the future)."
   ]
  },
  {
   "cell_type": "code",
   "execution_count": null,
   "metadata": {
    "collapsed": false,
    "deletable": true,
    "editable": true,
    "jupyter": {
     "outputs_hidden": false
    }
   },
   "outputs": [],
   "source": [
    "# [USER INPUT] Set file and Public Reference Project names here:\n",
    "source_project_id = 'admin/sbg-public-data'        \n",
    "f_name = 'ucsc.hg19.fasta'              \n",
    "\n",
    "\n",
    "# LIST all file names in target project\n",
    "my_files = [f.name for f in api.files.query(limit=100, project=my_project.id).all()]\n",
    "# Find source file\n",
    "source_file = api.files.query(limit=100, project=source_project_id, names=[f_name])\n",
    "\n",
    "# Make sure that file exists in Public Reference\n",
    "if not source_file:\n",
    "    print(\"File ({}) does not exist in Public Reference, please check spelling\".format(f_name))\n",
    "    raise KeyboardInterrupt\n",
    "else:\n",
    "    source_file = source_file[0]\n",
    "    \n",
    "# Check if first file already exists in the target project\n",
    "if source_file.name in my_files:\n",
    "    print('File already exists in second project, using that one')\n",
    "    my_new_file = api.files.query(limit=100, project=my_project.id, names=[source_file.name])[0]\n",
    "else:\n",
    "    print('File {} does not exist in Project {}; copying now'.format(source_file.name, my_project.id))\n",
    "    my_new_file = source_file.copy(project=my_project.id,\n",
    "                                   name=source_file.name)\n",
    "\n",
    "    # re-list files in target project to verify the copy worked\n",
    "    my_files = [f.name for f in api.files.query(limit=100, project=my_project.id).all()]\n",
    "    \n",
    "    if source_file.name in my_files:\n",
    "        print('Sucessfully copied one file!')\n",
    "    else:\n",
    "        print('Something went wrong...')"
   ]
  },
  {
   "cell_type": "markdown",
   "metadata": {},
   "source": [
    "## Check app inputs\n",
    "\n",
    "First we can check what inputs are expected in our app. The app property `raw` contains a `dict` that has all the app information ready for grabs. Going through the `raw['inputs]'` can show us expected input IDs and types.\n",
    "Hints for input types: \n",
    "- The `[]` suffix, e.g. `File[]`, is a syntax denoting a list of items, in this case Files. \n",
    "- The `?` suffix, e.g. `File?`, is a syntax denoting an optional input, in this case an optional File. Another way to represent an optional type is, e.g. `['null', 'int']` for optional integer input."
   ]
  },
  {
   "cell_type": "code",
   "execution_count": null,
   "metadata": {},
   "outputs": [],
   "source": [
    "print('Expected inputs for app {}:'.format(my_app.name))\n",
    "for inp in my_app.raw['inputs']:\n",
    "    print('id: {}{}type: {}'.format(inp['id'].lstrip('#'), ' ' * (30 - len(inp['id'])), inp['type']))"
   ]
  },
  {
   "cell_type": "markdown",
   "metadata": {
    "deletable": true,
    "editable": true
   },
   "source": [
    "## Create & start the task\n",
    "Here we use the reference file and set one of the optional configuration inputs. Note that input files are passed a _file_ (or a _list_ of _files_) while configuration parameters are passed just the values.\n",
    "\n",
    "Note that you need funds in your project billing group in order to run the task or you can get a TaskValidationError. You can check out task errors with `my_task.errors`"
   ]
  },
  {
   "cell_type": "code",
   "execution_count": null,
   "metadata": {
    "collapsed": false,
    "deletable": true,
    "editable": true,
    "jupyter": {
     "outputs_hidden": false
    }
   },
   "outputs": [],
   "source": [
    "# Task description\n",
    "task_name = 'task created with task_create.ipynb'\n",
    "inputs = {'reference':my_new_file} # 'fasta' is a 'File_Inputs'\n",
    "\n",
    "# if your task has any 'Config_inputs' that can be specified by\n",
    "#    {'id':value}      # value can be str, bool, float, etc depending on tool\n",
    "\n",
    "# Create and RUN a task\n",
    "my_task = api.tasks.create(name=task_name, project=my_project.id, \n",
    "                           app=my_app.id, inputs=inputs, run=True)"
   ]
  },
  {
   "cell_type": "markdown",
   "metadata": {
    "deletable": true,
    "editable": true
   },
   "source": [
    "## Print task status\n",
    "Here we poll the recently created task. "
   ]
  },
  {
   "cell_type": "code",
   "execution_count": null,
   "metadata": {
    "collapsed": false,
    "deletable": true,
    "editable": true,
    "jupyter": {
     "outputs_hidden": false
    }
   },
   "outputs": [],
   "source": [
    "my_task.reload()\n",
    "print('Your task is in {} status'.format(my_task.status))"
   ]
  },
  {
   "cell_type": "markdown",
   "metadata": {
    "deletable": true,
    "editable": true
   },
   "source": [
    "## Wait for task completion\n",
    "Simple loop to ping for task completion."
   ]
  },
  {
   "cell_type": "code",
   "execution_count": null,
   "metadata": {
    "collapsed": false,
    "deletable": true,
    "editable": true,
    "jupyter": {
     "outputs_hidden": false
    }
   },
   "outputs": [],
   "source": [
    "# [USER INPUT] Set loop time (seconds):\n",
    "import time\n",
    "\n",
    "loop_time = 30\n",
    "flag = {'taskRunning': True}\n",
    "\n",
    "print('Pinging SBPLAT for task completion.')\n",
    "while flag['taskRunning']:\n",
    "\n",
    "    my_task.reload()\n",
    "    if my_task.status == 'COMPLETED':\n",
    "        flag['taskRunning'] = False\n",
    "        print('Task has completed, life is beautiful')\n",
    "    elif my_task.status  == 'FAILED':  \n",
    "        print('Task failed, can not continue')\n",
    "        raise KeyboardInterrupt\n",
    "    else:\n",
    "        print('Task status: {}'.format(my_task.status))\n",
    "        time.sleep(loop_time)"
   ]
  },
  {
   "cell_type": "markdown",
   "metadata": {
    "deletable": true,
    "editable": true
   },
   "source": [
    "## Get task outputs\n",
    "Here we reload the task and print task outputs. "
   ]
  },
  {
   "cell_type": "code",
   "execution_count": null,
   "metadata": {
    "collapsed": false,
    "deletable": true,
    "editable": true,
    "jupyter": {
     "outputs_hidden": false
    }
   },
   "outputs": [],
   "source": [
    "my_task.reload()\n",
    "print(my_task.outputs)"
   ]
  },
  {
   "cell_type": "markdown",
   "metadata": {
    "deletable": true,
    "editable": true
   },
   "source": [
    "## Additional Information\n",
    "Detailed documentation of this particular REST architectural style request is available [here](http://docs.sevenbridges.com/docs/create-a-new-task) and [here](http://docs.sevenbridges.com/docs/perform-an-action-on-a-specific-task)"
   ]
  }
 ],
 "metadata": {
  "kernelspec": {
   "display_name": "Python 3",
   "language": "python",
   "name": "python3"
  },
  "language_info": {
   "codemirror_mode": {
    "name": "ipython",
    "version": 3
   },
   "file_extension": ".py",
   "mimetype": "text/x-python",
   "name": "python",
   "nbconvert_exporter": "python",
   "pygments_lexer": "ipython3",
   "version": "3.8.3"
  }
 },
 "nbformat": 4,
 "nbformat_minor": 4
}
