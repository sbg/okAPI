{
 "cells": [
  {
   "cell_type": "markdown",
   "metadata": {
    "deletable": true,
    "editable": true
   },
   "source": [
    "# How to setup Seven Bridges Public API python library\n",
    "## Overview\n",
    "Here you will learn the three possible ways to setup Seven Bridges Public API Python library.\n",
    "\n",
    "## Prerequisites\n",
    "\n",
    "1. You need to install _sevenbridges-python_ library. Library details are available [here](http://sevenbridges-python.readthedocs.io/en/latest/sevenbridges/)\n",
    "\n",
    "    The easiest way to install sevenbridges-python is using pip:\n",
    "\n",
    "       $ pip install sevenbridges-python\n",
    "\n",
    "    Alternatively, you can get the code. sevenbridges-python is actively developed on GitHub, where the [code](https://github.com/sbg/sevenbridges-python) is always available. To clone the public repository :\n",
    "\n",
    "        $ git clone git://github.com/sbg/sevenbridges-python.git\n",
    "\n",
    "    Once you have a copy of the source, you can embed it in your Python\n",
    "    package, or install it into your site-packages by invoking:\n",
    "\n",
    "        $ python setup.py install\n",
    "\n",
    "2. You need your _authentication token_ which you can get [here](https://igor.sbgenomics.com/developer/token)\n",
    "\n",
    " \n",
    "### Notes and Compatibility\n",
    "\n",
    "Python package is intended to be used with Python 3.6+ versions."
   ]
  },
  {
   "cell_type": "code",
   "execution_count": null,
   "metadata": {
    "collapsed": false,
    "deletable": true,
    "editable": true,
    "jupyter": {
     "outputs_hidden": false
    }
   },
   "outputs": [],
   "source": [
    "# Import the library\n",
    "import sevenbridges as sbg"
   ]
  },
  {
   "cell_type": "markdown",
   "metadata": {
    "deletable": true,
    "editable": true
   },
   "source": [
    "### Initialize the library\n",
    "\n",
    "You can initialize the library explicitly or by supplying the necessary information in the $HOME/.sevenbridges/credentials file\n",
    "\n",
    "There are generally three ways to initialize the library:\n",
    " 1. Explicitly, when calling api constructor, like:\n",
    "   ``` python\n",
    "   api = sbg.Api(url='https://api.sbgenomics.com/v2', token='MY AUTH TOKEN')\n",
    "   ```\n",
    "  \n",
    " 2. By using OS environment to store the url and authentication token\n",
    "   ```\n",
    "      export AUTH_TOKEN=<MY AUTH TOKEN>\n",
    "      export API_ENDPOINT='https://api.sbgenomics.com/v2'\n",
    "   ```\n",
    " 3. By using ini file $HOME/.sevenbridges/credentials (for MS Windows, the file should be located in \\%UserProfile\\%.sevenbridges\\credentials) and specifying a profile to use. The format of the credentials file is standard ini file format, as shown below:\n",
    "\n",
    "   ```bash\n",
    "    [sbpla]\n",
    "    api_endpoint = https://api.sbgenomics.com/v2\n",
    "    auth_token = 700992f7b24a470bb0b028fe813b8100\n",
    "\n",
    "    [cgc]\n",
    "    api_endpoint = https://cgc-api.sbgenomics.com/v2\n",
    "    auth_token = 910975f5b24a470bb0b028fe813b8100\n",
    "   ```\n",
    "  \n",
    "    0. to **create** this file<sup>1</sup>, use the following steps in your _Terminal_:\n",
    "    1.\n",
    "       ```bash\n",
    "       cd ~\n",
    "       mkdir .sevenbridges\n",
    "       touch .sevenbridges/credentials\n",
    "       vi .sevenbridges/credentials\n",
    "       ```\n",
    "    2. Press \"i\" then enter to go into **insert mode**\n",
    "    3. write the text above for each environment. \n",
    "    4. Press \"ESC\" then type \":wq\" to save the file and exit vi\n",
    "  \n",
    "<sup>1</sup> If the file already exists, omit the _touch_ command"
   ]
  },
  {
   "cell_type": "markdown",
   "metadata": {
    "deletable": true,
    "editable": true
   },
   "source": [
    "### Test if you have stored the token correctly\n",
    "Below are the three options presented above, test **one** of them. Logically, if you have only done **Step 3**, then testing **Step 2** will return an error."
   ]
  },
  {
   "cell_type": "code",
   "execution_count": null,
   "metadata": {
    "collapsed": false,
    "deletable": true,
    "editable": true,
    "jupyter": {
     "outputs_hidden": false
    }
   },
   "outputs": [],
   "source": [
    "# (1.) You can also instantiate library by explicitly \n",
    "#    specifying API url and authentication token\n",
    "api_explicitly = sbg.Api(url='https://api.sbgenomics.com/v2',\n",
    "                         token='<MY TOKEN HERE>')\n",
    "api_explicitly.users.me()"
   ]
  },
  {
   "cell_type": "code",
   "execution_count": null,
   "metadata": {
    "collapsed": false,
    "deletable": true,
    "editable": true,
    "jupyter": {
     "outputs_hidden": false
    }
   },
   "outputs": [],
   "source": [
    "# (2.) If you have not specified profile, the python-sbg library \n",
    "#   will search for configuration in the environment\n",
    "c = sbg.Config()\n",
    "api_via_environment = sbg.Api(config=c)\n",
    "api_via_environment.users.me()"
   ]
  },
  {
   "cell_type": "code",
   "execution_count": null,
   "metadata": {
    "collapsed": false,
    "deletable": true,
    "editable": true,
    "jupyter": {
     "outputs_hidden": false
    }
   },
   "outputs": [],
   "source": [
    "# (3.) If you have credentials setup correctly, you only need to specify the profile\n",
    "config_file = sbg.Config(profile='sbpla')\n",
    "api_via_ini_file = sbg.Api(config=config_file)\n",
    "api_via_ini_file.users.me()"
   ]
  },
  {
   "cell_type": "markdown",
   "metadata": {
    "deletable": true,
    "editable": true
   },
   "source": [
    "#### PROTIP\n",
    "* We _recommend_ the approach with configuration file (the **.sevenbridges/credentials** file in option #3), especially if you are using multiple environments (like SBPLA and CGC)."
   ]
  }
 ],
 "metadata": {
  "kernelspec": {
   "display_name": "Python 3",
   "language": "python",
   "name": "python3"
  },
  "language_info": {
   "codemirror_mode": {
    "name": "ipython",
    "version": 3
   },
   "file_extension": ".py",
   "mimetype": "text/x-python",
   "name": "python",
   "nbconvert_exporter": "python",
   "pygments_lexer": "ipython3",
   "version": "3.8.3"
  }
 },
 "nbformat": 4,
 "nbformat_minor": 4
}
