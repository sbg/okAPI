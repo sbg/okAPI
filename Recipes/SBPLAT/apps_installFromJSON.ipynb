{
 "cells": [
  {
   "cell_type": "markdown",
   "metadata": {
    "deletable": true,
    "editable": true
   },
   "source": [
    "# How do I create an _app_ from a CWL JSON?\n",
    "## Overview\n",
    "You can upload any app to the Platform using its raw [Common Workflow Language](http://www.commonwl.org/) description written in JSON or YAML. \n",
    "\n",
    "## Objective\n",
    "We'll **upload an app** to a project from its raw CWL. [[reference](http://docs.sevenbridges.com/docs/add-an-app-using-raw-cwl)]\n",
    "\n",
    "## Procedure\n",
    "\n",
    " 1. We'll start by creating a new project.\n",
    " 2. Next, we'll check that there are no apps in our new project.\n",
    " 3. Then, we'll upload our app using raw CWL.\n",
    " 4. Lastly, we'll check that our new app exists.\n",
    "\n",
    "### Prerequisites\n",
    " 1. You need your **authentication token** and the API needs to know about it. See <a href=\"Setup_API_environment.ipynb\">Setup_API_environment.ipynb</a> for details. Learn more about [obtaining your authentication token](http://docs.sevenbridges.com/v1.0/docs/get-your-authentication-token).\n",
    " 2. You have a **properly formatted** CWL description in a JSON or YAML file.\n",
    " 3. You understand how to list projects of which you are a member. We will use this call to check that the new project we will create does not already exist. [[recipe](projects_listAll.ipynb)] [[reference](http://docs.sevenbridges.com/docs/list-all-your-projects)]\n",
    " 4. You undersand how to create a new project [[recipe](projects_MakeNew.ipynb)] [[reference](http://docs.sevenbridges.com/docs/create-a-new-project)]\n",
    " 4. You understand how to list apps in your project. We will first use this to check there are no apps in your project. Then, we will use this request again later to check you have successfully uploaded your new app to your project. [[recipe](apps_listAll.ipynb)] [[reference](http://docs.sevenbridges.com/docs/list-all-apps-available-to-you)]\n",
    " \n",
    "Note that as with all okAPI recipes, this recipe makes use of the [Seven Bridges Public API Python library](../Tutorials/SBPLAT/Setup_API_environment.ipynb).\n",
    "\n",
    " \n",
    "## Imports\n",
    "We import the `Api` class from the official `sevenbridges-python` bindings below."
   ]
  },
  {
   "cell_type": "code",
   "execution_count": null,
   "metadata": {
    "deletable": true,
    "editable": true
   },
   "outputs": [],
   "source": [
    "import sevenbridges as sbg"
   ]
  },
  {
   "cell_type": "markdown",
   "metadata": {
    "deletable": true,
    "editable": true
   },
   "source": [
    "## Initialize the object\n",
    "The `Api` object needs to know your **auth\\_token** and the correct path. Here we assume you are using the credentials file in your home directory. For other options see <a href=\"Setup_API_environment.ipynb\">Setup_API_environment.ipynb</a>"
   ]
  },
  {
   "cell_type": "code",
   "execution_count": null,
   "metadata": {
    "deletable": true,
    "editable": true
   },
   "outputs": [],
   "source": [
    "# [USER INPUT] specify credentials file profile {cgc, sbg, default}\n",
    "prof = 'default'\n",
    "\n",
    "config_file = sbg.Config(profile=prof)\n",
    "api = sbg.Api(config=config_file)"
   ]
  },
  {
   "cell_type": "markdown",
   "metadata": {
    "deletable": true,
    "editable": true
   },
   "source": [
    "## Create a new project\n",
    "To avoid any copy-errors with the app, we will make a new project. First, we'll check if our new project's name is already taken. If this project name already exists, the code below will raise an interupt and fail. Be _creative_ with your project names, it's something you will look back on and laugh. Then, we create our new project\n",
    "\n",
    "#### PROTIPS\n",
    "This next cell is more extensively detailed in the following: [[recipe](projects_makeNew.ipynb)] [[reference](http://docs.sevenbridges.com/docs/create-a-new-project)]."
   ]
  },
  {
   "cell_type": "code",
   "execution_count": null,
   "metadata": {
    "collapsed": false,
    "deletable": true,
    "editable": true,
    "jupyter": {
     "outputs_hidden": false
    }
   },
   "outputs": [],
   "source": [
    "# [USER INPUT] Set project name and billing group index here:\n",
    "new_project_name = 'Shiny and new2'                          \n",
    "index_billing = -1   \n",
    "\n",
    "\n",
    "# Check if this project already exists. LIST all projects and check for name match\n",
    "my_project = api.projects.query(name=new_project_name)     \n",
    "              \n",
    "if my_project:    # exploit fact that empty list is False, {list, tuple, etc} is True\n",
    "    print('A project named {} exists, please choose a unique name'\n",
    "          .format(new_project_name))\n",
    "    raise KeyboardInterrupt\n",
    "else:\n",
    "    # Create a new project\n",
    "    # What are my funding sources?\n",
    "    billing_groups = api.billing_groups.query()  \n",
    "    print((billing_groups[index_billing].name + \\\n",
    "           ' will be charged for computation and storage (if applicable)'))\n",
    "\n",
    "    # Set up the information for your new project\n",
    "    new_project = {\n",
    "            'billing_group': billing_groups[index_billing].id,\n",
    "            'description': \"\"\"A project created by the API recipe (apps_installFromJSON).\n",
    "                          This also supports **markdown**\n",
    "                          _Pretty cool_, right?\n",
    "                       \"\"\",\n",
    "            'name': new_project_name\n",
    "    }\n",
    "\n",
    "    my_project = api.projects.create(\n",
    "        name = new_project['name'], billing_group = new_project['billing_group'], \n",
    "        description = new_project['description']\n",
    "    )\n",
    "    \n",
    "    # (re)list all projects, and get your new project\n",
    "    my_project = [p for p in api.projects.query(limit=100).all() \n",
    "              if p.name == new_project_name][0]\n",
    "\n",
    "    print('Your new project {} has been created.'.format(\n",
    "        my_project.name))\n",
    "    # Print description if it exists\n",
    "    if hasattr(my_project, 'description'): \n",
    "        print('Project description: \\n {}'.format(my_project.description)) "
   ]
  },
  {
   "cell_type": "markdown",
   "metadata": {
    "deletable": true,
    "editable": true
   },
   "source": [
    "## Sanity-check: do I have any apps in my new project?\n",
    "Since you have just created the project, there will be no **Files**, **Apps**, or **Tasks** in it. But just to be sure, let's query the apps in our project.\n",
    "\n",
    "#### PROTIPS\n",
    "This next cell is more extensively detailed in the following: [[recipe](apps_listAll.ipynb)] [[reference](http://docs.sevenbridges.com/docs/list-all-apps-available-to-you)]."
   ]
  },
  {
   "cell_type": "code",
   "execution_count": null,
   "metadata": {
    "collapsed": false,
    "deletable": true,
    "editable": true,
    "jupyter": {
     "outputs_hidden": false
    }
   },
   "outputs": [],
   "source": [
    "# List the apps in my project    \n",
    "my_apps = api.apps.query(project = my_project.id, limit=100)\n",
    "print('In project {}, you have {} apps.'.format(\n",
    "    my_project.name, my_apps.total))"
   ]
  },
  {
   "cell_type": "markdown",
   "metadata": {
    "deletable": true,
    "editable": true
   },
   "source": [
    "## Upload the JSON\n",
    "We've pre-loaded a JSON for you in the **/app_jsons/** folder. We use the **json** library to manage the formatting. Here you should choose an *app\\_id*. You can name this whatever you like, but please do _not_ use the same ID twice. If you do, your call will **fail** with _\"Conflict: Requested app/revision already exists.\"_\n",
    "\n",
    "Finally, we will list the apps in the project once more to check that it has sucessfully uploaded."
   ]
  },
  {
   "cell_type": "code",
   "execution_count": null,
   "metadata": {
    "collapsed": false,
    "deletable": true,
    "editable": true,
    "jupyter": {
     "outputs_hidden": false
    }
   },
   "outputs": [],
   "source": [
    "# [USER INPUT] Specify the ID to assign to your app:\n",
    "app_id = '/my-samtools-view'\n",
    "\n",
    "\n",
    "#Load the Application JSONs\n",
    "import json\n",
    "\n",
    "f = open('app_jsons/samtools-view.json', 'r')\n",
    "app_raw = f.read()\n",
    "app = json.loads(app_raw)\n",
    "\n",
    "# Create the Workflows\n",
    "a_id = (my_project.id + app_id)\n",
    "my_app_first = api.apps.install_app(id=a_id, raw=app)\n",
    "\n",
    "# List the apps in my project    \n",
    "my_apps = api.apps.query(project=my_project.id, limit=100)\n",
    "print('In project {}, you have {} apps.'.format(\n",
    "    my_project.name, my_apps.total))\n",
    "\n",
    "for a in my_apps.all(): \n",
    "    print('App name is {}; \\t App id: {}\\n'.format(\n",
    "        a.name, a.id))"
   ]
  },
  {
   "cell_type": "markdown",
   "metadata": {
    "deletable": true,
    "editable": true
   },
   "source": [
    "## Additional Information\n",
    "Detailed documentation of this particular REST architectural style request is available [here](http://docs.sevenbridges.com/docs/add-an-app-using-raw-cwl)."
   ]
  }
 ],
 "metadata": {
  "kernelspec": {
   "display_name": "Python 3",
   "language": "python",
   "name": "python3"
  },
  "language_info": {
   "codemirror_mode": {
    "name": "ipython",
    "version": 3
   },
   "file_extension": ".py",
   "mimetype": "text/x-python",
   "name": "python",
   "nbconvert_exporter": "python",
   "pygments_lexer": "ipython3",
   "version": "3.8.3"
  }
 },
 "nbformat": 4,
 "nbformat_minor": 4
}
