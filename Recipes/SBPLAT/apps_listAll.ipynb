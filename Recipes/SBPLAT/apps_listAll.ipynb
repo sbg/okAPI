{
 "cells": [
  {
   "cell_type": "markdown",
   "metadata": {
    "deletable": true,
    "editable": true
   },
   "source": [
    "# Which _apps_ are in my project?\n",
    "## Overview\n",
    "You can lists all apps available to you on the Platform. By default, all of the apps within your project(s) are returned to you. You can also choose to only list the apps within a specific project. Conversely, you can set the parameter `visibility=public` to list all apps available to you from the Seven Bridges' [Public Apps repository](http://docs.sevenbridges.com/v1.0/docs/public-apps) of tools and workflows. \n",
    "\n",
    "More generally, as with any **list**-type call, we will get minimal information about each app. There are two versions of this call:\n",
    "\n",
    " 1. (default) A **paginated** call that will return 50 apps.\n",
    " 2. An **all-records** call that will page through and return all apps.\n",
    "\n",
    "## Objective\n",
    "Here we focus on **listing all apps within one project**. [[reference](http://docs.sevenbridges.com/docs/list-all-apps-available-to-you)]\n",
    "\n",
    "## Procedure\n",
    "1. We'll list all our projects.\n",
    "2. Then, we'll list the apps within the first project on the list generated above.\n",
    "3. Lastly, we'll list all apps within any of our projects by not specifying a project ID in our request.\n",
    "\n",
    "## Prerequisites\n",
    " 1. You need to be a member (or owner) of at least one project. Learn more about creating a new project. [[recipe](projects_makeNew.ipynb)] [[reference](http://docs.sevenbridges.com/docs/create-a-new-project)].\n",
    " 2. You need your **authentication token** and the API needs to know about it. See <a href=\"Setup_API_environment.ipynb\">Setup_API_environment.ipynb</a> for details. Learn more about [obtaining your authentication token](http://docs.sevenbridges.com/v1.0/docs/get-your-authentication-token).\n",
    " 3. You understand how to list projects of which you are a member. We will use this call directly to select a project below. [[recipe](projects_listAll.ipynb)] [[reference](http://docs.sevenbridges.com/docs/list-all-your-projects)]\n",
    " 4. You have at least one app in your selected project. If not, you can copy one from the Public Apps repository. [[recipe](apps_copyFromPublicApps.ipynb)] [[reference](http://docs.sevenbridges.com/docs/copy-an-app)]\n",
    "\n",
    "Note that as with all okAPI recipes, this recipe makes use of the [Seven Bridges Public API Python library](../Tutorials/SBPLAT/Setup_API_environment.ipynb).\n",
    "  \n",
    "## Imports\n",
    "We import the `Api` class from the official `sevenbridges-python` bindings below."
   ]
  },
  {
   "cell_type": "code",
   "execution_count": null,
   "metadata": {
    "deletable": true,
    "editable": true
   },
   "outputs": [],
   "source": [
    "import sevenbridges as sbg"
   ]
  },
  {
   "cell_type": "markdown",
   "metadata": {
    "deletable": true,
    "editable": true
   },
   "source": [
    "## Initialize the object\n",
    "The `Api` object needs to know your **auth\\_token** and the correct path. Here we assume you are using the credentials file in your home directory. For other options see <a href=\"Setup_API_environment.ipynb\">Setup_API_environment.ipynb</a>"
   ]
  },
  {
   "cell_type": "code",
   "execution_count": null,
   "metadata": {
    "deletable": true,
    "editable": true
   },
   "outputs": [],
   "source": [
    "# [USER INPUT] specify credentials file profile {cgc, sbg, default}\n",
    "prof = 'default'\n",
    "\n",
    "config_file = sbg.Config(profile=prof)\n",
    "api = sbg.Api(config=config_file)"
   ]
  },
  {
   "cell_type": "markdown",
   "metadata": {
    "deletable": true,
    "editable": true
   },
   "source": [
    "## List all apps within a project\n",
    "Here we can return the apps in a specific project or all the apps in projects of which you are a member. A **list**-call for apps returns the following useful *attributes*:\n",
    "* **`id`,** the *unique* identifier for each app, including the latest version number\n",
    "* **`name`,** the name of the app, which maybe _non-unique_\n",
    "* **`project`,** the project the app is in.\n",
    "* **`href`,** the address<sup>1</sup> of the app.\n",
    "\n",
    "<sup>1</sup> This is the address where, by using API, you can get this resource"
   ]
  },
  {
   "cell_type": "markdown",
   "metadata": {
    "deletable": true,
    "editable": true
   },
   "source": [
    "By passing a `project_id` into the `api.apps.query()` below, we will get the apps **inside that project**."
   ]
  },
  {
   "cell_type": "code",
   "execution_count": null,
   "metadata": {
    "collapsed": false,
    "deletable": true,
    "editable": true,
    "jupyter": {
     "outputs_hidden": false
    }
   },
   "outputs": [],
   "source": [
    "# [USER INPUT] Set project name:\n",
    "# Note that you can have multiple apps or projects with the same name. It is best practice to reference entities by ID.\n",
    "project_name = 'test shellquote'\n",
    "\n",
    "\n",
    "# LIST all projects and check for name match\n",
    "my_project = api.projects.query(limit=100, name=project_name)\n",
    "\n",
    "if not my_project:    # exploit fact that empty list is False, {list, tuple, etc} is True\n",
    "    print('The project named (%s) does not exist, please check spelling (especially trailing spaces)' \\\n",
    "          % project_name)\n",
    "    raise KeyboardInterrupt\n",
    "else:\n",
    "    my_project = my_project[0]\n",
    "    \n",
    "    # list the apps in my project    \n",
    "    my_apps = api.apps.query(project=my_project.id, limit=100)\n",
    "    print('   In project {}, you have {} apps.'.format(\n",
    "        my_project.name, my_apps.total))\n",
    "\n",
    "    for a in my_apps.all(): \n",
    "        print('App name: {}; \\t App id: {}\\n'.format(\n",
    "            a.name, a.id))"
   ]
  },
  {
   "cell_type": "markdown",
   "metadata": {
    "deletable": true,
    "editable": true
   },
   "source": [
    "By **not** passing a `project_id` into the `api.apps.query()` below, we will get all the apps for **any project** of which you are a member."
   ]
  },
  {
   "cell_type": "code",
   "execution_count": null,
   "metadata": {
    "collapsed": false,
    "deletable": true,
    "editable": true,
    "jupyter": {
     "outputs_hidden": false
    }
   },
   "outputs": [],
   "source": [
    "# list the app in ALL your projects.\n",
    "my_apps_all_projects = api.apps.query(limit=100)\n",
    "\n",
    "print('   In ALL your projects, you have {} apps.'.format(\n",
    "    my_apps_all_projects.total))\n",
    "\n",
    "for a in my_apps_all_projects.all(): \n",
    "    print('App name: {}; \\t App id: {}\\n'.format(\n",
    "        a.name, a.id))"
   ]
  },
  {
   "cell_type": "markdown",
   "metadata": {
    "deletable": true,
    "editable": true
   },
   "source": [
    "## Additional Information\n",
    "Detailed documentation of this particular REST architectural style request is available [here](http://docs.sevenbridges.com/docs/list-all-apps-available-to-you)."
   ]
  }
 ],
 "metadata": {
  "kernelspec": {
   "display_name": "Python 3",
   "language": "python",
   "name": "python3"
  },
  "language_info": {
   "codemirror_mode": {
    "name": "ipython",
    "version": 3
   },
   "file_extension": ".py",
   "mimetype": "text/x-python",
   "name": "python",
   "nbconvert_exporter": "python",
   "pygments_lexer": "ipython3",
   "version": "3.8.3"
  }
 },
 "nbformat": 4,
 "nbformat_minor": 4
}
