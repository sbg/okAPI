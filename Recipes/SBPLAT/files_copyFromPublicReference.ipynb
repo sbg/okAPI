{
 "cells": [
  {
   "cell_type": "markdown",
   "metadata": {
    "deletable": true,
    "editable": true
   },
   "source": [
    "# How do I _copy_ a file from the _Public Reference_ files?\n",
    "### Overview\n",
    "Files can be copied from other projects you are a member of or from the public reference files page. Here we focus on copying a file from _public reference files_ page.\n",
    "\n",
    "### Prerequisites\n",
    " 1. You need to be a member (or owner) of _at least one_ project.\n",
    " 2. You need your _authentication token_ and the API needs to know about it. See <a href=\"Setup_API_environment.ipynb\">**Setup_API_environment.ipynb**</a> for details.\n",
    " 3. You understand how to <a href=\"projects_listAll.ipynb\" target=\"_blank\">list</a> projects you are a member of (we will just use that call directly and pick one here).\n",
    " \n",
    "## Imports\n",
    "We import the _Api_ class from the official sevenbridges-python bindings below."
   ]
  },
  {
   "cell_type": "code",
   "execution_count": null,
   "metadata": {
    "deletable": true,
    "editable": true
   },
   "outputs": [],
   "source": [
    "import sevenbridges as sbg"
   ]
  },
  {
   "cell_type": "markdown",
   "metadata": {
    "deletable": true,
    "editable": true
   },
   "source": [
    "## Initialize the object\n",
    "The `Api` object needs to know your **auth\\_token** and the correct path. Here we assume you are using the credentials file in your home directory. For other options see <a href=\"Setup_API_environment.ipynb\">Setup_API_environment.ipynb</a>"
   ]
  },
  {
   "cell_type": "code",
   "execution_count": null,
   "metadata": {
    "deletable": true,
    "editable": true
   },
   "outputs": [],
   "source": [
    "# [USER INPUT] specify platform {cgc, sbpla, etc}\n",
    "prof = 'sbpla'\n",
    "\n",
    "\n",
    "config_file = sbg.Config(profile=prof)\n",
    "api = sbg.Api(config=config_file)"
   ]
  },
  {
   "cell_type": "markdown",
   "metadata": {
    "deletable": true,
    "editable": true
   },
   "source": [
    "## Copy a file from the Public Reference\n",
    "We will first find our _source\\_project_ (the Public Reference Files), then list the files within the source project<sup>1</sup>, and copy a file from **_source\\_project_ -> _my\\_project_**.\n",
    "\n",
    "The critical information for this POST is the **file_id**. Note, you are allow to copy the same file as many times as you like. However, duplicates will be automatically have a prefix attached of (\\_1\\_, \\_2\\_, etc) depending on how many times you copy the file.\n",
    "\n",
    "To make these results very obvious, use an empty project as your MY\\_PROJECT (e.g. your <a href=projects_makeNew.ipynb> cookbook example project</a>) or change the _name_ in the _data_ dictionary to something like 'Dept of Awesome.copy'\n",
    "\n",
    "<sup>1</sup> Files are only accessible **within** a project - here the Public Reference project (**warning** we may change this project id in the future)."
   ]
  },
  {
   "cell_type": "code",
   "execution_count": null,
   "metadata": {
    "collapsed": false,
    "deletable": true,
    "editable": true,
    "jupyter": {
     "outputs_hidden": false
    }
   },
   "outputs": [],
   "source": [
    "# [USER INPUT] Set your project name; and files to copy here:\n",
    "# Note that you can have multiple apps or projects with the same name. It is best practice to reference entities by ID.\n",
    "my_project_name = 'Shiny and new'     \n",
    "files_list = ['example_human_Illumina.pe_1.fastq',\n",
    "             'example_human_Illumina.pe_2.fastq']\n",
    "\n",
    "# Public reference and test files on the platform are available in the same project 'admin/sbg-public-data'\n",
    "source_project_id = 'admin/sbg-public-data'   \n",
    "\n",
    "# Double-check that your project exists\n",
    "my_project = [p for p in api.projects.query(limit=100).all()\n",
    "                  if p.name == my_project_name]\n",
    "if not my_project:\n",
    "    print('Your project (%s) not found, check spelling' % my_project_name)\n",
    "    raise KeyboardInterrupt\n",
    "else:\n",
    "    my_project = my_project[0]\n",
    "    \n",
    "# LIST all file names in your project and file objects from source project\n",
    "# Note that listing files in a project does not list subfolders\n",
    "my_file_names = [f.name for f in \n",
    "    api.files.query(limit=100, project=my_project).all()]\n",
    "\n",
    "source_files = api.files.query(\n",
    "    limit=100, project=source_project_id, names=files_list\n",
    ")\n",
    "\n",
    "if not source_files:\n",
    "    print('Source files not found, check spelling and project id')\n",
    "    raise KeyboardInterrupt\n",
    "    \n",
    "# Copy files if they don't already exist in my_project\n",
    "for f in source_files:\n",
    "    if f.name in my_file_names:\n",
    "        print('File {} already exists in second project, skipping'.format(f.name))\n",
    "    else:\n",
    "        print('File {} does not exist in {}; copying now'.format(\n",
    "              f.name, my_project.name))\n",
    "\n",
    "        new_file = f.copy(project=my_project, name=f.name)\n",
    "\n",
    "        # re-list files in target project to verify the copy worked\n",
    "        my_files = [f.name for f in api.files.query(\n",
    "                limit=100,project=my_project).all()]\n",
    "\n",
    "        if f.name in my_files:\n",
    "            print('Sucessfully copied one file!')\n",
    "        else:\n",
    "            print('Something went wrong...')"
   ]
  },
  {
   "cell_type": "markdown",
   "metadata": {
    "deletable": true,
    "editable": true
   },
   "source": [
    "## Additional Information\n",
    "Detailed documentation of this particular REST architectural style request is available [here](http://docs.sevenbridges.com/docs/copy-a-file)"
   ]
  }
 ],
 "metadata": {
  "kernelspec": {
   "display_name": "Python 3",
   "language": "python",
   "name": "python3"
  },
  "language_info": {
   "codemirror_mode": {
    "name": "ipython",
    "version": 3
   },
   "file_extension": ".py",
   "mimetype": "text/x-python",
   "name": "python",
   "nbconvert_exporter": "python",
   "pygments_lexer": "ipython3",
   "version": "3.8.3"
  }
 },
 "nbformat": 4,
 "nbformat_minor": 4
}
