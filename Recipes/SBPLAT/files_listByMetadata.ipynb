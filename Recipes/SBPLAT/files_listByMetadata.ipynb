{
 "cells": [
  {
   "cell_type": "markdown",
   "metadata": {
    "deletable": true,
    "editable": true
   },
   "source": [
    "# How do I get a list of all files that _match_ a particular metadata _property_?\n",
    "\n",
    "### Overview\n",
    "Here we focus on listing all files within a single project that **match** a particular metadata property. One _use-case_ which will benefit greatly from this is:\n",
    "\n",
    " * I have _hundreds_ of files in my project\n",
    " * I want to run a task(s) which only uses _type X_ files\n",
    " * I want to query all _type X_ files with one call\n",
    "\n",
    "Our prior examples of doing this (e.g. the _Organizing files into a Cohort_ cells [here](https://github.com/sbg/okAPI/blob/advanced_access/Tutorials/CGC/batch_SAMtoolsView.ipynb) followed the general strategy of:\n",
    "\n",
    " 1. List all the files (n = _N_)\n",
    " 2. Loop through the list\n",
    " 3. Split off the file extension and see if it's _feasible_\n",
    " 4. Get the metadata of any feasible files (as [here](files_detailOne.ipynb))\n",
    " 5. If the property matches, add it to a _list_ of files to process\n",
    "\n",
    "This works, but will result in up to **_N_+1 API calls**. Here we will show how to do this with only **one API** call and show the speed improvement. If you run this code in the next ten minutes, we'll include the **special bonus** of searching for files using a list of names!\n",
    "\n",
    "### Prerequisites\n",
    " 1. You need your _authentication token_ and the API needs to know about it. See <a href=\"Setup_API_environment.ipynb\">**Setup_API_environment.ipynb**</a> for details.\n",
    " 2. You understand how to <a href=\"projects_listAll.ipynb\" target=\"_blank\">list</a> projects you are a member of (we will just use that call directly and pick one here).\n",
    " 3. You have already cloned the Public Project _Cancer Cell Line Encyclopedia (CCLE)_.\n",
    " \n",
    "## Imports\n",
    "We import the _Api_ class from the official sevenbridges-python bindings below."
   ]
  },
  {
   "cell_type": "code",
   "execution_count": null,
   "metadata": {
    "collapsed": false,
    "deletable": true,
    "editable": true,
    "jupyter": {
     "outputs_hidden": false
    }
   },
   "outputs": [],
   "source": [
    "import sevenbridges as sbg"
   ]
  },
  {
   "cell_type": "markdown",
   "metadata": {
    "deletable": true,
    "editable": true
   },
   "source": [
    "## Initialize the object\n",
    "The `Api` object needs to know your **auth\\_token** and the correct path. Here we assume you are using the credentials file in your home directory. For other options see <a href=\"Setup_API_environment.ipynb\">Setup_API_environment.ipynb</a>"
   ]
  },
  {
   "cell_type": "code",
   "execution_count": null,
   "metadata": {
    "deletable": true,
    "editable": true
   },
   "outputs": [],
   "source": [
    "# [USER INPUT] specify platform {cgc, sbpla, etc}\n",
    "prof = 'sbpla'\n",
    "\n",
    "\n",
    "config_file = sbg.Config(profile=prof)\n",
    "api = sbg.Api(config=config_file)"
   ]
  },
  {
   "cell_type": "markdown",
   "metadata": {
    "deletable": true,
    "editable": true
   },
   "source": [
    "## Search by metadata\n",
    "This is the **optimal** way to query files matching a particular metadata. Here, we check two (hard-coded) metadata properties. It's possible to check as many as you'd like. We are going to use _Copy of Cancer Cell Line Encyclopedia (CCLE)_ which is a nice big project with **2555** files."
   ]
  },
  {
   "cell_type": "code",
   "execution_count": null,
   "metadata": {
    "collapsed": false,
    "deletable": true,
    "editable": true,
    "jupyter": {
     "outputs_hidden": false
    }
   },
   "outputs": [],
   "source": [
    "# [USER INPUT] Set metadata properties and values here; set project name\n",
    "# Note that you can have multiple apps or projects with the same name. It is best practice to reference entities by ID.\n",
    "project_name = 'Copy of Cancer Cell Line Encyclopedia (CCLE)'\n",
    "metadata_to_match = {'experimental_strategy': 'WXS',\n",
    "                     'platform':'Illumina'}\n",
    "\n",
    "# Find project\n",
    "my_project = [p for p in api.projects.query(limit=100).all()\n",
    "              if p.name == project_name]\n",
    "\n",
    "if not my_project:  #    empty list is False, {list, tuple, etc} is True\n",
    "    print('Target project ({}) not found, please check spelling'.format(project_name))\n",
    "    raise KeyboardInterrupt\n",
    "else:\n",
    "    my_project = my_project[0]\n",
    "    my_project = api.projects.get(id=my_project.id)\n",
    "\n",
    "# How many files do we have?\n",
    "my_files = api.files.query(project = my_project)\n",
    "print('There are {} files in your project'.format(my_files.total))\n",
    "\n",
    "# Query by metadata\n",
    "my_matched_files = api.files.query(\n",
    "    project=my_project, limit=100, \n",
    "    metadata=metadata_to_match)\n",
    " \n",
    "print(\"\"\"\n",
    "There are {} files matching the metadata criteria.\n",
    "This is {} percent of the dataset.\n",
    "\"\"\".format(my_matched_files.total,\n",
    "              100*(my_matched_files.total/my_files.total)))"
   ]
  },
  {
   "cell_type": "markdown",
   "metadata": {
    "deletable": true,
    "editable": true
   },
   "source": [
    "## Additional Information\n",
    "Detailed documentation of this particular REST architectural style request is available [here](http://docs.cancergenomicscloud.org/docs/list-files-in-a-project)"
   ]
  }
 ],
 "metadata": {
  "kernelspec": {
   "display_name": "Python 3",
   "language": "python",
   "name": "python3"
  },
  "language_info": {
   "codemirror_mode": {
    "name": "ipython",
    "version": 3
   },
   "file_extension": ".py",
   "mimetype": "text/x-python",
   "name": "python",
   "nbconvert_exporter": "python",
   "pygments_lexer": "ipython3",
   "version": "3.8.3"
  }
 },
 "nbformat": 4,
 "nbformat_minor": 4
}
