{
 "cells": [
  {
   "cell_type": "markdown",
   "metadata": {
    "deletable": true,
    "editable": true
   },
   "source": [
    "# How can I upload a file?\n",
    "### Overview\n",
    "Here we introduce file upload via API. Specifically we will:\n",
    "\n",
    " 1. create a new project\n",
    " 2. check that there are no files\n",
    " 3. upload some files\n",
    " 4. set any metadata we like\n",
    " 5. search for the files via metadata\n",
    " \n",
    "### Prerequisites\n",
    " 1. You need your _authentication token_ and the API needs to know about it. See <a href=\"Setup_API_environment.ipynb\">**Setup_API_environment.ipynb**</a> for details.\n",
    " 3. You downloaded/cloned the whole repo so the files we will try to upload exist\n",
    " \n",
    "## Imports\n",
    "We import the _Api_ class from the official sevenbridges-python bindings below."
   ]
  },
  {
   "cell_type": "code",
   "execution_count": null,
   "metadata": {
    "deletable": true,
    "editable": true
   },
   "outputs": [],
   "source": [
    "import sevenbridges as sbg"
   ]
  },
  {
   "cell_type": "markdown",
   "metadata": {
    "deletable": true,
    "editable": true
   },
   "source": [
    "## Initialize the object\n",
    "The `Api` object needs to know your **auth\\_token** and the correct path. Here we assume you are using the credentials file in your home directory. For other options see <a href=\"Setup_API_environment.ipynb\">Setup_API_environment.ipynb</a>"
   ]
  },
  {
   "cell_type": "code",
   "execution_count": null,
   "metadata": {
    "deletable": true,
    "editable": true
   },
   "outputs": [],
   "source": [
    "# [USER INPUT] specify platform {cgc, sbpla, etc}\n",
    "prof = 'sbpla'\n",
    "\n",
    "\n",
    "config_file = sbg.Config(profile=prof)\n",
    "api = sbg.Api(config=config_file)"
   ]
  },
  {
   "cell_type": "markdown",
   "metadata": {
    "deletable": true,
    "editable": true
   },
   "source": [
    "## Create a shiny, new project\n",
    "To avoid any copy-errors with the app, we will make a new project. If this project name already exists, the code below will raise an interupt and fail. Be _creative_ with your project names, it's something you will look back on and laugh. \n",
    "\n",
    "#### PROTIPS\n",
    "This next cell is more extensively detailed in this [recipe](projects_makeNew.ipynb)"
   ]
  },
  {
   "cell_type": "code",
   "execution_count": null,
   "metadata": {
    "collapsed": false,
    "deletable": true,
    "editable": true,
    "jupyter": {
     "outputs_hidden": false
    }
   },
   "outputs": [],
   "source": [
    "# [USER INPUT] Set project name and billing group index here:\n",
    "# Note that you can have multiple apps or projects with the same name. It is best practice to reference entities by ID.\n",
    "new_project_name = 'Shiny and Newer'                          \n",
    "index_billing = -1\n",
    "\n",
    "# Check if this project already exists. LIST all projects and check for name match\n",
    "my_project = [p for p in api.projects.query(limit=100).all() \\\n",
    "              if p.name == new_project_name]      \n",
    "              \n",
    "if my_project:    # exploit fact that empty list is False\n",
    "    print('A project named {} exists, please choose a unique name'\n",
    "          .format(new_project_name))\n",
    "    raise KeyboardInterrupt\n",
    "else:\n",
    "    # Create a new project\n",
    "    # What are my funding sources?\n",
    "    billing_groups = api.billing_groups.query()  \n",
    "    print((billing_groups[index_billing].name + \\\n",
    "           ' will be charged for computation and storage (if applicable)'))\n",
    "\n",
    "    # Set up the information for your new project\n",
    "    new_project = {\n",
    "            'billing_group': billing_groups[index_billing].id,\n",
    "            'description': \"\"\"A project created by the API recipe (apps_installFromJSON).\n",
    "                          This also supports **markdown**\n",
    "                          _Pretty cool_, right?\n",
    "                       \"\"\",\n",
    "            'name': new_project_name\n",
    "    }\n",
    "\n",
    "    my_project = api.projects.create(\n",
    "        name=new_project['name'], billing_group=new_project['billing_group'], \n",
    "        description=new_project['description']\n",
    "    )\n",
    "    \n",
    "    # (re)list all projects, and get your new project\n",
    "    my_project = [p for p in api.projects.query(limit=100).all() \n",
    "              if p.name == new_project_name][0]\n",
    "\n",
    "    print('Your new project {} has been created.'.format(\n",
    "        my_project.name))\n",
    "    # Print description if it exists\n",
    "    if hasattr(my_project, 'description'): \n",
    "        print('Project description: \\n {}'.format(my_project.description)) "
   ]
  },
  {
   "cell_type": "markdown",
   "metadata": {
    "deletable": true,
    "editable": true
   },
   "source": [
    "## Sanity-check: do I have any files?\n",
    "Since you have just created the project, there will be **no** _Files_, _Apps_, or _Tasks_ in it. But just to be sure, let's query the apps in our project.\n",
    "\n",
    "#### PROTIPS\n",
    "This next cell is more extensively detailed in this [recipe](files_listAll.ipynb)"
   ]
  },
  {
   "cell_type": "code",
   "execution_count": null,
   "metadata": {
    "collapsed": false,
    "deletable": true,
    "editable": true,
    "jupyter": {
     "outputs_hidden": false
    }
   },
   "outputs": [],
   "source": [
    "my_files = api.files.query(project = my_project)\n",
    "print('In project {}, you have {} files.'.format(\n",
    "    my_project.name, my_files.total))"
   ]
  },
  {
   "cell_type": "markdown",
   "metadata": {
    "deletable": true,
    "editable": true
   },
   "source": [
    "## Upload some toy files\n",
    "Here we are using some of the recipes from the [ok, API](https://github.com/sbg/okAPI) repository. This **synchronous** upload will not return any information. Next, we set the _same metadata_ to all of the files (except one). What is really excellent about this **flexible metadata** is that it is searchable, you can use it to build tasks later. Furthermore, you can set **tags** via API. These will be visable on the GUI and via API.\n",
    "\n",
    "#### Notes:\n",
    "\n",
    " * The search by metadata function does **not** work with booleans or integers right now. This is a **known** bug so you **know** we are on it! However, I'm confident you will be able to do something clever like change True to 'True' or 1 to 'one' if you really need it\n",
    " * Alternatively, and **orders of magnitude** more slowly, you could get the metadata of each file individually and search it (including booleans and integers) in Python. An example of that is [here](files_listByMetadata.ipynb) "
   ]
  },
  {
   "cell_type": "code",
   "execution_count": null,
   "metadata": {
    "deletable": true,
    "editable": true
   },
   "outputs": [],
   "source": [
    "# [USER INPUT] file names to upload:\n",
    "file_list = ['files_listAll.ipynb',\n",
    "            'files_copyFromMyProject.ipynb',\n",
    "            'files_copyFromPublicReference.ipynb',\n",
    "            'files_detailOne.ipynb',\n",
    "            'files_upload_and_setMetadata.ipynb']\n",
    "\n",
    "for f in file_list:\n",
    "    api.files.upload(project=my_project, path=f)"
   ]
  },
  {
   "cell_type": "code",
   "execution_count": null,
   "metadata": {
    "collapsed": false,
    "deletable": true,
    "editable": true,
    "jupyter": {
     "outputs_hidden": false
    }
   },
   "outputs": [],
   "source": [
    "# List all files in the project\n",
    "my_files = api.files.query(project=my_project)\n",
    "print('In project {}, you have {} files.\\n'.format(\n",
    "    my_project.name, my_files.total))\n",
    "for f in my_files:\n",
    "    print(f.name)\n",
    "    \n",
    "# Set file metadata\n",
    "base_md = {\n",
    "    'toy_example': False,\n",
    "    'extension': 'ipynb',\n",
    "    'revision_number': 7,\n",
    "    'Hello':'Nope!'\n",
    "}\n",
    "\n",
    "# We could go through each individual file and set metadata\n",
    "# for f in my_files:\n",
    "#     f.metadata = base_md\n",
    "#     f.save()\n",
    "# But note that this means one API request for each f.save()\n",
    "\n",
    "# But it is much more efficient if it is done in bulk, we can update up to 100 files with one request\n",
    "for f in my_files:\n",
    "    f.metadata = base_md\n",
    "api.files.bulk_update(my_files)\n",
    "\n",
    "# change one file's metadata to look for it later\n",
    "f = my_files[2]\n",
    "f.metadata['Hello'] = \"is it me you're looking for?\"\n",
    "f.save()"
   ]
  },
  {
   "cell_type": "code",
   "execution_count": null,
   "metadata": {
    "collapsed": false,
    "deletable": true,
    "editable": true,
    "jupyter": {
     "outputs_hidden": false
    }
   },
   "outputs": [],
   "source": [
    "# Also set a tag on that file\n",
    "f.tags = ['example']\n",
    "f.save()"
   ]
  },
  {
   "cell_type": "code",
   "execution_count": null,
   "metadata": {
    "collapsed": false,
    "deletable": true,
    "editable": true,
    "jupyter": {
     "outputs_hidden": false
    }
   },
   "outputs": [],
   "source": [
    "# List files based on metadata\n",
    "my_matched_files = api.files.query(\n",
    "    project=my_project, \n",
    "    metadata = {'Hello' : \"is it me you're looking for?\"}\n",
    ")\n",
    "\n",
    "print('In project {}, you have {} matching files.\\n'.format(\n",
    "    my_project.name, my_matched_files.total))\n",
    "\n",
    "for f in my_matched_files:\n",
    "    print(\"\"\"File named ({}) matched search criteria. \n",
    "    File metadata is {}.\n",
    "    File tags are {}'\"\"\"\n",
    "          .format(f.name, f.metadata, f.tags))"
   ]
  },
  {
   "cell_type": "markdown",
   "metadata": {
    "deletable": true,
    "editable": true
   },
   "source": [
    "## (optional) Upload real-sized files\n",
    "Toy files are great, but are not going to rock the genomic world. What about _hundreds of Gb_? The API uploader deals with that pretty well too. However, the method above doesn't give any indications of progress, which is rather unsettling. So let's use **asynchronous uploads** with a **progress bar**.\n",
    "\n",
    "_iPython_ is **not very reliable with printing to screen**, so I would recommend using this in _Python_. (in fact, the code below **does not work**). It is _especially unreliable_ in a for loop as the progress bar from the prior upload can interfere with the current one. So here we are only showing a _single file_ (which you need bring from your own files).\n",
    "\n",
    "#### Note\n",
    "By setting\n",
    "``` python\n",
    "wait=False\n",
    "```\n",
    "we are using _ayschronous_ uploading. This also means we need to **.start()** each upload when we are ready. This is different than the prior cell where we used _synchronous_ uploads which started automatically."
   ]
  },
  {
   "cell_type": "code",
   "execution_count": null,
   "metadata": {
    "collapsed": false,
    "deletable": true,
    "editable": true,
    "jupyter": {
     "outputs_hidden": false
    }
   },
   "outputs": [],
   "source": [
    "# [USER INPUT] file to upload:\n",
    "file_name = 'heavy.sites.vcf'    # TODO: Replace with your own large, local file\n",
    "\n",
    "\n",
    "from sevenbridges.transfer.utils import simple_progress_bar\n",
    "\n",
    "upload = api.files.upload(\n",
    "    path = file_name, project = my_project, wait=False\n",
    ")\n",
    "upload.status"
   ]
  },
  {
   "cell_type": "code",
   "execution_count": null,
   "metadata": {
    "collapsed": false,
    "deletable": true,
    "editable": true,
    "jupyter": {
     "outputs_hidden": false
    }
   },
   "outputs": [],
   "source": [
    "upload.add_progress_callback(simple_progress_bar)\n",
    "upload.status\n",
    "upload.start()"
   ]
  },
  {
   "cell_type": "markdown",
   "metadata": {
    "deletable": true,
    "editable": true
   },
   "source": [
    "## Additional Information\n",
    "Detailed documentation of this particular REST architectural style request is available in this [section](http://docs.sevenbridges.com/docs/upload-files)"
   ]
  }
 ],
 "metadata": {
  "kernelspec": {
   "display_name": "Python 3",
   "language": "python",
   "name": "python3"
  },
  "language_info": {
   "codemirror_mode": {
    "name": "ipython",
    "version": 3
   },
   "file_extension": ".py",
   "mimetype": "text/x-python",
   "name": "python",
   "nbconvert_exporter": "python",
   "pygments_lexer": "ipython3",
   "version": "3.8.3"
  }
 },
 "nbformat": 4,
 "nbformat_minor": 4
}
