{
 "cells": [
  {
   "cell_type": "markdown",
   "metadata": {},
   "source": [
    "# How do I mount files from my own _cloud storage_?\n",
    "### Overview\n",
    "Connecting to cloud storage facilitates sharing and leveraging bioinformatics data that is commonly stored there (details [here](http://docs.sevenbridges.com/docs/connecting-cloud-storage-overview)). Here, we show an example of **reading** files from the _Seven Bridges Platform_ from a users _Amazon Web Services_ **bucket**. Afterwards, an **alias** to the file will be created in the user's _Seven Bridges Platform_ project.\n",
    "\n",
    "### Prerequisites\n",
    " 1. You need your _authentication token_ and the API needs to know about it. See <a href=\"Setup_API_environment.ipynb\">**Setup_API_environment.ipynb**</a> for details.\n",
    " 2. You need to have an AWS account with an S3 bucket\n",
    " 3. You have some files on this bucket, e.g. by following this [recipe](volumes_writeToCloudStorage.ipynb)\n",
    " 3. You need to be a member (or owner) of a project, e.g. by following this [recipe](projects_makeNew.ipynb)\n",
    " \n",
    "### Setting up Identity and Access Management (IAM) access \n",
    "There is a detailed tutorial to set up access to your buckets on [AWS](http://docs.sevenbridges.com/v1.0/docs/aws-cloud-storage-tutorial) or [GCP](https://docs.sevenbridges.com/docs/google-cloud-storage-gcs-volumes). \n",
    "\n",
    "## Imports\n",
    "We import the _Api_ class from the official sevenbridges-python bindings below."
   ]
  },
  {
   "cell_type": "code",
   "execution_count": null,
   "metadata": {},
   "outputs": [],
   "source": [
    "import sevenbridges as sbg"
   ]
  },
  {
   "cell_type": "markdown",
   "metadata": {},
   "source": [
    "## Initialize the object\n",
    "The `Api` object needs to know your **auth\\_token** and the correct path. Here we assume you are using the credentials file in your home directory. For other options see <a href=\"Setup_API_environment.ipynb\">Setup_API_environment.ipynb</a>"
   ]
  },
  {
   "cell_type": "code",
   "execution_count": null,
   "metadata": {},
   "outputs": [],
   "source": [
    "# [USER INPUT] specify credentials file profile {cgc, sbg, default}\n",
    "prof = 'default'\n",
    "\n",
    "config_file = sbg.Config(profile=prof)\n",
    "api = sbg.Api(config=config_file)"
   ]
  },
  {
   "cell_type": "markdown",
   "metadata": {},
   "source": [
    "## Mount the volume\n",
    "Since we have configured the IAM policy in the prior step, we can now mount the volume. Make sure to **replace** (BUCKET-NAME, INSERT ACCESS KEY ID, and INSERT SECRET ACCESS KEY) below\n",
    "\n",
    "### Warning\n",
    "You only need to mount a volume **once**. If you have already done this, then skip this cell and go to _Get details of the volume_. If you try to mount it more than once, you will get an error (likely error: `Forbidden: Could not obtain cross-write access on the service. Check the documentation.`).\n",
    "\n",
    "#### Additional information\n",
    " * Detailed documentation of this particular REST architectural style request is available [here](http://docs.sevenbridges.com/docs/create-a-volume-v2)"
   ]
  },
  {
   "cell_type": "code",
   "execution_count": null,
   "metadata": {
    "collapsed": false,
    "jupyter": {
     "outputs_hidden": false
    }
   },
   "outputs": [],
   "source": [
    "volume_import = api.volumes.create_s3_volume(\n",
    "    name='my_volume_RO', \n",
    "    bucket='BUCKET-NAME',\n",
    "    access_key_id='INSERT ACCESS KEY ID',\n",
    "    secret_access_key = 'INSERT SECRET ACCESS KEY',                             \n",
    "    access_mode='RO')"
   ]
  },
  {
   "cell_type": "markdown",
   "metadata": {},
   "source": [
    "## Get details of the volume\n",
    "Let's list all our volumes and get one volume's (`my_volume_RO`, which we have just imported in the prior cell) details to make sure it's mounted as we expected.\n",
    "\n",
    "#### Additional information\n",
    " * Detailed documentation of these particular REST architectural style request are available [here (list)](http://docs.sevenbridges.com/docs/list-volumes-v2) and [here (details)](http://docs.sevenbridges.com/docs/get-details-of-a-volume-v2)"
   ]
  },
  {
   "cell_type": "code",
   "execution_count": null,
   "metadata": {
    "collapsed": false,
    "jupyter": {
     "outputs_hidden": false
    }
   },
   "outputs": [],
   "source": [
    "# [USER INPUT] Set volume name here:\n",
    "volume_name = 'my_volume_RO'  \n",
    "\n",
    "\n",
    "all_volumes = api.volumes.query()\n",
    "\n",
    "my_volume = [v for v in all_volumes.all() \n",
    "            if v.name == volume_name]\n",
    "\n",
    "if not my_volume:\n",
    "    print('Volume {} does not exist, check name / mounting'\n",
    "          .format(volume_name))\n",
    "    raise KeyboardInterrupt\n",
    "else:\n",
    "    my_volume = my_volume[0]\n",
    "\n",
    "print(my_volume.name)\n",
    "print(dir(my_volume))"
   ]
  },
  {
   "cell_type": "markdown",
   "metadata": {},
   "source": [
    "## Set up a new project\n",
    "We will first make an empty project and verify that there are no files in it.\n",
    "\n",
    "\n",
    "#### PROTIPS\n",
    " * A detailed _recipe_ for creating projects is [here](projects_makeNew.ipynb)\n",
    " * A detailed _recipe_ for listing files is [here](files_listAll.ipynb)"
   ]
  },
  {
   "cell_type": "code",
   "execution_count": null,
   "metadata": {
    "collapsed": false,
    "jupyter": {
     "outputs_hidden": false
    }
   },
   "outputs": [],
   "source": [
    "# [USER INPUT] Set project name here:\n",
    "new_project_name = '_MCA'  \n",
    "\n",
    "\n",
    "# What are my funding sources?\n",
    "billing_groups = api.billing_groups.query()  \n",
    "\n",
    "# check if this project already exists. LIST all projects and check for name match\n",
    "my_project = [p for p in api.projects.query(limit=100).all() \\\n",
    "              if p.name == new_project_name]      \n",
    "              \n",
    "if my_project:    \n",
    "    print('A project with the name {} already exists, skipping creation'\n",
    "          .format(new_project_name))\n",
    "    my_project = my_project[0]\n",
    "else:\n",
    "    # CREATE the new project\n",
    "    new_project = {\n",
    "            'billing_group': billing_groups[-1].id,\n",
    "            'name': new_project_name,\n",
    "            'description': \"\"\"\n",
    "            A project created by the API recipe (volumes_readFromCloudStorage.ipynb).\n",
    "            This also supports **markdown**\n",
    "            _Pretty cool_, right?\n",
    "            \"\"\"\n",
    "    }\n",
    "    \n",
    "    my_project = api.projects.create(name=new_project['name'], \n",
    "                                     billing_group=new_project['billing_group'], \n",
    "                                     description=new_project['description'], \n",
    "                                     )\n",
    "    \n",
    "    # (re)list all projects, and get your new project\n",
    "    my_project = [p for p in api.projects.query(limit=100).all() \n",
    "              if p.name == new_project_name][0]\n",
    "\n",
    "    print('Your new project {} has been created.'.format(my_project.name))\n",
    "    if hasattr(my_project, 'description'):\n",
    "        print('Project description: {} \\n'.format(my_project.description)) \n",
    "        \n",
    "my_files = api.files.query(limit=100, project=my_project)\n",
    "if my_files.total == 0:\n",
    "    print('no files in the project')"
   ]
  },
  {
   "cell_type": "markdown",
   "metadata": {},
   "source": [
    "## Start an import job\n",
    "Spin up a job to import files to the _Seven Bridges Platform_ from your _Cloud Storage_ (Volume).\n",
    "\n",
    "#### PROTIPS\n",
    " * If you followed this [recipe](volumes_writeToCloudStorage.ipynb) to export files to your S3 bucket, then **you don't need to change** names in the _file\\_list_ below.\n",
    " * If not, this file_list **must be adjusted** to match your bucket.\n",
    "\n",
    "#### Additional information\n",
    " * Detailed documentation of these particular REST architectural style request are available [here](https://docs.sevenbridges.com/reference#start-a-bulk-import-job)"
   ]
  },
  {
   "cell_type": "code",
   "execution_count": null,
   "metadata": {
    "collapsed": false,
    "jupyter": {
     "outputs_hidden": false
    }
   },
   "outputs": [],
   "source": [
    "# [USER INPUT] Set S3 file names here:\n",
    "file_list = ['files_listAll.ipynb',\n",
    "            'files_copyFromMyProject.ipynb',\n",
    "            'files_copyFromPublicReference.ipynb']\n",
    "\n",
    "\n",
    "# Loop through selected files, start one job for each.\n",
    "imports=[]\n",
    "for f_name in file_list:\n",
    "    # Submit import jobs\n",
    "    imports.append({\n",
    "            'volume': volume,\n",
    "            'location': '/data/{}'.format(f_name),\n",
    "            'project': project,\n",
    "            'name': f_name,\n",
    "            'overwrite': False\n",
    "        })\n",
    "import_jobs = api.imports.bulk_submit(imports=imports)\n"
   ]
  },
  {
   "cell_type": "markdown",
   "metadata": {},
   "source": [
    "## List and detail import jobs\n",
    "The `get_imports` method will capture all import which come into my_project from my_volume\n",
    "\n",
    "#### Additional information\n",
    " * Detailed documentation of these particular REST architectural style request are available [here](http://docs.sevenbridges.com/docs/list-import-jobs-v2) and [here](https://docs.sevenbridges.com/reference#get-details-of-a-bulk-import-job)"
   ]
  },
  {
   "cell_type": "code",
   "execution_count": null,
   "metadata": {
    "collapsed": false,
    "jupyter": {
     "outputs_hidden": false
    }
   },
   "outputs": [],
   "source": [
    "import_jobs = api.imports.bulk_get(imports=imports)\n",
    "for j in import_jobs:\n",
    "    print('File {} import stated {}; it is {}'\n",
    "         .format(j.destination, j.started_on, j.state))\n",
    "print('\\n')"
   ]
  },
  {
   "cell_type": "markdown",
   "metadata": {},
   "source": []
  }
 ],
 "metadata": {
  "kernelspec": {
   "display_name": "Python 3",
   "language": "python",
   "name": "python3"
  },
  "language_info": {
   "codemirror_mode": {
    "name": "ipython",
    "version": 3
   },
   "file_extension": ".py",
   "mimetype": "text/x-python",
   "name": "python",
   "nbconvert_exporter": "python",
   "pygments_lexer": "ipython3",
   "version": "3.8.3"
  }
 },
 "nbformat": 4,
 "nbformat_minor": 4
}
