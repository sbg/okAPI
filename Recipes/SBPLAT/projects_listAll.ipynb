{
 "cells": [
  {
   "cell_type": "markdown",
   "metadata": {
    "deletable": true,
    "editable": true
   },
   "source": [
    "# What _projects_ am I a member of?\n",
    "### Overview\n",
    "There are a number of API calls related to projects. Here we focus on listing projects. As with any **list**-type call, we will get minimal information about each project. There are two versions of this call:\n",
    "\n",
    " 1. (default) **paginated** call that will return 50 projects\n",
    " 2. **all-records** call that will page through and return all projects \n",
    "\n",
    "### Prerequisites\n",
    " 1. You need to be a member (or owner) of _at least one_ project.\n",
    " 2. You need your _authentication token_ and the API needs to know about it. See <a href=\"Setup_API_environment.ipynb\">**Setup_API_environment.ipynb**</a> for details.\n",
    " \n",
    "## Imports\n",
    "We import the _Api_ class from the official sevenbridges-python bindings below."
   ]
  },
  {
   "cell_type": "code",
   "execution_count": null,
   "metadata": {
    "collapsed": false,
    "deletable": true,
    "editable": true,
    "jupyter": {
     "outputs_hidden": false
    }
   },
   "outputs": [],
   "source": [
    "import sevenbridges as sbg"
   ]
  },
  {
   "cell_type": "markdown",
   "metadata": {
    "deletable": true,
    "editable": true
   },
   "source": [
    "## Initialize the object\n",
    "The `Api` object needs to know your **auth\\_token** and the correct path. Here we assume you are using the credentials file in your home directory. For other options see <a href=\"Setup_API_environment.ipynb\">Setup_API_environment.ipynb</a>"
   ]
  },
  {
   "cell_type": "code",
   "execution_count": null,
   "metadata": {
    "deletable": true,
    "editable": true
   },
   "outputs": [],
   "source": [
    "# [USER INPUT] specify credentials file profile {cgc, sbg, default}\n",
    "prof = 'default'\n",
    "\n",
    "config_file = sbg.Config(profile=prof)\n",
    "api = sbg.Api(config=config_file)"
   ]
  },
  {
   "cell_type": "markdown",
   "metadata": {
    "deletable": true,
    "editable": true
   },
   "source": [
    "## Get _some_ projects\n",
    "We will start with the basic list call. A **list**-call for projects returns the following *attributes*:\n",
    "* **id**     _Unique_ identifier for the project, generated based on Project Name\n",
    "* **name**   Name of project specified by the user, maybe _non-unique_\n",
    "* **href**   Address<sup>1</sup> of the project.\n",
    "\n",
    "A **detail**-call for projects returns the following *attributes*:\n",
    "* **description** The user specified project description\n",
    "* **id**     _Unique_ identifier for the project, generated based on Project Name\n",
    "* **name**   Name of project specified by the user, maybe _non-unique_\n",
    "* **href**   Address<sup>1</sup> of the project.\n",
    "* **tags**   List of tags\n",
    "* **created_on** Project creation time\n",
    "* **modified_on** Project modification time\n",
    "* **created_by** User that created the project\n",
    "* **root_folder** ID of the root folder for that project\n",
    "* **billing_group** ID of the billing group for the project\n",
    "* **settings** Dictionary with project settings for storage and task execution\n",
    "\n",
    "All list API calls will feature pagination, by _default_ 50 items will be returned. We will also show how to specify a different limit and page forward and backwards.  \n",
    "\n",
    "<sup>1</sup> This is the address where, by using API you can get this resource"
   ]
  },
  {
   "cell_type": "code",
   "execution_count": null,
   "metadata": {
    "collapsed": false,
    "deletable": true,
    "editable": true,
    "jupyter": {
     "outputs_hidden": false
    }
   },
   "outputs": [],
   "source": [
    "# list (up to) 50 (this is the default for 'limit') projects\n",
    "my_projects = api.projects.query()\n",
    "\n",
    "print(' List of project ids and names:')\n",
    "for project in my_projects:\n",
    "    print('{} \\t {}'.format(project.id, project.name))"
   ]
  },
  {
   "cell_type": "code",
   "execution_count": null,
   "metadata": {
    "collapsed": false,
    "deletable": true,
    "editable": true,
    "jupyter": {
     "outputs_hidden": false
    }
   },
   "outputs": [],
   "source": [
    "# use a short query to highlight pagination\n",
    "my_projects = api.projects.query(limit=3)\n",
    "\n",
    "print('   List of first 3 project ids and names:')\n",
    "for project in my_projects:\n",
    "    print('{} \\t {}'.format(project.id, project.name))\n",
    "    \n",
    "# method to retrieve the next page of results\n",
    "next_page_of_projects = my_projects.next_page()\n",
    "\n",
    "print('\\n   List of next 3 project ids and names:')\n",
    "for project in next_page_of_projects:\n",
    "    print('{} \\t {}'.format(project.id, project.name))"
   ]
  },
  {
   "cell_type": "markdown",
   "metadata": {
    "deletable": true,
    "editable": true
   },
   "source": [
    "#### Note\n",
    "For the pagination above, we used the **.next_page()** and could have also used the **.prior_page()** methods. These will return another list with an limit equal to the prior call and a offset based on the prior call"
   ]
  },
  {
   "cell_type": "markdown",
   "metadata": {
    "deletable": true,
    "editable": true
   },
   "source": [
    "## Get _all_ projects\n",
    "It's probably most useful to know all of your projects. Regardless of the query limit, the project object knows the actual total number of projects. We only need to use the **.all** attribute to get all projects."
   ]
  },
  {
   "cell_type": "code",
   "execution_count": null,
   "metadata": {
    "collapsed": false,
    "deletable": true,
    "editable": true,
    "jupyter": {
     "outputs_hidden": false
    }
   },
   "outputs": [],
   "source": [
    "existing_projects = my_projects.all()\n",
    "\n",
    "print('   List of all project ids and names:')\n",
    "for project in existing_projects:\n",
    "    print('{} \\t {}'.format(project.id, project.name))"
   ]
  },
  {
   "cell_type": "markdown",
   "metadata": {
    "deletable": true,
    "editable": true
   },
   "source": [
    "### Note\n",
    "Each time you do **anything** with this _generator object_, it will become exhausted. The next call will be an empty list"
   ]
  },
  {
   "cell_type": "code",
   "execution_count": null,
   "metadata": {
    "collapsed": false,
    "deletable": true,
    "editable": true,
    "jupyter": {
     "outputs_hidden": false
    }
   },
   "outputs": [],
   "source": [
    "# NOTE, after each time you operate on the existing_projects generator object, \n",
    "#   it will become an empty list\n",
    "\n",
    "existing_projects = my_projects.all()\n",
    "print(existing_projects)\n",
    "print('\\n For the first list() operation, there are %i projects in the generator' \\\n",
    "      % (len(list(existing_projects))))\n",
    "print(' For the next list() operation, there are %i projects in the generator' % \\\n",
    "      (len(list(existing_projects))))"
   ]
  },
  {
   "cell_type": "markdown",
   "metadata": {
    "deletable": true,
    "editable": true
   },
   "source": [
    "## Additional Information\n",
    "Detailed documentation of this particular REST architectural style request is available [here](http://docs.sevenbridges.com/docs/list-all-your-projects)"
   ]
  }
 ],
 "metadata": {
  "kernelspec": {
   "display_name": "Python 3",
   "language": "python",
   "name": "python3"
  },
  "language_info": {
   "codemirror_mode": {
    "name": "ipython",
    "version": 3
   },
   "file_extension": ".py",
   "mimetype": "text/x-python",
   "name": "python",
   "nbconvert_exporter": "python",
   "pygments_lexer": "ipython3",
   "version": "3.8.3"
  }
 },
 "nbformat": 4,
 "nbformat_minor": 4
}
