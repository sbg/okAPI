{
 "cells": [
  {
   "cell_type": "markdown",
   "metadata": {},
   "source": [
    "# How do I write files to my own _cloud storage_?\n",
    "### Overview\n",
    "Connecting to cloud storage facilitates sharing and leveraging bioinformatics data that is commonly stored there (details [here](http://docs.sevenbridges.com/docs/connecting-cloud-storage-overview)). Here, we show an example of **moving** files from the _Seven Bridges Platform_ to a user's _Amazon Web Services_ **bucket**. Afterwards, an **alias** to the file will be preserved in the user's _Seven Bridges Platform_ project.\n",
    "\n",
    "### Prerequisites\n",
    " 1. You need your _authentication token_ and the API needs to know about it. See <a href=\"Setup_API_environment.ipynb\">**Setup_API_environment.ipynb**</a> for details.\n",
    " 2. You need to have an AWS account with an S3 bucket\n",
    " 3. You need to be a member (or owner) of a project that has some files in it.\n",
    " \n",
    "### Setting up Identity and Access Management (IAM) access \n",
    "There is a detailed tutorial to set up access to your buckets on [AWS](http://docs.sevenbridges.com/v1.0/docs/aws-cloud-storage-tutorial) or [GCP](https://docs.sevenbridges.com/docs/google-cloud-storage-gcs-volumes). \n",
    "\n",
    "## Imports\n",
    "We import the _Api_ class from the official sevenbridges-python bindings below."
   ]
  },
  {
   "cell_type": "code",
   "execution_count": null,
   "metadata": {},
   "outputs": [],
   "source": [
    "import sevenbridges as sbg"
   ]
  },
  {
   "cell_type": "markdown",
   "metadata": {},
   "source": [
    "## Initialize the object\n",
    "The `Api` object needs to know your **auth\\_token** and the correct path. Here we assume you are using the credentials file in your home directory. For other options see <a href=\"Setup_API_environment.ipynb\">Setup_API_environment.ipynb</a>"
   ]
  },
  {
   "cell_type": "code",
   "execution_count": null,
   "metadata": {},
   "outputs": [],
   "source": [
    "# [USER INPUT] specify credentials file profile {cgc, sbg, default}\n",
    "prof = 'default'\n",
    "\n",
    "config_file = sbg.Config(profile=prof)\n",
    "api = sbg.Api(config=config_file)"
   ]
  },
  {
   "cell_type": "markdown",
   "metadata": {},
   "source": [
    "## Mount the volume\n",
    "Since we have configured the IAM policy in the prior step, we can now mount the volume. Make sure to **replace** (BUCKET-NAME, INSERT ACCESS KEY ID, and INSERT SECRET ACCESS KEY) below\n",
    "\n",
    "### Warning\n",
    "You only need to mount a volume **once**. If you have already done this, then skip this cell and go to _Get details of the volume_. If you try to mount it more than once, you will get an error (likely error: `Forbidden: Could not obtain cross-write access on the service. Check the documentation.`).\n",
    "\n",
    "#### Additional information\n",
    " * Detailed documentation of this particular REST architectural style request is available [here](http://docs.sevenbridges.com/docs/create-a-volume-v2)"
   ]
  },
  {
   "cell_type": "code",
   "execution_count": null,
   "metadata": {
    "collapsed": false,
    "jupyter": {
     "outputs_hidden": false
    }
   },
   "outputs": [],
   "source": [
    "volume_import = api.volumes.create_s3_volume(\n",
    "    name='my_volume_RW', \n",
    "    bucket='BUCKET-NAME',\n",
    "    access_key_id='INSERT ACCESS KEY ID',\n",
    "    secret_access_key = 'INSERT SECRET ACCESS KEY',\n",
    "    access_mode='RW')"
   ]
  },
  {
   "cell_type": "markdown",
   "metadata": {},
   "source": [
    "## Get details of the volume\n",
    "Let's list all our volumes and get one volume's (`my_volume_RW`, which we have just imported in the prior cell) details to make sure it's mounted as we expected.\n",
    "\n",
    "#### Additional information\n",
    " * Detailed documentation of these particular REST architectural style request are available [here (list)](http://docs.sevenbridges.com/docs/list-volumes-v2) and [here (details)](http://docs.sevenbridges.com/docs/get-details-of-a-volume-v2)"
   ]
  },
  {
   "cell_type": "code",
   "execution_count": null,
   "metadata": {
    "collapsed": false,
    "jupyter": {
     "outputs_hidden": false
    }
   },
   "outputs": [],
   "source": [
    "# [USER INPUT] Set volume name here:\n",
    "volume_name = 'my_volume'  \n",
    "\n",
    "\n",
    "all_volumes = api.volumes.query()\n",
    "\n",
    "my_volume = [v for v in all_volumes.all() \n",
    "            if v.name == volume_name]\n",
    "\n",
    "if not my_volume:\n",
    "    print('Volume {} does not exist, check name / mounting'\n",
    "          .format(volume_name))\n",
    "    raise KeyboardInterrupt\n",
    "else:\n",
    "    my_volume = my_volume[0]\n",
    "\n",
    "print(my_volume.name)"
   ]
  },
  {
   "cell_type": "markdown",
   "metadata": {},
   "source": [
    "## Get some files to move\n",
    "Here we pick a project and a few files to move. In case you don't have any files, you could add them via the [GUI](http://docs.sevenbridges.com/docs/copy-files-using-the-visual-interface) or an API [recipe](files_copyFromMyProject.ipynb). \n",
    "\n",
    "\n",
    "#### PROTIPS\n",
    " * Using this [recipe](files_upload_and_setMetadata.ipynb) to upload some files would mean **you don't need to change** names in the _file\\_list_ below (if this is the first time you are running this script).\n",
    " * A detailed _recipe_ for listing projects is [here](projects_listAll.ipynb)\n",
    " * A detailed _recipe_ for listing files is [here](files_listAll.ipynb)"
   ]
  },
  {
   "cell_type": "code",
   "execution_count": null,
   "metadata": {
    "collapsed": false,
    "jupyter": {
     "outputs_hidden": false
    }
   },
   "outputs": [],
   "source": [
    "# [USER INPUT] Set project name here:\n",
    "project_id = 'division-name/project-name'\n",
    "file_list = ['files_listAll.ipynb',\n",
    "            'files_copyFromMyProject.ipynb',\n",
    "            'files_copyFromPublicReference.ipynb']\n",
    "\n",
    "    \n",
    "# Find files in your project matching your file_list\n",
    "my_files = api.files.query(limit=100, project=project_id,\n",
    "                          names=file_list)"
   ]
  },
  {
   "cell_type": "markdown",
   "metadata": {},
   "source": [
    "## Start an export job\n",
    "Spin up a job to export files from the _Seven Bridges Platform_ to your _Cloud Storage_ (Volume).\n",
    "\n",
    "#### Additional information\n",
    " * Detailed documentation of these particular REST architectural style request are available [here](https://docs.sevenbridges.com/reference#start-a-bulk-export-job)\n",
    " \n",
    "### Possible ERRORS\n",
    "Note that you are only permitted to export a file _we host for you_. This **does not include** **Public Reference** files (even if you have _copied_ them into your project), other **imported files** (aliases) or **archived files** that have not been restored.\n",
    "The error you would likely see for doing this is `Forbidden: Requested file cannot be exported. Check the documentation.`"
   ]
  },
  {
   "cell_type": "code",
   "execution_count": null,
   "metadata": {
    "collapsed": false,
    "jupyter": {
     "outputs_hidden": false
    }
   },
   "outputs": [],
   "source": [
    "# Loop through selected files and submit a bulk export request\n",
    "exports = []\n",
    "\n",
    "for f in my_files:\n",
    "    export = {\n",
    "            'file':f,\n",
    "            'volume': my_volume,\n",
    "            'location':f.name\n",
    "    }\n",
    "    exports.append(export)\n",
    "\n",
    "export_jobs = api.exports.bulk_submit(exports=exports, copy_only=True)\n",
    "\n",
    "errors = []\n",
    "for bulk_item, job in zip(exports, export_jobs):\n",
    "    if job.error:\n",
    "        error_message = \"File: %s - %s\" % (\n",
    "            bulk_item['file'].name, job.error.message)\n",
    "        errors.append(error_message)\n",
    "if errors:\n",
    "    print(\n",
    "        'There were errors with bulk export submission:',\n",
    "        '\"; \"'.join(errors)\n",
    "    )\n",
    "    \n",
    "\n",
    "# Monitor export jobs where no errors were encountered\n",
    "submitted_jobs = [job.resource for job in export_jobs if job.resource]"
   ]
  },
  {
   "cell_type": "markdown",
   "metadata": {},
   "source": [
    "## List and detail export jobs\n",
    "The `api.exports.bulk_get` method will capture details of all exports which have been sent in the `bulk_submit` call.\n",
    "\n",
    "#### Additional information\n",
    " * Detailed documentation of these particular REST architectural style request are available [here](http://docs.sevenbridges.com/docs/list-export-jobs-v2) and [here](https://docs.sevenbridges.com/reference#get-details-of-a-bulk-export-job)"
   ]
  },
  {
   "cell_type": "code",
   "execution_count": null,
   "metadata": {
    "collapsed": false,
    "jupyter": {
     "outputs_hidden": false
    }
   },
   "outputs": [],
   "source": [
    "export_jobs = api.exports.bulk_get(exports=[s.id for s in submitted_jobs])\n",
    "\n",
    "for j in export_jobs:\n",
    "    print('File {} export stated {}; it is {}'\n",
    "         .format(j.resource.destination, j.resource.started_on, j.resource.state))\n",
    "print('\\n')"
   ]
  },
  {
   "cell_type": "code",
   "execution_count": null,
   "metadata": {},
   "outputs": [],
   "source": []
  },
  {
   "cell_type": "code",
   "execution_count": null,
   "metadata": {},
   "outputs": [],
   "source": []
  },
  {
   "cell_type": "code",
   "execution_count": null,
   "metadata": {},
   "outputs": [],
   "source": []
  }
 ],
 "metadata": {
  "kernelspec": {
   "display_name": "Python 3",
   "language": "python",
   "name": "python3"
  },
  "language_info": {
   "codemirror_mode": {
    "name": "ipython",
    "version": 3
   },
   "file_extension": ".py",
   "mimetype": "text/x-python",
   "name": "python",
   "nbconvert_exporter": "python",
   "pygments_lexer": "ipython3",
   "version": "3.8.3"
  }
 },
 "nbformat": 4,
 "nbformat_minor": 4
}
