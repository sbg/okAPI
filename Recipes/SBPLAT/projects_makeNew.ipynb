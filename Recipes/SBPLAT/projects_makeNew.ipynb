{
 "cells": [
  {
   "cell_type": "markdown",
   "metadata": {
    "deletable": true,
    "editable": true
   },
   "source": [
    "# How do I make a new _project_?\n",
    "### Overview\n",
    "There are a number of API calls related to projects. Here we focus on _creating a **new**_ project. Along the way, we will also show how to [list billing groups](http://docs.cancergenomicscloud.org/docs/list-your-billing-groups).\n",
    "\n",
    "### Prerequisites\n",
    " 1. You need to be a member (or owner) of _at least one_ project.\n",
    " 2. You need your _authentication token_ and the API needs to know about it. See <a href=\"Setup_API_environment.ipynb\">**Setup_API_environment.ipynb**</a> for details.\n",
    " 3. You understand how to <a href=\"projects_listAll.ipynb\" target=\"_blank\">list</a> projects you are a member of (we will just use that call directly here).\n",
    "  \n",
    "## Imports\n",
    "We import the _Api_ class from the official sevenbridges-python bindings below."
   ]
  },
  {
   "cell_type": "code",
   "execution_count": null,
   "metadata": {
    "deletable": true,
    "editable": true
   },
   "outputs": [],
   "source": [
    "import sevenbridges as sbg"
   ]
  },
  {
   "cell_type": "markdown",
   "metadata": {
    "deletable": true,
    "editable": true
   },
   "source": [
    "## Initialize the object\n",
    "The `Api` object needs to know your **auth\\_token** and the correct path. Here we assume you are using the credentials file in your home directory. For other options see <a href=\"Setup_API_environment.ipynb\">Setup_API_environment.ipynb</a>"
   ]
  },
  {
   "cell_type": "code",
   "execution_count": null,
   "metadata": {
    "deletable": true,
    "editable": true
   },
   "outputs": [],
   "source": [
    "# [USER INPUT] specify credentials file profile {cgc, sbg, default}\n",
    "prof = 'default'\n",
    "\n",
    "config_file = sbg.Config(profile=prof)\n",
    "api = sbg.Api(config=config_file)"
   ]
  },
  {
   "cell_type": "markdown",
   "metadata": {
    "deletable": true,
    "editable": true
   },
   "source": [
    "## Make a new project using your first billing group\n",
    "We start by listing all of your projects and your billing groups. Next we create the JSON that will be passed to the API to create the project. The dictionary should include:\n",
    "* **billing_group** *Billing group* that will be charged for this project\n",
    "* **description**   (optional) Project description\n",
    "* **name**   Name of the project, may be *non-unique*<sup>1</sup>\n",
    "\n",
    "**After** creating the project, you can re-check the project list. A **detail**-call for projects returns the following *attributes*:\n",
    "* **description** The user specified project description\n",
    "* **id**     _Unique_ identifier for the project, generated based on Project Name\n",
    "* **name**   Name of project specified by the user, maybe _non-unique_\n",
    "* **href**   Address<sup>1</sup> of the project.\n",
    "* **tags**   List of tags\n",
    "* **created_on** Project creation time\n",
    "* **modified_on** Project modification time\n",
    "* **created_by** User that created the project\n",
    "* **root_folder** ID of the root folder for that project\n",
    "* **billing_group** ID of the billing group for the project\n",
    "* **settings** Dictionary with project settings for storage and task execution\n",
    "\n",
    "\n",
    "<sup>1</sup> Please **don't** use non-unique *project names*. However, if you insist (on the GUI), the backend will allow it and assign a unique **id** to you project."
   ]
  },
  {
   "cell_type": "code",
   "execution_count": null,
   "metadata": {
    "collapsed": false,
    "deletable": true,
    "editable": true,
    "jupyter": {
     "outputs_hidden": false
    }
   },
   "outputs": [],
   "source": [
    "# [USER INPUT] Set project name and billing group index here:\n",
    "new_project_name = 'Michael Diamond'                         \n",
    "index_billing = -1   \n",
    "\n",
    "# Check if this project already exists. LIST all projects and check for name match\n",
    "my_project = api.projects.query(name=new_project_name)\n",
    "              \n",
    "if my_project:    # exploit fact that empty list is False, {list, tuple, etc} is True\n",
    "    print('A project named {} exists, please choose a unique name'\n",
    "          .format(new_project_name))\n",
    "    raise KeyboardInterrupt\n",
    "else:\n",
    "    # Create a new project\n",
    "    # What are my funding sources?\n",
    "    billing_groups = api.billing_groups.query()  \n",
    "    print((billing_groups[index_billing].name + \\\n",
    "           ' will be charged for computation and storage (if applicable)'))\n",
    "\n",
    "    # Set up the information for your new project\n",
    "    new_project = {\n",
    "            'billing_group': billing_groups[index_billing].id,\n",
    "            'description': \"\"\"A project created by the API recipe (projects_makeNew.ipynb).\n",
    "                          This also supports **markdown**\n",
    "                          _Pretty cool_, right?\n",
    "                       \"\"\",\n",
    "            'name': new_project_name\n",
    "    }\n",
    "\n",
    "    my_project = api.projects.create(\n",
    "        name=new_project['name'], billing_group=new_project['billing_group'], \n",
    "        description=new_project['description']\n",
    "    )\n",
    "    \n",
    "    # (re)list all projects, and get your new project\n",
    "    my_project = [p for p in api.projects.query(limit=100).all() \n",
    "              if p.name == new_project_name][0]\n",
    "\n",
    "    print('Your new project {} has been created.'.format(\n",
    "        my_project.name))\n",
    "    # Print description if it exists\n",
    "    if hasattr(my_project, 'description'): \n",
    "        print('Project description: \\n {}'.format(my_project.description)) "
   ]
  },
  {
   "cell_type": "markdown",
   "metadata": {
    "deletable": true,
    "editable": true
   },
   "source": [
    "## Additional Information\n",
    "Detailed documentation of this particular REST architectural style request is available [here](http://docs.sevenbridges.com/docs/create-a-new-project)"
   ]
  }
 ],
 "metadata": {
  "kernelspec": {
   "display_name": "Python 3",
   "language": "python",
   "name": "python3"
  },
  "language_info": {
   "codemirror_mode": {
    "name": "ipython",
    "version": 3
   },
   "file_extension": ".py",
   "mimetype": "text/x-python",
   "name": "python",
   "nbconvert_exporter": "python",
   "pygments_lexer": "ipython3",
   "version": "3.8.3"
  }
 },
 "nbformat": 4,
 "nbformat_minor": 4
}
