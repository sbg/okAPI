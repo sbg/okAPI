{
 "cells": [
  {
   "cell_type": "markdown",
   "metadata": {
    "deletable": true,
    "editable": true
   },
   "source": [
    "# How do I _copy_ an app from one of my other _projects_?\n",
    "## Overview\n",
    "Apps include both tools (individual bioinformatics utilities) and workflows (chains or pipelines of connected tools). Apps are located in one of two places: the [Seven Bridges Public Apps repository](https://igor.sbgenomics.com/public/apps) or a user-created project.\n",
    "\n",
    "## Objective\n",
    "You can copy an app from the Public App repository or from a project of which you're a member. Here, we focus on **copying an app from another project**. [[reference](http://docs.sevenbridges.com/docs/copy-an-app)]\n",
    "\n",
    "## Procedure\n",
    "1. We'll define the project and app IDs\n",
    "2. We'll copy an app to the destination project.\n",
    "\n",
    "## Prerequisites\n",
    " 1. You need to be a member (or owner) of at least two projects, one with the app that should be copied and another one where the app needs to be copied to. Learn more about creating a new project. [[recipe](projects_makeNew.ipynb)] [[reference](http://docs.sevenbridges.com/docs/create-a-new-project)].\n",
    " 2. You need your **authentication token** and the API needs to know about it. See <a href=\"Setup_API_environment.ipynb\">Setup_API_environment.ipynb</a> for details. Learn more about [obtaining your authentication token](http://docs.sevenbridges.com/v1.0/docs/get-your-authentication-token).\n",
    " 3. You have at least one app in one project. If not, you can copy one from the Public Apps repository. [[recipe](apps_copyFromPublicApps.ipynb)] [[reference](http://docs.sevenbridges.com/docs/copy-an-app)]\n",
    " 4. You can find app and project ID. We can find entity IDs via API or on the platform visual interface. [[reference](https://docs.sevenbridges.com/docs/the-api#identifying-projects-users-apps-files-tasks-and-inputs)]\n",
    " 5. You understand how to list apps within a project. We will use this call below and find the copied app. [[recipe](apps_listAll.ipynb)] [[reference](http://docs.sevenbridges.com/docs/list-all-apps-available-to-you)]\n",
    " \n",
    "Note that as with all okAPI recipes, this recipe makes use of the [Seven Bridges Public API Python library](../Tutorials/SBPLAT/Setup_API_environment.ipynb)\n",
    " \n",
    "## Imports\n",
    "We import the `Api` class from the official `sevenbridges-python` bindings below.  \n",
    "We also import the `Conflict` error to handle situations when trying to copy over an existing app."
   ]
  },
  {
   "cell_type": "code",
   "execution_count": null,
   "metadata": {
    "collapsed": false,
    "deletable": true,
    "editable": true,
    "jupyter": {
     "outputs_hidden": false
    }
   },
   "outputs": [],
   "source": [
    "import sevenbridges as sbg\n",
    "from sevenbridges.errors import Conflict"
   ]
  },
  {
   "cell_type": "markdown",
   "metadata": {
    "deletable": true,
    "editable": true
   },
   "source": [
    "## Initialize the object\n",
    "The `Api` object needs to know your **auth\\_token** and the correct path. Here we assume you are using the credentials file in your home directory. For other options see <a href=\"Setup_API_environment.ipynb\">Setup_API_environment.ipynb</a>"
   ]
  },
  {
   "cell_type": "code",
   "execution_count": null,
   "metadata": {
    "collapsed": false,
    "deletable": true,
    "editable": true,
    "jupyter": {
     "outputs_hidden": false
    }
   },
   "outputs": [],
   "source": [
    "# [USER INPUT] specify platform {cgc, sbg}\n",
    "prof = 'sbpla'\n",
    "\n",
    "\n",
    "config_file = sbg.Config(profile=prof)\n",
    "api = sbg.Api(config=config_file)"
   ]
  },
  {
   "cell_type": "markdown",
   "metadata": {
    "deletable": true,
    "editable": true
   },
   "source": [
    "## Copy an app you can access\n",
    "First, we'll define which app we want to copy and to which project. Then, we'll try to copy an app to the second project. (Note that here you can also choose to copy a specific version of the app, by changing the last fragment of the `app_id` variable to the version you want).\n",
    "\n",
    "The critical information for this `POST` request is the **app_id**. Note, you are **not** allowed to copy the same app **and** assign the same name<sup>1</sup> more than once. If you change the name, it is ok. \n",
    "\n",
    "To make these results very obvious, use an empty project as your my\\_project (e.g. your <a href=projects_makeNew.ipynb> cookbook example project</a>) or add the _name_ arguement to something ridiculous like 'Orange Mocha Frapachino Maker'. In this example, we will handle these situations with a predefined error `Conflict` for this situation.\n",
    "\n",
    "<sup>1</sup> Note that setting the **name** of a copied app defines the app **id**, which must be unique on the platform. Saving over an existing ID will raise a `Conflict` error."
   ]
  },
  {
   "cell_type": "code",
   "execution_count": null,
   "metadata": {
    "collapsed": false,
    "deletable": true,
    "editable": true,
    "jupyter": {
     "outputs_hidden": false
    }
   },
   "outputs": [],
   "source": [
    "# [USER INPUT] Set destination_project_id and app_id here:\n",
    "\n",
    "# Set project ID in format 'user-name/project-name' or in enterprise mode 'division-name/project-name'\n",
    "destination_project_id = 'rfranklin/destination-project-name'\n",
    "# Set app ID in format 'user-name/project-name/app-name/revision' or in division context `division-name/project-name/app-name/revision'\n",
    "# Omitting the revision will use the latest revision of the app\n",
    "app_id = 'rfranklin/source-project-name/graf-germline-variant-detection-workflow-1-0/1' \n",
    "\n",
    "# Get the app and the project and try to copy the app\n",
    "source_app = api.apps.get(app_id)\n",
    "destination_project = api.projects.get(destination_project_id)\n",
    "try:\n",
    "    new_app = source_app.copy(project=destination_project_id)\n",
    "    print('App {} copied to Project {}.'.format(source_app.name, destination_project.name))\n",
    "except Conflict:\n",
    "    new_app = [a for a in api.apps.query(project=destination_project) if a.name == source_app.name][0]\n",
    "    print('App already exists in the destination project, reusing existing app.')\n",
    "\n",
    "# re-list apps in target project to verify the copy worked\n",
    "my_app_names = [a.name for a in api.apps.query(\n",
    "    project=destination_project_id, limit=100\n",
    ").all()]\n",
    "    \n",
    "if source_app.name in my_app_names:\n",
    "    print('Sucessfully copied or reused one app!')\n",
    "else:\n",
    "    print('Something went wrong...')  "
   ]
  },
  {
   "cell_type": "markdown",
   "metadata": {
    "deletable": true,
    "editable": true
   },
   "source": [
    "## Additional Information\n",
    "Detailed documentation of this particular REST architectural style request is available [here](http://docs.sevenbridges.com/docs/copy-an-app)."
   ]
  }
 ],
 "metadata": {
  "kernelspec": {
   "display_name": "Python 3",
   "language": "python",
   "name": "python3"
  },
  "language_info": {
   "codemirror_mode": {
    "name": "ipython",
    "version": 3
   },
   "file_extension": ".py",
   "mimetype": "text/x-python",
   "name": "python",
   "nbconvert_exporter": "python",
   "pygments_lexer": "ipython3",
   "version": "3.8.3"
  }
 },
 "nbformat": 4,
 "nbformat_minor": 4
}
