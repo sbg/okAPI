{
 "cells": [
  {
   "cell_type": "markdown",
   "metadata": {
    "deletable": true,
    "editable": true
   },
   "source": [
    "# Who are the members of one of my _projects_?\n",
    "### Overview\n",
    "There are a number of API calls related to projects. Here we focus on _getting the members_ of a single project.  \n",
    "\n",
    "### Prerequisites\n",
    " 1. You need to be a member (or owner) of _at least one_ project.\n",
    " 2. You need your _authentication token_ and the API needs to know about it. See <a href=\"Setup_API_environment.ipynb\">**Setup_API_environment.ipynb**</a> for details.\n",
    " 3. You understand how to <a href=\"projects_listAll.ipynb\" target=\"_blank\">list</a> projects you are a member of (we will just use that call directly here).\n",
    "  \n",
    "## Imports\n",
    "We import the _Api_ class from the official sevenbridges-python bindings below."
   ]
  },
  {
   "cell_type": "code",
   "execution_count": null,
   "metadata": {
    "deletable": true,
    "editable": true
   },
   "outputs": [],
   "source": [
    "import sevenbridges as sbg"
   ]
  },
  {
   "cell_type": "markdown",
   "metadata": {
    "deletable": true,
    "editable": true
   },
   "source": [
    "## Initialize the object\n",
    "The `Api` object needs to know your **auth\\_token** and the correct path. Here we assume you are using the credentials file in your home directory. For other options see <a href=\"Setup_API_environment.ipynb\">Setup_API_environment.ipynb</a>"
   ]
  },
  {
   "cell_type": "code",
   "execution_count": null,
   "metadata": {
    "deletable": true,
    "editable": true
   },
   "outputs": [],
   "source": [
    "# [USER INPUT] specify platform {cgc, sbpla, etc}\n",
    "prof = 'sbpla'\n",
    "\n",
    "\n",
    "config_file = sbg.Config(profile=prof)\n",
    "api = sbg.Api(config=config_file)"
   ]
  },
  {
   "cell_type": "markdown",
   "metadata": {
    "deletable": true,
    "editable": true
   },
   "source": [
    "## List some projects & get members of one of them\n",
    "We start by listing all of your projects, then get more information on the first one. A **detail**-call for projects returns the following *attributes*:\n",
    "* **description** The user specified project description\n",
    "* **id**     _Unique_ identifier for the project, generated based on Project Name\n",
    "* **name**   Name of project specified by the user, maybe _non-unique_\n",
    "* **href**   Address<sup>1</sup> of the project.\n",
    "* **tags**   List of tags\n",
    "* **created_on** Project creation time\n",
    "* **modified_on** Project modification time\n",
    "* **created_by** User that created the project\n",
    "* **root_folder** ID of the root folder for that project\n",
    "* **billing_group** ID of the billing group for the project\n",
    "* **settings** Dictionary with project settings for storage and task execution\n",
    "\n",
    "<sup>1</sup> This is the address where, by using API you can get this resource"
   ]
  },
  {
   "cell_type": "code",
   "execution_count": null,
   "metadata": {
    "collapsed": false,
    "deletable": true,
    "editable": true,
    "jupyter": {
     "outputs_hidden": false
    }
   },
   "outputs": [],
   "source": [
    "# [USER INPUT] project index\n",
    "p_index = 0\n",
    "\n",
    "existing_projects = list(api.projects.query(limit=100).all())\n",
    "project_members = existing_projects[p_index].get_members()\n",
    "\n",
    "print('The selected project (%s) has %i members:' % \\\n",
    "      (existing_projects[p_index].name, len(project_members)))\n",
    "\n",
    "for member in project_members:\n",
    "    if member.permissions['admin']:\n",
    "        print('\\t User %s is a project ADMIN' % (member.username))\n",
    "    else:\n",
    "        print('\\t User %s is a project MEMBER' % (member.username))"
   ]
  },
  {
   "cell_type": "markdown",
   "metadata": {
    "deletable": true,
    "editable": true
   },
   "source": [
    "## Additional Information\n",
    "Detailed documentation of this particular REST architectural style request is available [here](http://docs.sevenbridges.com/docs/list-members-of-a-project)"
   ]
  }
 ],
 "metadata": {
  "kernelspec": {
   "display_name": "Python 3",
   "language": "python",
   "name": "python3"
  },
  "language_info": {
   "codemirror_mode": {
    "name": "ipython",
    "version": 3
   },
   "file_extension": ".py",
   "mimetype": "text/x-python",
   "name": "python",
   "nbconvert_exporter": "python",
   "pygments_lexer": "ipython3",
   "version": "3.8.3"
  }
 },
 "nbformat": 4,
 "nbformat_minor": 4
}
