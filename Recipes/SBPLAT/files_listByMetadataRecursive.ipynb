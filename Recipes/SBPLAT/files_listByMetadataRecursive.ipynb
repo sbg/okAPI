{
 "cells": [
  {
   "cell_type": "markdown",
   "metadata": {
    "deletable": true,
    "editable": true
   },
   "source": [
    "# How do I get a list of all files (including subfolders) that _match_ a particular metadata _property_?\n",
    "\n",
    "### Overview\n",
    "\n",
    "This recipe is mainly used to show how to run through the project folder structure and find files of interest. Here we focus on listing all files within a single project that a particular metadata property, but same can be applied on other attributes, such as file name. One _use-case_ which will benefit greatly from this is:\n",
    "\n",
    " * I have _hundreds_ of files in my project\n",
    " * I want to run a task(s) which only uses _type X_ files\n",
    " * I want to query all _type X_ files with one call\n",
    " * I want to traverse the subdirectories\n",
    "\n",
    "You can use the basic strategy to:\n",
    "\n",
    " 1. List all the files and folders (n = _N_)\n",
    " 2. Loop through the list \n",
    " 3. If item is a file - get the metadata of every file (as [here](files_detailOne.ipynb)), if the property matches, add it to a _list_ of files to process\n",
    " 4. Else if item is a folder start from 1. for that folder\n",
    "\n",
    "\n",
    "### Prerequisites\n",
    " 1. You need your _authentication token_ and the API needs to know about it. See <a href=\"Setup_API_environment.ipynb\">**Setup_API_environment.ipynb**</a> for details.\n",
    " 2. You understand how to <a href=\"projects_listAll.ipynb\" target=\"_blank\">list</a> projects you are a member of (we will just use that call directly and pick one here).\n",
    " 3. You have already cloned the Public Project _Cancer Cell Line Encyclopedia (CCLE)_.\n",
    " \n",
    "## Imports\n",
    "We import the _Api_ class from the official sevenbridges-python bindings below."
   ]
  },
  {
   "cell_type": "code",
   "execution_count": null,
   "metadata": {
    "collapsed": false,
    "deletable": true,
    "editable": true,
    "jupyter": {
     "outputs_hidden": false
    }
   },
   "outputs": [],
   "source": [
    "import sevenbridges as sbg"
   ]
  },
  {
   "cell_type": "markdown",
   "metadata": {
    "deletable": true,
    "editable": true
   },
   "source": [
    "## Initialize the object\n",
    "The `Api` object needs to know your **auth\\_token** and the correct path. Here we assume you are using the credentials file in your home directory. For other options see <a href=\"Setup_API_environment.ipynb\">Setup_API_environment.ipynb</a>"
   ]
  },
  {
   "cell_type": "code",
   "execution_count": null,
   "metadata": {
    "deletable": true,
    "editable": true
   },
   "outputs": [],
   "source": [
    "# [USER INPUT] specify credentials file profile {cgc, sbg, default}\n",
    "prof = 'default'\n",
    "\n",
    "config_file = sbg.Config(profile=prof)\n",
    "api = sbg.Api(config=config_file)"
   ]
  },
  {
   "cell_type": "markdown",
   "metadata": {
    "deletable": true,
    "editable": true
   },
   "source": [
    "## Search by metadata\n"
   ]
  },
  {
   "cell_type": "code",
   "execution_count": null,
   "metadata": {
    "collapsed": false,
    "deletable": true,
    "editable": true,
    "jupyter": {
     "outputs_hidden": false
    }
   },
   "outputs": [],
   "source": [
    "# [USER INPUT] Set metadata properties and values here; set project ID\n",
    "project_id = 'my-name/my-project'\n",
    "metadata_to_match = {'experimental_strategy': 'WXS',\n",
    "                     'platform':'Illumina'}\n",
    "\n",
    "\n",
    "def find_files_by_metadata(project_id, metadata_to_match, parent=None):\n",
    "    \"\"\"\n",
    "    If parent is set, it is a folder id to search in.\n",
    "    \"\"\"\n",
    "\n",
    "    \n",
    "    if not parent:\n",
    "        # Query by metadata in the root\n",
    "        matched_files = list(api.files.query(\n",
    "            project=project_id, limit=100, \n",
    "            metadata=metadata_to_match).all())\n",
    "        for item in api.files.query(limit=100, project=project_id).all():\n",
    "            if item.is_folder():\n",
    "                matched_files.extend(find_files_by_metadata(project_id, metadata_to_match, item.id))\n",
    "    else:\n",
    "        # Query by metadata in the folder\n",
    "        matched_files = list(api.files.query(\n",
    "            parent=parent, limit=100, \n",
    "            metadata=metadata_to_match).all())\n",
    "        for item in api.files.query(limit=100, parent=parent).all():\n",
    "            if item.is_folder():\n",
    "                matched_files.extend(find_files_by_metadata(project_id, metadata_to_match, item.id))\n",
    "    return matched_files\n",
    "            \n",
    "    \n",
    "matched_files = find_files_by_metadata(project_id, metadata_to_match)\n",
    "print(\"Total matched files {}\".format(len(matched_files)))"
   ]
  },
  {
   "cell_type": "markdown",
   "metadata": {
    "deletable": true,
    "editable": true
   },
   "source": [
    "## Additional Information\n",
    "Detailed documentation of this particular REST architectural style request is available [here](http://docs.cancergenomicscloud.org/docs/list-files-in-a-project)"
   ]
  }
 ],
 "metadata": {
  "kernelspec": {
   "display_name": "Python 3",
   "language": "python",
   "name": "python3"
  },
  "language_info": {
   "codemirror_mode": {
    "name": "ipython",
    "version": 3
   },
   "file_extension": ".py",
   "mimetype": "text/x-python",
   "name": "python",
   "nbconvert_exporter": "python",
   "pygments_lexer": "ipython3",
   "version": "3.8.3"
  }
 },
 "nbformat": 4,
 "nbformat_minor": 4
}
