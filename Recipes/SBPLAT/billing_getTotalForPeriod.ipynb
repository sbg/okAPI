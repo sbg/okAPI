{
 "cells": [
  {
   "cell_type": "markdown",
   "metadata": {},
   "source": [
    "# How do I get billing information for a period?\n",
    "### Overview\n",
    "Billing information on the Seven Bridges platforms is broken down to three categories:\n",
    "- Analysis\n",
    "- Storage\n",
    "- Egress\n",
    "\n",
    "For details on how all the costs are calculated, please refer to the Seven Bridges documentation.\n",
    "\n",
    "This recipe will show how to:\n",
    "- Select a billing group\n",
    "- Get analysis costs breakdown for a time period and total analysis costs\n",
    "- Get storage costs breakdown for a time period and total storage costs\n",
    "- Get egress costs breakdown for a time period and total egress costs\n",
    "\n",
    "### Prerequisites\n",
    " 1. You need to be an admin of _at least one_ billing group.\n",
    " 2. You need your _authentication token_ and the API needs to know about it. See <a href=\"Setup_API_environment.ipynb\">**Setup_API_environment.ipynb**</a> for details.\n",
    " \n",
    "## Imports\n",
    "We import the _Api_ class from the official sevenbridges-python bindings below."
   ]
  },
  {
   "cell_type": "code",
   "execution_count": null,
   "metadata": {},
   "outputs": [],
   "source": [
    "import sevenbridges as sbg"
   ]
  },
  {
   "cell_type": "markdown",
   "metadata": {},
   "source": [
    "## Initialize the object\n",
    "The `Api` object needs to know your **auth\\_token** and the correct path. Here we assume you are using the credentials file in your home directory. For other options see <a href=\"Setup_API_environment.ipynb\">Setup_API_environment.ipynb</a>"
   ]
  },
  {
   "cell_type": "code",
   "execution_count": null,
   "metadata": {},
   "outputs": [],
   "source": [
    "# [USER INPUT] specify credentials file profile {cgc, sbg, default}\n",
    "prof = 'default'\n",
    "\n",
    "config_file = sbg.Config(profile=prof)\n",
    "api = sbg.Api(config=config_file)"
   ]
  },
  {
   "cell_type": "markdown",
   "metadata": {},
   "source": [
    "## Select a billing group\n",
    "\n",
    "Here we will just take the first billing group from the list of available groups. If you are working in a division, there will always be a single billing group."
   ]
  },
  {
   "cell_type": "code",
   "execution_count": null,
   "metadata": {},
   "outputs": [],
   "source": [
    "bg = api.billing_groups.query()[0]"
   ]
  },
  {
   "cell_type": "markdown",
   "metadata": {},
   "source": [
    "## Analysis breakdown\n",
    "\n",
    "Breakdown of the analysis costs in a specific period is available by invoking `analysis_breakdown()` method with fields `date_from` and `date_to` set in format `dd-mm-yyyy`. The result will be a list of all analyses that incurred cost, with details on who ran an analysis, when, in which project and how much did it cost.\n",
    "\n",
    "Here we get a single analysis item and show some of the details (Note that you need to have at least one analysis in the specified period for the code to work)"
   ]
  },
  {
   "cell_type": "code",
   "execution_count": null,
   "metadata": {},
   "outputs": [],
   "source": [
    "try:\n",
    "    analysis = bg.analysis_breakdown(date_from='01-01-2020', date_to='01-09-2021')[0]\n",
    "    print('App {} executed by {} in project {} cost {}'.format(\n",
    "        analysis.analysis_app_name,\n",
    "        analysis.ran_by,\n",
    "        analysis.project_name,\n",
    "        analysis.analysis_cost.amount\n",
    "    ))\n",
    "except IndexError:\n",
    "    print('No analysis costs found')"
   ]
  },
  {
   "cell_type": "markdown",
   "metadata": {},
   "source": [
    "## Storage breakdown\n",
    "\n",
    "Breakdown of the analysis costs in a specific period is available by invoking `storage_breakdown()` method with fields `date_from` and `date_to` set in format `dd-mm-yyyy`. The result will be a list of all projects that incurred storage cost, with details such as total GB * month of storage used for active and archived files, project name, project creator and the project location. Each file contributes to the total GB * months by multiplying file size and file lifetime. For example, if a month has 30 days, file has 15 GB and it was in the project for 20 days before it was deleted, it will contribute with 10 GB*months.\n",
    "\n",
    "Based on the project location and the cloud provider, price per unit may vary. The exact calculation of storage costs is not trivial, and different cloud providers offer different discounts with increased storage usage. \n",
    "For the purpose of this recipe, we are applying a simple but fairly precise calculation by using a single storage price for active and a single storage price for archived files. The storage prices can be obtained from cloud provider website, e.g. (https://aws.amazon.com/s3/pricing/).\n",
    "\n",
    "Here we get a single project and show some of the details. (Note: you need at least some storage costs for this to work)"
   ]
  },
  {
   "cell_type": "code",
   "execution_count": null,
   "metadata": {},
   "outputs": [],
   "source": [
    "active_storage_price = 0.023 # $/(GB * month)\n",
    "archived_storage_price = 0.004 # $/(GB * month)\n",
    "try:\n",
    "    storage = bg.storage_breakdown(date_from='01-01-2020', date_to='01-09-2021')[0]\n",
    "    print('In project {}, created by {}, hosted on location {}, total of {} of active GB*month and {} of archived GB*month '.format(\n",
    "        storage.project_name,\n",
    "        storage.project_created_by,\n",
    "        storage.location,\n",
    "        storage.active.size,\n",
    "        storage.archived.size\n",
    "    ))\n",
    "    project_storage_cost = storage.active.size * active_storage_price + storage.archived.size * archived_storage_price\n",
    "    print('Total storage cost for project {} was {}$'.format(storage.project_name, project_storage_cost))\n",
    "except IndexError:\n",
    "    print('No storage costs found')"
   ]
  },
  {
   "cell_type": "markdown",
   "metadata": {},
   "source": [
    "## Egress breakdown\n",
    "\n",
    "Breakdown of the egress costs in a specific period is available by invoking `egress_breakdown()` method with fields `date_from` and `date_to` set in format `dd-mm-yyyy`. The result will be a list of all file downloads that incurred cost, with details such as file size, downloader and download cost.\n",
    "\n",
    "Here we get a single download and show some of the details. (Note, for this to work you need at least one egress cost)"
   ]
  },
  {
   "cell_type": "code",
   "execution_count": null,
   "metadata": {},
   "outputs": [],
   "source": [
    "try:\n",
    "    egress = bg.egress_breakdown(date_from='01-01-2020', date_to='01-09-2021')[0]\n",
    "    print('User {} downloaded a file with size {} and it cost {}'.format(egress.downloaded_by, egress.downloaded.size, egress.egress_cost.amount))\n",
    "except IndexError:\n",
    "    print('No egress costs found')"
   ]
  },
  {
   "cell_type": "markdown",
   "metadata": {},
   "source": [
    "## Total costs in a specific period\n",
    "\n",
    "To find all costs incurred in a period, iterate through all breakdown items and sum it all up"
   ]
  },
  {
   "cell_type": "code",
   "execution_count": null,
   "metadata": {},
   "outputs": [],
   "source": [
    "date_from = '01-01-2020'\n",
    "date_to = '01-09-2021'\n",
    " \n",
    "# Analysis cost total\n",
    "analysis_total = sum([float(a.analysis_cost.amount) for a in bg.analysis_breakdown(date_from=date_from, date_to=date_to).all()])\n",
    "\n",
    "# Storage cost total\n",
    "active_storage_price = 0.023 # $/(GB * month)\n",
    "archived_storage_price = 0.004 # $/(GB * month)\n",
    "storage_total = sum([storage.active.size * active_storage_price + storage.archived.size * archived_storage_price\n",
    "                 for storage in bg.storage_breakdown(date_from=date_from, date_to=date_to)])\n",
    "\n",
    "# Egress cost total\n",
    "egress_total = sum([float(e.egress_cost.amount) for e in bg.egress_breakdown(date_from=date_from, date_to=date_to).all()])\n",
    "\n",
    "total = analysis_total + storage_total + egress_total\n",
    "\n",
    "print('Analysis total : {}$'.format(analysis_total))\n",
    "print('Storage total : {}$'.format(storage_total))\n",
    "print('Egress total : {}$'.format(egress_total))\n",
    "print('Total : {}$'.format(total))"
   ]
  },
  {
   "cell_type": "code",
   "execution_count": null,
   "metadata": {},
   "outputs": [],
   "source": []
  },
  {
   "cell_type": "code",
   "execution_count": null,
   "metadata": {},
   "outputs": [],
   "source": []
  }
 ],
 "metadata": {
  "kernelspec": {
   "display_name": "Python 3",
   "language": "python",
   "name": "python3"
  },
  "language_info": {
   "codemirror_mode": {
    "name": "ipython",
    "version": 3
   },
   "file_extension": ".py",
   "mimetype": "text/x-python",
   "name": "python",
   "nbconvert_exporter": "python",
   "pygments_lexer": "ipython3",
   "version": "3.8.3"
  }
 },
 "nbformat": 4,
 "nbformat_minor": 4
}
