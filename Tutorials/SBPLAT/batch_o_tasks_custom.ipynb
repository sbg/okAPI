{
 "cells": [
  {
   "cell_type": "markdown",
   "metadata": {},
   "source": [
    "# How can I split a workflow and create paired batch tasks?\n",
    "### Overview\n",
    "There are some workflows which are **partially** ammenable for batch processing, a good example is the [Cufflinks](http://cole-trapnell-lab.github.io/cufflinks/cuffcompare/) suite to calculate _differential expression_ in RNA-seq files.\n",
    "\n",
    "Here we are going to use an **arbitrary** organization (_alphabetical_) to match **randomly** between _Urothelial Bladder Carcinoma_ (BLCA) vs _Cervical Squamous Cell Carcinoma and Endocervical Adenocarcinoma_ (CESC) samples rather than using the UUID in the metadata to match _normal_ vs _tumor_ samples.\n",
    "\n",
    "This tutorial is conceptually similar to [batch_o_tasks_standard](batch_o_tasks_standard.ipynb); however, here we are creating the batch of _single tasks_ **within** the API instead of using the _batch-task functionality_ shown in that tutorial.\n",
    "\n",
    " 1. Create a project\n",
    " 2. (optional) Add members\n",
    " 3. Copy WGS bam files from Public [CCLE project](https://igor.sbgenomics.com/u/sevenbridges/cancer-cell-line-encyclopedia-ccle/)\n",
    " 4. Upload workflows\n",
    " 5. Organize input files alphabetically\n",
    " 6. Run a set of first-stage processing\n",
    " 7. Wait for the first-stage to finish\n",
    " 7. Pass the outputs of the first-stage to the second-stage.\n",
    " \n",
    "Throughout this **tutorial**, we will link back to different **recipes** in case you need more detail about the calls. We will also link to the **documentation** for each call. Both links will be under the **PROTIPS** section heading at the end of the markdown section.\n",
    "\n",
    "### Prerequisites\n",
    " 1. You need your _authentication token_ and the API needs to know about it. See <a href=\"Setup_API_environment.ipynb\">**Setup_API_environment.ipynb**</a> for details.\n",
    " \n",
    "### WARNING\n",
    "This will burn through some processing credits. You can create _DRAFT_ tasks but not run them just see how it works. To do this, just remove \"run = True\" from the following line: \n",
    "\n",
    "```python\n",
    "    my_task = api.tasks.create(name=task_name, project=my_project, \\\n",
    "                           app=my_app, inputs=inputs, \\\n",
    "                           run = True)     \n",
    "```\n",
    "\n",
    "## Imports\n",
    "We import the _Api_ class from the official sevenbridges-python bindings below."
   ]
  },
  {
   "cell_type": "code",
   "execution_count": 1,
   "metadata": {},
   "outputs": [],
   "source": [
    "import sevenbridges as sbg"
   ]
  },
  {
   "cell_type": "markdown",
   "metadata": {},
   "source": [
    "## Initialize the object\n",
    "The _Api_ object needs to know your **auth\\_token** and the correct path. Here we assume you are using the .sbgrc file in your home directory. For other options see <a href=\"Setup_API_environment.ipynb\">Setup_API_environment.ipynb</a>"
   ]
  },
  {
   "cell_type": "code",
   "execution_count": 2,
   "metadata": {},
   "outputs": [],
   "source": [
    "# [USER INPUT] specify platform {cgc, sbpla, etc}\n",
    "prof = 'default'\n",
    "\n",
    "\n",
    "config_file = sbg.Config(profile=prof)\n",
    "api = sbg.Api(config=config_file)"
   ]
  },
  {
   "cell_type": "markdown",
   "metadata": {},
   "source": [
    "## 1) Create a  new project\n",
    "We create a project using your first billing group. The project is described by a small dictionary:\n",
    "* **billing_group** *Billing group* that will be charged for this project\n",
    "* **description**   (optional) Project description\n",
    "* **name**   Name of the project, may be *non-unique*<sup>1</sup>\n",
    "\n",
    "#### PROTIPS\n",
    " * A detailed _recipe_ for creating projects is [here](../../Recipes/SBPLAT/projects_makeNew.ipynb)\n",
    " * Detailed documentation of this particular REST architectural style request is available [here](http://docs.sevenbridges.com/docs/create-a-new-project)"
   ]
  },
  {
   "cell_type": "code",
   "execution_count": 5,
   "metadata": {
    "collapsed": false,
    "jupyter": {
     "outputs_hidden": false
    }
   },
   "outputs": [
    {
     "name": "stdout",
     "output_type": "stream",
     "text": [
      "BIX_Customer_project_Belgrade will be charged for computation and storage (if applicable) for your new project\n",
      "Your new project MAL has been created.\n"
     ]
    }
   ],
   "source": [
    "# [USER INPUT] Set project name here:\n",
    "new_project_name = 'MAL'                          \n",
    "      \n",
    "    \n",
    "# check if this project already exists. LIST all projects and check for name match\n",
    "# Note that you can have more than one project with the same name. It is best practice to find things by ID.\n",
    "my_project_exists = [p for p in api.projects.query(limit=100).all() \n",
    "              if p.name == new_project_name]      \n",
    "              \n",
    "if my_project_exists:    # exploit fact that empty list is False\n",
    "    # If a project with the same name already exists, reuse the existing one\n",
    "    my_project = my_project_exists[0]\n",
    "\n",
    "    print('Project {} will be reused for next steps.'.format(my_project.id))\n",
    "\n",
    "else: \n",
    "    # What are my funding sources?\n",
    "    billing_groups = api.billing_groups.query()  \n",
    "\n",
    "    # Pick the first group (arbitrary)\n",
    "    print((billing_groups[0].name +\n",
    "           ' will be charged for computation and storage (if applicable) for your new project'))\n",
    "\n",
    "    # Set up the information for your new project\n",
    "    new_project = {\n",
    "            'billing_group': billing_groups[0].id,\n",
    "            'description': \"\"\"A project created by the API recipe (projects_makeNew.ipynb).\n",
    "                          This also supports **markdown**\n",
    "                          _Pretty cool_, right?\n",
    "                       \"\"\",\n",
    "            'name': new_project_name\n",
    "    }\n",
    "    \n",
    "    # CREATE the new project\n",
    "    my_project = api.projects.create(\n",
    "        name=new_project['name'], \n",
    "        billing_group=new_project['billing_group'],\n",
    "        description=new_project['description'],\n",
    "    )\n",
    "\n",
    "    print('Your new project {} has been created.'.format(my_project.name))"
   ]
  },
  {
   "cell_type": "markdown",
   "metadata": {},
   "source": [
    "## 2) (optional) Add project members\n",
    "Teamwork - it gets stuff done! You might want to add some members to your project, if so please follow the next cell.\n",
    "\n",
    "#### PROTIPS\n",
    " * A detailed _recipe_ for adding members to project is [here](../../Recipes/SBPLAT/projects_addMembers.ipynb)\n",
    " * Detailed documentation of this particular REST architectural style request is available [here](http://docs.sevenbridges.com/docs/add-a-member-to-a-project)"
   ]
  },
  {
   "cell_type": "code",
   "execution_count": null,
   "metadata": {
    "collapsed": true,
    "jupyter": {
     "outputs_hidden": true
    }
   },
   "outputs": [],
   "source": [
    "# [USER INPUT] List names of members to add (prefilled with Jacqueline & Fede:\n",
    "user_names =['jrosains',\n",
    "            'ftorri']\n",
    "\n",
    "\n",
    "# Permissions - here we are assigning all users the same permissions (could also be a list)\n",
    "user_permissions = {'write': True,\n",
    "                    'read': True,\n",
    "                    'copy': True,\n",
    "                    'execute': False,\n",
    "                    'admin': False\n",
    "                    }\n",
    "\n",
    "for name in user_names:\n",
    "    my_project.add_member(user=name, permissions=user_permissions)"
   ]
  },
  {
   "cell_type": "markdown",
   "metadata": {},
   "source": [
    "## 3) Copy WXS bam files from the CCLE project\n",
    "The Cancer Cell Line Encyclopedia (CCLE) public project contains Open Access sequencing data (in the form of reads aligned to the hg19 broad variant reference genome) for nearly 1000 cancer cell line samples. You can use the data contained within this project for your analyses on the Platform. Learn more about the [CCLE public project](http://docs.sevenbridges.com/docs/ccle).\n",
    "\n",
    "For this tutorial, we will obtain our files from the CCLE public project. To do so, we will specify the project ID of the Public Project. \n",
    "\n",
    "### (OPTIONAL) Clone the project (GUI)\n",
    "We can also clone this project on the visual interface. This step cannot be done with the API. After cloning, the project will be available in project list.\n",
    "Log in to the Seven Bridges [Platform](https://igor.sbgenomics.com) and click on **Public Projects**. From the page, click on **Copy Project** actionfor **Cancer Cell Line Encyclopedia (CCLE)** \n",
    "\n",
    "<img src = \"images/CCLE_0.png\" height=\"462\" width=\"780\"> \n",
    "\n",
    "A dialog box prompt you for the new project name. Rename the project or simply press the **Copy** button.\n",
    "\n",
    "<img src = \"images/CCLE_1.png\" height=\"288\" width=\"405\"> \n",
    "\n",
    "You can then go to your new project.\n",
    "\n",
    "<img src = \"images/CCLE_2.png\" height=\"416\" width=\"780\"> \n",
    "\n",
    "### Search and copy files\n",
    "Now that we have the project copied, we can access all of its files. We will search files within that project and copy the files containing:\n",
    "\n",
    " * an experimental strategy of **WXS**\n",
    " * a file extension of **bam**\n",
    "\n",
    "#### PROTIPS\n",
    " * A detailed, related recipe for copying files from a project is [here](../../Recipes/SBPLAT/files_copyFromMyProject.ipynb).\n",
    " * Detailed documentation of these particular REST architectural style request is available [here (list files)](http://docs.sevenbridges.com/v1.0/docs/list-files-primary-method) and [here (copy files)](http://docs.sevenbridges.com/docs/copy-a-file)."
   ]
  },
  {
   "cell_type": "code",
   "execution_count": 22,
   "metadata": {},
   "outputs": [],
   "source": [
    "# [USER INPUT] Set the source project name:\n",
    "source_project_id = 'sevenbridges/cancer-cell-line-encyclopedia-ccle-1'  \n",
    "files_to_copy = 8\n",
    "reference_genome = 'HG19_Broad_variant.fasta'\n",
    "annotations_file = 'Homo_sapiens.GRCh37.75.gtf'\n",
    "\n",
    "\n",
    "# get details of your source project\n",
    "source_project = api.projects.get(source_project_id)"
   ]
  },
  {
   "cell_type": "code",
   "execution_count": 23,
   "metadata": {
    "collapsed": false,
    "jupyter": {
     "outputs_hidden": false
    }
   },
   "outputs": [
    {
     "name": "stdout",
     "output_type": "stream",
     "text": [
      "File (G25239.MFE-296.1.bam) already exists in your project, skipping\n",
      "File (G26218.HEC-1-A.2.bam) already exists in your project, skipping\n",
      "File (G26254.EFE-184.2.bam) already exists in your project, skipping\n",
      "File (G27259.AN3_CA.1.bam) already exists in your project, skipping\n",
      "File (G27265.SNG-M.1.bam) already exists in your project, skipping\n",
      "File (G27326.EN.1.bam) already exists in your project, skipping\n",
      "File (G27372.COLO_684.1.bam) already exists in your project, skipping\n",
      "File (G27455.RL95-2.2.bam) already exists in your project, skipping\n"
     ]
    }
   ],
   "source": [
    "# [CESC files] list all files in source project that are RNA-Seq; filter out bam\n",
    "source_files = api.files.query(limit=100, project=source_project,\n",
    "                              metadata={'experimental_strategy' : 'RNA-Seq',\n",
    "                                        'sample_type' : 'Cell Line',\n",
    "                                        'investigation' : 'CCLE-CESC'})\n",
    "source_files = [f for f in source_files.all() if\n",
    "               f.name[-3:] == 'bam']\n",
    "\n",
    "# List the files you already have\n",
    "my_file_names = [f.name for f in api.files.query(limit = 100, project = my_project.id).all()]\n",
    "\n",
    "# Copy files to your project\n",
    "CESC_files = []    # will use this list later as an input\n",
    "count = 0\n",
    "for f in source_files:\n",
    "    if f.name in my_file_names:\n",
    "        print('File ({}) already exists in your project, skipping'.format(f.name))\n",
    "        CESC_files.append(api.files.query(project=my_project, names =[f.name])[0])\n",
    "    else:\n",
    "        print('File ({}) does not exist; copying now'.format(f.name))\n",
    "        new_f = f.copy(project = my_project)\n",
    "        CESC_files.append(new_f)\n",
    "    count += 1\n",
    "    if count >= files_to_copy:\n",
    "        break"
   ]
  },
  {
   "cell_type": "code",
   "execution_count": 24,
   "metadata": {
    "collapsed": false,
    "jupyter": {
     "outputs_hidden": false
    }
   },
   "outputs": [
    {
     "name": "stdout",
     "output_type": "stream",
     "text": [
      "File (G20466.5637.2.bam) already exists in your project, skipping\n",
      "File (G26243.HT-1197.2.bam) already exists in your project, skipping\n",
      "File (G27217.TCCSUP.1.bam) already exists in your project, skipping\n",
      "File (G27234.647-V.1.bam) already exists in your project, skipping\n",
      "File (G27235.BC-3C.1.bam) already exists in your project, skipping\n",
      "File (G27264.RT-112.1.bam) already exists in your project, skipping\n",
      "File (G27276.639-V.1.bam) already exists in your project, skipping\n",
      "File (G27287.253J-BV.1.bam) already exists in your project, skipping\n"
     ]
    }
   ],
   "source": [
    "# [CESC files] list all files in source project that are RNA-Seq; filter out bam\n",
    "source_files = api.files.query(limit=100, project=source_project,\n",
    "                              metadata={'experimental_strategy' : 'RNA-Seq',\n",
    "                                        'sample_type' : 'Cell Line',\n",
    "                                        'investigation' : 'CCLE-BLCA'})\n",
    "source_files = [f for f in source_files.all() if\n",
    "               f.name[-3:] == 'bam']\n",
    "\n",
    "# List the files you already have\n",
    "my_file_names = [f.name for f in api.files.query(limit = 100, project = my_project.id).all()]\n",
    "\n",
    "# Copy files to your project\n",
    "BLCA_files = []    # will use this list later as an input\n",
    "count = 0\n",
    "for f in source_files:\n",
    "    if f.name in my_file_names:\n",
    "        print('File ({}) already exists in your project, skipping'.format(f.name))\n",
    "        BLCA_files.append(api.files.query(project=my_project, names =[f.name])[0])\n",
    "    else:\n",
    "        print('File ({}) does not exist; copying now'.format(f.name))\n",
    "        new_f = f.copy(project = my_project)\n",
    "        BLCA_files.append(new_f)\n",
    "    count += 1\n",
    "    if count >= files_to_copy:\n",
    "        break"
   ]
  },
  {
   "cell_type": "code",
   "execution_count": 25,
   "metadata": {
    "collapsed": false,
    "jupyter": {
     "outputs_hidden": false
    }
   },
   "outputs": [
    {
     "name": "stdout",
     "output_type": "stream",
     "text": [
      "File (HG19_Broad_variant.fasta) already exists in your project, skipping\n",
      "File (Homo_sapiens.GRCh37.75.gtf) already exists in your project, skipping\n"
     ]
    }
   ],
   "source": [
    "# Get the reference_genome from the same project\n",
    "ref_file = api.files.query(limit=100, project=source_project,\n",
    "                           names=[reference_genome])[0]\n",
    "\n",
    "if ref_file.name in my_file_names:\n",
    "    ref_genome = api.files.query(limit=100, project=my_project,\n",
    "                                 names=[reference_genome])[0]\n",
    "    print('File ({}) already exists in your project, skipping'.format(ref_file.name))\n",
    "else:\n",
    "    print('File ({}) does not exist; copying now'.format(ref_file.name))\n",
    "    ref_genome = ref_file.copy(project=my_project)\n",
    "    \n",
    "# Annotations\n",
    "# Get the reference_genome from the same project\n",
    "ref_file = api.files.query(limit=100, project=source_project,names=[annotations_file])[0]\n",
    "\n",
    "if ref_file.name in my_file_names:\n",
    "    annotations = api.files.query(limit=100, project=my_project,\n",
    "                                  names=[annotations_file])[0]\n",
    "    print('File ({}) already exists in your project, skipping'.format(ref_file.name))\n",
    "else:\n",
    "    print('File ({}) does not exist; copying now'.format(ref_file.name))\n",
    "    annotations = ref_file.copy(project=my_project)"
   ]
  },
  {
   "cell_type": "markdown",
   "metadata": {},
   "source": [
    "## 4) Create a workflow from the Application JSON\n",
    "We will load a tool from it's JSON here because it has been modified from the version in _Public Apps_. This is _not_ the most common user-flow, but maybe is useful to see. We need to import _json_ here to do this correctly. Please be **careful** when exporting and importing Apps as normal _copy-paste_ operations may induce JSON formatting errors.\n",
    "\n",
    "#### PROTIPS\n",
    " * Detailed documentation of this particular REST architectural style request is available [here](http://docs.sevenbridges.com/docs/add-an-app-using-raw-cwl)"
   ]
  },
  {
   "cell_type": "code",
   "execution_count": 26,
   "metadata": {
    "collapsed": false,
    "jupyter": {
     "outputs_hidden": false
    }
   },
   "outputs": [],
   "source": [
    "# Load the Application JSONs\n",
    "import json\n",
    "\n",
    "f = open('files/rna-seq-diff-expression-first.json', 'r')\n",
    "first_raw = f.read()\n",
    "first = json.loads(first_raw)\n",
    "\n",
    "f = open('files/rna-seq-diff-expression-second.json', 'r')\n",
    "second_raw = f.read()\n",
    "second = json.loads(second_raw)\n",
    "\n",
    "# Create the Workflows\n",
    "a_first_id = (my_project.id + '/first')\n",
    "my_app_first = api.apps.install_app(id=a_first_id, raw=first)\n",
    "\n",
    "a_second_id = (my_project.id + '/second')\n",
    "my_app_second = api.apps.install_app(id=a_second_id, raw=second)"
   ]
  },
  {
   "cell_type": "markdown",
   "metadata": {},
   "source": [
    "## Organize files into a **cohort**\n",
    "Here we don't have matched samples so we are organizing _arbitrarily_. However, it is _straight-forward_ to reorganize the data by UUID or some other metadata. We will scan through the metadata in both **CESC_files** and **BLCA_files** and sort by _Case ID_ alphabetically."
   ]
  },
  {
   "cell_type": "code",
   "execution_count": 27,
   "metadata": {},
   "outputs": [],
   "source": [
    "# Create a list of case_ids (or any other metadata)\n",
    "case_id_CESC = []\n",
    "for f in CESC_files:\n",
    "    case_id_CESC.append(f.metadata['case_id'])\n",
    "    \n",
    "case_id_BLCA = []\n",
    "for f in BLCA_files:\n",
    "    case_id_BLCA.append(f.metadata['case_id'])\n",
    "\n",
    "# Sort lists alphabetically\n",
    "ind_CESC = sorted(range(len(case_id_CESC)), key=lambda k: case_id_CESC[k])\n",
    "ind_BLCA = sorted(range(len(case_id_BLCA)), key=lambda k: case_id_BLCA[k])"
   ]
  },
  {
   "cell_type": "markdown",
   "metadata": {},
   "source": [
    "## Build and run _first-stage_ tasks\n",
    "Here we use the API to create a _new\\_task_ dictionary that we will use for each pair of files. All of the front-end tasks will be drafted and starting within seconds.\n",
    "\n",
    "#### Note\n",
    "Here we are not doing any error checking as in [batch_o_tasks_standard](batch_o_tasks_standard.ipynb); instead we are firing up the tasks directly.\n",
    "\n",
    "#### PROTIPS\n",
    "* Detailed documentation of this particular REST architectural style request is available [here](http://docs.sevenbridges.com/docs/create-a-new-task)"
   ]
  },
  {
   "cell_type": "code",
   "execution_count": 28,
   "metadata": {
    "collapsed": false,
    "jupyter": {
     "outputs_hidden": false
    }
   },
   "outputs": [
    {
     "name": "stdout",
     "output_type": "stream",
     "text": [
      "\n",
      "    8 tasks have been created. Enjoy a break, treat yourself to a muffin, \n",
      "    and come back to us once you've gotten an email that tasks are done.\n",
      "    (alternatively, use the task monitoring cells below)\n"
     ]
    }
   ],
   "source": [
    "my_task_list = []\n",
    "\n",
    "# Loop through all CESC files\n",
    "for ii in range(len(case_id_CESC)):\n",
    "    # Format the JSON to pass values to the FRONT-END workflow (frontend RNA-seq cuffquant)\n",
    "    task_name = 'first_stage_%i' % (ii)\n",
    "    inputs = {\n",
    "        'Reference' : ref_genome,\n",
    "        'Annotations' : annotations,\n",
    "        'BAM_Group_A' : [CESC_files[ind_CESC[ii]]],\n",
    "        'BAM_Group_B' : [BLCA_files[ind_BLCA[ii]]],\n",
    "        'library_type' : 'fr-unstranded',\n",
    "        'group_name' : 'CESC',\n",
    "        'group_name_1' : 'BLCA'\n",
    "    }\n",
    "\n",
    "    my_task = api.tasks.create(name=task_name, project=my_project, \\\n",
    "                               app=my_app_first, inputs=inputs, \\\n",
    "                               run = True)\n",
    "    my_task_list.append(my_task)\n",
    "\n",
    "if len(my_task_list) > 0:\n",
    "    print(\"\"\"\n",
    "    %i tasks have been created. Enjoy a break, treat yourself to a muffin, \n",
    "    and come back to us once you've gotten an email that tasks are done.\n",
    "    (alternatively, use the task monitoring cells below)\"\"\" % (len(my_task_list)))"
   ]
  },
  {
   "cell_type": "markdown",
   "metadata": {},
   "source": [
    "## Check task completion\n",
    "These tasks may take a long time to complete, here are two ways to check in on them:\n",
    "* Wait for email confirmation <sup>1</sup>\n",
    "* Ping the task to see it's _status_. Here we use a 10 min interval, adjust it appropriately for longer or shorter workflows\n",
    "\n",
    "<sup>1</sup> Emails will arrive regardless of whether the task was started by GUI or API. These notifications can be configured [here](http://docs.sevenbridges.com/docs/account-settings#section-manage-email-notifications)\n",
    "\n",
    "#### PROTIPS\n",
    "* The closest recipe for _monitoring tasks_ is [here](../../Recipes/SBPLAT/tasks_monitorAndGetResults.ipynb)\n",
    "* Detailed documentation of this particular REST architectural style request is available [here](http://docs.sevenbridges.com/docs/perform-an-action-on-a-specific-task)"
   ]
  },
  {
   "cell_type": "code",
   "execution_count": null,
   "metadata": {
    "collapsed": false,
    "jupyter": {
     "outputs_hidden": false
    }
   },
   "outputs": [
    {
     "name": "stdout",
     "output_type": "stream",
     "text": [
      "Pinging SBPLAT for task completion\n"
     ]
    }
   ],
   "source": [
    "# [USER INPUT] Set loop time (seconds):\n",
    "loop_time = 600\n",
    "\n",
    "from time import sleep\n",
    "\n",
    "for t in my_task_list:\n",
    "    # Check on one task at a time, \n",
    "    #   if ANY running, we are NOT done (no sense to query others)\n",
    "    print('Pinging SBPLAT for task completion')\n",
    "    \n",
    "    flag = {'task_running': True}\n",
    "    while flag['task_running']:\n",
    "        details = t.reload()\n",
    "        if t.status == 'COMPLETED':\n",
    "            flag['task_running'] = False\n",
    "            print('Task has completed, life is beautiful')\n",
    "        elif t.status  == 'FAILED' or details.status == 'ABORTED':  \n",
    "            print('Task (%s) failed, check it out' * t.name)\n",
    "            flag['task_running'] = False\n",
    "        else:\n",
    "            sleep(loop_time)"
   ]
  },
  {
   "cell_type": "markdown",
   "metadata": {},
   "source": [
    "## Build and run _second-stage_ task\n",
    "Now we collect outputs from the first-stage tasks and provide them to the second-stage task.\n",
    "\n",
    "#### Notes\n",
    "Here we are not doing any error checking as in [batch_o_tasks_standard](batch_o_tasks_standard.ipynb); instead we are firing up the tasks directly. Note this means we _ignore_ any failed tasks. You can choose your own approach here, e.g. re-running (or QC-ing) failed tasks, all-or-none processing, etc.\n",
    "\n",
    "#### PROTIPS\n",
    "* Detailed documentation of this particular REST architectural style request is available [here](http://docs.sevenbridges.com/docs/create-a-new-task)"
   ]
  },
  {
   "cell_type": "code",
   "execution_count": null,
   "metadata": {
    "collapsed": false,
    "jupyter": {
     "outputs_hidden": false
    }
   },
   "outputs": [],
   "source": [
    "# Set input for the second stage task\n",
    "abundances = [task.outputs['abundances'] for task in my_task_list]\n",
    "\n",
    "# Format the JSON to pass values to the BACK-END workflow [for backend RNA-seq cuffquant]\n",
    "task_name = 'second_stage'\n",
    "inputs = {\n",
    "    'Reference' : ref_genome,\n",
    "    'Annotations' : annotations,\n",
    "    'sample_files' : abundances,\n",
    "    'FDR': 0.05,\n",
    "    'library_type': u'ff-unstranded',\n",
    "    'min_reps_for_js_test': 3,\n",
    "    'library_norm_method': u'classic-fpkm',\n",
    "    'dispersion_method': u'per-condition'\n",
    "}\n",
    "    \n",
    "my_task = api.tasks.create(name=task_name, project=my_project,\n",
    "                               app=my_app_second, inputs=inputs)\n",
    "my_task.run()\n",
    "    \n",
    "print(\"You've made it to the end, yaay!\")"
   ]
  }
 ],
 "metadata": {
  "kernelspec": {
   "display_name": "Python 3",
   "language": "python",
   "name": "python3"
  },
  "language_info": {
   "codemirror_mode": {
    "name": "ipython",
    "version": 3
   },
   "file_extension": ".py",
   "mimetype": "text/x-python",
   "name": "python",
   "nbconvert_exporter": "python",
   "pygments_lexer": "ipython3",
   "version": "3.8.3"
  }
 },
 "nbformat": 4,
 "nbformat_minor": 4
}
