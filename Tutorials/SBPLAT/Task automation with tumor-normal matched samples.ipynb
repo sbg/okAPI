{
 "cells": [
  {
   "cell_type": "markdown",
   "metadata": {},
   "source": [
    "# How can I make, validate, and run many tasks with tumor-normal bam file matching?\n",
    "\n",
    "In this tutorial, you will learn how to match bam files that belong to the same primary tumor and solid tissue normal samples that belong to the same TCGA case ID and run tasks with the tumor-normal matched files. To learn how to import these files using the Datasets API, please use the **Tumor Tissue Normal Matched TCGA.ipynb** tutorial.\n",
    "\n",
    "## Objective\n",
    "This tutorial introduces you to performing an analysis where you match the tumor-normal files for same patient using the API with the sevenbridges-python bindings library.\n",
    "\n",
    "## Procedure\n",
    "We are going to assume that you already contain a project with the appropriate bam files.\n",
    "\n",
    " 1. Find an existing project.\n",
    " 2. Copy app from public apps to the project.\n",
    " 3. Print an app's input ports.\n",
    " 4. Copy reference file from public files.\n",
    " 5. Create tasks with tumor-normal matched bam files.\n",
    "\n",
    "## Prerequisites\n",
    "You need your authentication token and the API needs to know about it. See Setup_API_environment.ipynb for details.\n",
    "You have imported the tumor-normal TCGA bam files within the platform to an existing project. The **Tumor Tissue Normal Matched TCGA.ipynb** tutorial provides a method to perform this input.\n",
    "\n",
    "## Imports\n",
    "We import the Api class from the official sevenbridges-python bindings below.\n"
   ]
  },
  {
   "cell_type": "code",
   "execution_count": null,
   "metadata": {},
   "outputs": [],
   "source": [
    "import sevenbridges as sbg\n",
    "from sevenbridges.errors import Conflict"
   ]
  },
  {
   "cell_type": "markdown",
   "metadata": {},
   "source": [
    "## Initialize the object\n",
    "The Api object needs to know your auth_token and the correct path. Here we assume you are using the .sbgrc file in your home directory. For other options see Setup_API_environment.ipynb"
   ]
  },
  {
   "cell_type": "code",
   "execution_count": null,
   "metadata": {},
   "outputs": [],
   "source": [
    "# [USER INPUT] Specify platform {cgc, sbg}\n",
    "prof = 'default'\n",
    "\n",
    "\n",
    "config_file = sbg.Config(profile=prof)\n",
    "api = sbg.Api(config=config_file)"
   ]
  },
  {
   "cell_type": "markdown",
   "metadata": {},
   "source": [
    "## 1) Find an existing project\n",
    "\n",
    "Find the project within your project space using the project ID (project ID can be found in the URL). "
   ]
  },
  {
   "cell_type": "code",
   "execution_count": null,
   "metadata": {
    "collapsed": false,
    "jupyter": {
     "outputs_hidden": false
    }
   },
   "outputs": [],
   "source": [
    "my_project = api.projects.get('username/project-name')"
   ]
  },
  {
   "cell_type": "markdown",
   "metadata": {},
   "source": [
    "## 2) Find an app within the public tools and copy it to the project\n",
    "\n",
    "We will find the VarScan2 Workflow from BAM app within the public tools and copy it to the project."
   ]
  },
  {
   "cell_type": "code",
   "execution_count": null,
   "metadata": {
    "collapsed": false,
    "jupyter": {
     "outputs_hidden": false
    }
   },
   "outputs": [],
   "source": [
    "app_name = \"VarScan2 Workflow from BAM\"\n",
    "\n",
    "public_app = [a for a in api.apps.query(visibility='public', limit=100).all() if a.name == app_name]\n",
    "\n",
    "# Double-check that source app exists among the public apps\n",
    "if not public_app:\n",
    "    print('Target app (%s) not found, check spelling' % app_name)\n",
    "    raise KeyboardInterrupt\n",
    "else:\n",
    "    public_app = public_app[0]"
   ]
  },
  {
   "cell_type": "code",
   "execution_count": null,
   "metadata": {
    "collapsed": false,
    "jupyter": {
     "outputs_hidden": false
    }
   },
   "outputs": [],
   "source": [
    "try:\n",
    "    new_app = public_app.copy(project=my_project)\n",
    "    print('App {} copied to Project {}.'.format(public_app.name, my_project.name))\n",
    "except Conflict:\n",
    "    new_app = [a for a in api.apps.query(project=my_project) if a.name == public_app.name][0]\n",
    "    print('App already exists in the destination project, reusing existing app.')\n",
    "        \n",
    "# re-list apps in target project to verify the copy worked\n",
    "my_app_names = [a.name for a in\n",
    "                api.apps.query(project=my_project.id, limit=100).all()]\n",
    "\n",
    "if app_name in my_app_names:\n",
    "    print('Sucessfully copied or reused one app!')\n",
    "else:\n",
    "    print('Something went wrong...')"
   ]
  },
  {
   "cell_type": "markdown",
   "metadata": {},
   "source": [
    "## 3) Getting details of the inputs for the app.\n",
    "\n",
    "In this step, we will identify the input ports for the Varscan2 workflow so that we can get the appropriate ports set with input files for each task."
   ]
  },
  {
   "cell_type": "code",
   "execution_count": null,
   "metadata": {
    "collapsed": false,
    "jupyter": {
     "outputs_hidden": false
    }
   },
   "outputs": [],
   "source": [
    "idx = 1\n",
    "print(\"This app has {} input ports\".format(len(new_app.raw[\"inputs\"])))\n",
    "for inp in  new_app.raw[\"inputs\"]:\n",
    "    print(\"Input port {} with input id {}\".format(idx, inp[\"id\"].lstrip('#')))\n",
    "    idx += 1"
   ]
  },
  {
   "cell_type": "markdown",
   "metadata": {},
   "source": [
    "## 4) Copying the reference fasta file for the tasks.\n",
    "\n",
    "In this step, we will copy the ucsc.hg19.fasta file from the public reference files to the project. We then use this copied file as the reference file (input_fasta_file input port) for each task."
   ]
  },
  {
   "cell_type": "code",
   "execution_count": null,
   "metadata": {},
   "outputs": [],
   "source": [
    "ref_file_name = 'ucsc.hg19.fasta'\n",
    "source_project_id = 'admin/sbg-public-data'  \n",
    "source_file = list(api.files.query(limit=100, project = source_project_id, names=[ref_file_name]))[0]\n",
    "copied_file = source_file.copy(project=my_project.id)"
   ]
  },
  {
   "cell_type": "markdown",
   "metadata": {},
   "source": [
    "## 5) Create tasks for each tumor-tissue normal matched file.\n",
    "\n",
    "In this step, we will identify all the bam files that Primary tumor samples and Solid Tissue Normal samples that belong to the same patient (case ID in TCGA). Then we use these matched bam files as inputs to the Tumor_BAM and Normal_BAM input ports for VarScan2 and start multiple VarScan2 tasks."
   ]
  },
  {
   "cell_type": "code",
   "execution_count": null,
   "metadata": {
    "collapsed": false,
    "jupyter": {
     "outputs_hidden": false
    }
   },
   "outputs": [],
   "source": [
    "all_files = list(api.files.query(project=my_project.id, limit=100).all())\n",
    "tumor_bam_files = [curr_file for curr_file in all_files if curr_file.name.endswith(\".bam\") and curr_file.metadata[\"sample_type\"] == \"Primary Tumor\"]\n",
    "normal_bam_files = [curr_file for curr_file in all_files if curr_file.name.endswith(\".bam\") and curr_file.metadata[\"sample_type\"] == \"Solid Tissue Normal\"]"
   ]
  },
  {
   "cell_type": "code",
   "execution_count": null,
   "metadata": {
    "collapsed": false,
    "jupyter": {
     "outputs_hidden": false
    }
   },
   "outputs": [],
   "source": [
    "inputs = {}\n",
    "inputs[\"input_fasta_file\"] = copied_file\n",
    "all_tasks = []\n",
    "for curr_tumor_file in tumor_bam_files:\n",
    "    matched_normal_files = [curr_file for curr_file in normal_bam_files if curr_file.metadata[\"case_id\"] == curr_tumor_file.metadata[\"case_id\"]]\n",
    "    for curr_matched_normal_file in matched_normal_files:\n",
    "        inputs[\"Tumor_BAM\"] = curr_tumor_file\n",
    "        inputs[\"Normal_BAM\"] = curr_matched_normal_file\n",
    "        task_name = \"VarScan2 with \" + curr_tumor_file.name + \" and \" + curr_matched_normal_file.name\n",
    "        my_task = api.tasks.create(name=task_name, project=my_project.id, \n",
    "                                   app=new_app.id, inputs=inputs, run=False)\n",
    "        #my_task.run()\n",
    "        all_tasks.append(my_task)"
   ]
  },
  {
   "cell_type": "code",
   "execution_count": null,
   "metadata": {},
   "outputs": [],
   "source": []
  }
 ],
 "metadata": {
  "kernelspec": {
   "display_name": "Python 3",
   "language": "python",
   "name": "python3"
  },
  "language_info": {
   "codemirror_mode": {
    "name": "ipython",
    "version": 3
   },
   "file_extension": ".py",
   "mimetype": "text/x-python",
   "name": "python",
   "nbconvert_exporter": "python",
   "pygments_lexer": "ipython3",
   "version": "3.8.3"
  }
 },
 "nbformat": 4,
 "nbformat_minor": 4
}
