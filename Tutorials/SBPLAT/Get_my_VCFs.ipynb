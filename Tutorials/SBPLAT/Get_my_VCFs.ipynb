{
 "cells": [
  {
   "cell_type": "markdown",
   "metadata": {},
   "source": [
    "# Rough draft of getting _vcf_ files\n",
    "### Overview\n",
    "Different tertiary analysis software often works with _vcf_ or _gene expression_ files. Depending on the API they use, you may want to _point to the actual file_ **or** accept _an http download link_. We are going to show both approaches here, but adding a download step is trivial<sup>1</sup>.\n",
    "\n",
    "There are **two** approaches we will show to get **vcf download links**. This may be something you would like to do locally or as a _push-button_ from within a tertiary analysis GUI.\n",
    " \n",
    " * Specify a **project** and grab **all** vcf files within that project (a.k.a. the _lazy way_)\n",
    " * Specify both a **task** and **project** and look for _outputs_ of that task which are vcf format.\n",
    " \n",
    "Obvious extensions would be to keep track of previously imported file names, or only take tasks more recent than a certain date. \n",
    "\n",
    "### Prerequisites\n",
    " 1. You need your _authentication token_ and the API needs to know about it. See <a href=\"Setup_API_environment.ipynb\">**Setup_API_environment.ipynb**</a> for details.\n",
    " 2. You understand how to <a href=\"../../Recipes/SBPLAT/projects_listAll.ipynb\" target=\"_blank\">list</a> **projects** you are a member of (we will just use that call directly and pick one here).\n",
    " 3. You understand how to <a href=\"../../Recipes/SBPLAT/files_listAll.ipynb\" target=\"_blank\">list</a> **files** within one of your projects.\n",
    " 4. You understand how to <a href=\"../../Recipes/SBPLAT/tasks_monitorAndGetResults.ipynb\" target=\"_blank\">deal with</a> **tasks** within one of your projects. \n",
    "\n",
    "<sup>1</sup> the **.download()** method for a _file object_ will do this directly. You are welcome to use your favorite flavor of downloader.\n",
    "\n",
    "## Imports\n",
    "We import the _Api_ class from the official sevenbridges-python bindings below."
   ]
  },
  {
   "cell_type": "code",
   "execution_count": null,
   "metadata": {},
   "outputs": [],
   "source": [
    "import sevenbridges as sbg"
   ]
  },
  {
   "cell_type": "markdown",
   "metadata": {},
   "source": [
    "## Initialize the object\n",
    "The _Api_ object needs to know your **auth\\_token** and the correct path. Here we assume you are using the .sbgrc file in your home directory. For other options see <a href=\"Setup_API_environment.ipynb\">Setup_API_environment.ipynb</a>"
   ]
  },
  {
   "cell_type": "code",
   "execution_count": null,
   "metadata": {
    "collapsed": false,
    "jupyter": {
     "outputs_hidden": false
    }
   },
   "outputs": [],
   "source": [
    "# [USER INPUT] specify platform {cgc, sbg}\n",
    "prof = 'default'\n",
    "\n",
    "\n",
    "config_file = sbg.Config(profile=prof)\n",
    "api = sbg.Api(config=config_file)"
   ]
  },
  {
   "cell_type": "markdown",
   "metadata": {},
   "source": [
    "# Approach 1: Get all files from a project\n",
    "\n",
    "___\n",
    "\n",
    "**NOTE**\n",
    "\n",
    "This tutorial does not list through subfolders in projects. Only the top level files are captured.\n",
    "\n",
    "___\n",
    "\n",
    "This is a more _brute-force_ approach to get all files in a project. This does not discriminate between _reference_ or _output_ vcf files. **Approach 1** consists of three steps:\n",
    "\n",
    " * Find my project\n",
    " * Find all files in my project\n",
    " * Get download links\n"
   ]
  },
  {
   "cell_type": "markdown",
   "metadata": {},
   "source": [
    "## Find all files in my project\n",
    "A **list**-call for files returns the following *attributes*:\n",
    "\n",
    " * **id**     _Unique_ identifier for each file\n",
    " * **name**   Name of file, maybe _non-unique_\n",
    " * **href**   Address<sup>3</sup> of the file.\n",
    "\n",
    "<sup>3</sup> This *address* is for the API, but will not work in a browser."
   ]
  },
  {
   "cell_type": "code",
   "execution_count": null,
   "metadata": {
    "collapsed": false,
    "jupyter": {
     "outputs_hidden": false
    }
   },
   "outputs": [],
   "source": [
    "# [USER INPUT] Set project name:\n",
    "my_project = api.projects.get('username/project-name')\n",
    "\n",
    "# [USER INPUT] Set the input file extension we are looking for\n",
    "input_ext = 'vcf'\n",
    "\n",
    "# LIST all files in the source and target project\n",
    "my_files = [f for f in api.files.query(limit=100, project=my_project.id).all() if f.name.endswith(input_ext)]\n",
    "\n",
    "print('Project {} has {} matching files:'.format(my_project.name, len(my_files)))\n",
    "for f in my_files:\n",
    "    print(f.name)"
   ]
  },
  {
   "cell_type": "markdown",
   "metadata": {},
   "source": [
    "## Get download links\n",
    "Files objects have two methods for downloading:\n",
    "\n",
    " * **.download_info()**\n",
    " * **.download()**\n",
    " \n",
    "Here we use the first method to build and print a list of download links to pass to a tertiary analysis provider."
   ]
  },
  {
   "cell_type": "code",
   "execution_count": null,
   "metadata": {
    "collapsed": false,
    "jupyter": {
     "outputs_hidden": false
    }
   },
   "outputs": [],
   "source": [
    "# Make download list\n",
    "list_of_urls = []\n",
    "for f in my_files:\n",
    "    list_of_urls.append(f.download_info())\n",
    "\n",
    "for url in list_of_urls:\n",
    "    print(url)"
   ]
  },
  {
   "cell_type": "markdown",
   "metadata": {},
   "source": [
    "# Approach 2: Get all files from a particular task in a project\n",
    "This is a _targeted_ approach to get _specific_ output files from a _particular_ task. **Approach 2** consists of four steps:\n",
    "\n",
    " * Find my project\n",
    " * Find a **particular** task\n",
    " * Find all files in my project\n",
    " * Get download links"
   ]
  },
  {
   "cell_type": "markdown",
   "metadata": {},
   "source": [
    "## Find a particular task\n",
    "Here we will first return all tasks within the project selected above, then search for a particular one. \n",
    "\n",
    "#### NOTE\n",
    "It would be **much cleaner** to work with tasks list (my_tasks) and a cutoff date. "
   ]
  },
  {
   "cell_type": "code",
   "execution_count": null,
   "metadata": {
    "collapsed": false,
    "jupyter": {
     "outputs_hidden": false
    }
   },
   "outputs": [],
   "source": [
    "# [USER INPUT] Set the task we are looking for (ID can be found in task URL)\n",
    "single_task = api.tasks.get('cdb84a30-8367-4219-a013-47032a632c21')\n",
    "\n",
    "my_project = single_task.project\n"
   ]
  },
  {
   "cell_type": "code",
   "execution_count": null,
   "metadata": {},
   "outputs": [],
   "source": [
    "single_task.outputs"
   ]
  },
  {
   "cell_type": "markdown",
   "metadata": {},
   "source": [
    "## Find specific output files in the task\n",
    "First use the **.outputs** attribute of the task to find particular files you want to download. Then query all files and check for matching ids."
   ]
  },
  {
   "cell_type": "code",
   "execution_count": null,
   "metadata": {
    "collapsed": false,
    "jupyter": {
     "outputs_hidden": false
    }
   },
   "outputs": [],
   "source": [
    "# [USER INPUT] Specify which task outputs you like\n",
    "outputs = ['out_filtered_variants']\n",
    "\n",
    "# get the file ids assigned to those outputs\n",
    "my_files = []\n",
    "for out in outputs:\n",
    "    my_files.append(single_task.outputs[out])\n",
    "\n",
    "my_file_names = [f.name for f in my_files]\n",
    "print('There are {} files for your selected outputs:'\n",
    "      .format(len(my_file_names)))\n",
    "for f in my_file_names:\n",
    "    print(f)"
   ]
  },
  {
   "cell_type": "markdown",
   "metadata": {},
   "source": [
    "## Get download links\n",
    "Files objects have two methods for downloading:\n",
    "\n",
    " * **.download_info()**\n",
    " * **.download()**\n",
    " \n",
    "Here we also show the second method and download the first file to pass to a tertiary analysis provider."
   ]
  },
  {
   "cell_type": "code",
   "execution_count": null,
   "metadata": {
    "collapsed": false,
    "jupyter": {
     "outputs_hidden": false
    }
   },
   "outputs": [],
   "source": [
    "# Make download list\n",
    "list_of_urls = []\n",
    "for f in my_files:\n",
    "    list_of_urls.append(f.download_info())\n",
    "\n",
    "for url in list_of_urls:\n",
    "    print(url)\n",
    "    \n",
    "# Download first file to local directory\n",
    "f = my_files[0]\n",
    "f.download(path=f.name)"
   ]
  },
  {
   "cell_type": "markdown",
   "metadata": {},
   "source": [
    "# Additional Information\n",
    "\n",
    "Detailed documentation of this REST architectural style API is available [here](http://docs.sevenbridges.com/docs/the-api). Details of particular API calls are in the linked _recipes_. The sevenbridges-python bindings are available on [github](https://github.com/sbg/sevenbridges-python) along with binding documentation [here](http://sevenbridges-python.readthedocs.io/en/latest/quickstart)."
   ]
  }
 ],
 "metadata": {
  "kernelspec": {
   "display_name": "Python 3",
   "language": "python",
   "name": "python3"
  },
  "language_info": {
   "codemirror_mode": {
    "name": "ipython",
    "version": 3
   },
   "file_extension": ".py",
   "mimetype": "text/x-python",
   "name": "python",
   "nbconvert_exporter": "python",
   "pygments_lexer": "ipython3",
   "version": "3.8.3"
  }
 },
 "nbformat": 4,
 "nbformat_minor": 4
}
