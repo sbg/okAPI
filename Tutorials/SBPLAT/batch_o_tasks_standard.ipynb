{
 "cells": [
  {
   "cell_type": "markdown",
   "metadata": {},
   "source": [
    "# How can I make, validate, and run a batch task?\n",
    "### Overview\n",
    "We are going to _start from scratch_ in this tutorial. Specifically, we will:\n",
    " \n",
    " 1. Create a project\n",
    " 2. (optional) Add members\n",
    " 3. Copy WGS bam files from Public [CCLE project](https://igor.sbgenomics.com/u/sevenbridges/cancer-cell-line-encyclopedia-ccle/)\n",
    " 4. Upload the workflow _CNVnator Analysis_ from a version modified in Public Apps\n",
    " 5. Create a batch task\n",
    " 6. Check for errors\n",
    " 7. Spin it up\n",
    " \n",
    "Throughout this **tutorial**, we will link back to different **recipes** in case you need more detail about the calls. We will also link to the **documentation** for each call. Both links will be under the **PROTIPS** section heading at the end of the markdown section.\n",
    "\n",
    "### Prerequisites\n",
    " 1. You need your _authentication token_ and the API needs to know about it. See <a href=\"Setup_API_environment.ipynb\">**Setup_API_environment.ipynb**</a> for details.\n",
    " 2. You have cloned the Public Project _Cancer Cell Line Encyclopedia (CCLE)_. We will walk through that in the markdown of Step 3.\n",
    "\n",
    " \n",
    "### WARNING\n",
    "This will burn through some processing credits (**about \\$0.48** per file). You can create _DRAFT_ tasks but not run them just see how it works. To do this, just comment out the line: \n",
    "\n",
    "```python\n",
    "    my_task.run()      \n",
    "```\n",
    "\n",
    "## Imports\n",
    "We import the _Api_ class from the official sevenbridges-python bindings below."
   ]
  },
  {
   "cell_type": "code",
   "execution_count": null,
   "metadata": {
    "collapsed": true
   },
   "outputs": [],
   "source": [
    "import sevenbridges as sbg"
   ]
  },
  {
   "cell_type": "markdown",
   "metadata": {},
   "source": [
    "## Initialize the object\n",
    "The _Api_ object needs to know your **auth\\_token** and the correct path. Here we assume you are using the .sbgrc file in your home directory. For other options see <a href=\"Setup_API_environment.ipynb\">Setup_API_environment.ipynb</a>"
   ]
  },
  {
   "cell_type": "code",
   "execution_count": null,
   "metadata": {
    "collapsed": true
   },
   "outputs": [],
   "source": [
    "# [USER INPUT] Specify platform {cgc, sbg}\n",
    "prof = 'sbpla'\n",
    "\n",
    "\n",
    "config_config_file = sbg.Config(profile=prof)\n",
    "api = sbg.Api(config=config_config_file)"
   ]
  },
  {
   "cell_type": "markdown",
   "metadata": {},
   "source": [
    "## 1) Create a  new project\n",
    "We create a project using your first billing group. The project is described by a small dictionary:\n",
    "* **billing_group** *Billing group* that will be charged for this project\n",
    "* **description**   (optional) Project description\n",
    "* **name**   Name of the project, may be *non-unique*<sup>1</sup>\n",
    "* **tags**   List of tags, currently _unused_. **cannot** be set while creating project\n",
    "\n",
    "#### PROTIPS\n",
    " * A detailed _recipe_ for creating projects is [here](../../Recipes/SBPLAT/projects_makeNew.ipynb)\n",
    " * Detailed documentation of this particular REST architectural style request is available [here](http://docs.sevenbridges.com/docs/create-a-new-project)"
   ]
  },
  {
   "cell_type": "code",
   "execution_count": null,
   "metadata": {
    "collapsed": false
   },
   "outputs": [],
   "source": [
    "# [USER INPUT] Set project name here:\n",
    "new_project_name = 'cici_pici'                          \n",
    "      \n",
    "    \n",
    "# What are my funding sources?\n",
    "billing_groups = api.billing_groups.query()  \n",
    "\n",
    "# Pick the first group (arbitrary)\n",
    "print((billing_groups[0].name + \\\n",
    "       ' will be charged for computation and storage (if applicable) for your new project'))\n",
    "\n",
    "# Set up the information for your new project\n",
    "new_project = {\n",
    "        'billing_group': billing_groups[0].id,\n",
    "        'description': \"\"\"A project created by the API recipe (projects_makeNew.ipynb).\n",
    "                      This also supports **markdown**\n",
    "                      _Pretty cool_, right?\n",
    "                   \"\"\",\n",
    "        'name': new_project_name\n",
    "}\n",
    "\n",
    "# check if this project already exists. LIST all projects and check for name match\n",
    "my_project = [p for p in api.projects.query(limit=100).all() \\\n",
    "              if p.name == new_project_name]      \n",
    "              \n",
    "if my_project:    # exploit fact that empty list is False, {list, tuple, etc} is True\n",
    "    print('A project with the name (%s) already exists, please choose a unique name' \\\n",
    "          % new_project_name)\n",
    "    raise KeyboardInterrupt\n",
    "else:\n",
    "    # CREATE the new project\n",
    "    my_project = api.projects.create(name = new_project['name'], \\\n",
    "                                     billing_group = new_project['billing_group'], \\\n",
    "                                     description = new_project['description'])\n",
    "    \n",
    "    # (re)list all projects, and get your new project\n",
    "    my_project = [p for p in api.projects.query(limit=100).all() \\\n",
    "              if p.name == new_project_name][0]"
   ]
  },
  {
   "cell_type": "markdown",
   "metadata": {},
   "source": [
    "## 2) (optional) Add project members\n",
    "Teamwork - it gets stuff done! You might want to add some members to your project, if so please follow the next cell.\n",
    "\n",
    "#### PROTIPS\n",
    " * A detailed _recipe_ for adding members to project is [here](../../Recipes/SBPLAT/projects_addMembers.ipynb)\n",
    " * Detailed documentation of this particular REST architectural style request is available [here](http://docs.sevenbridges.com/docs/add-a-member-to-a-project)"
   ]
  },
  {
   "cell_type": "code",
   "execution_count": null,
   "metadata": {
    "collapsed": true
   },
   "outputs": [],
   "source": [
    "# [USER INPUT] List names of members to add (prefilled with Jacqueline & Fede:\n",
    "user_names =['jrosains',\n",
    "            'ftorri']\n",
    "\n",
    "\n",
    "# Permissions - here we are assigning all users the same permissions (could also be a list)\n",
    "user_permissions = {'write': True,\n",
    "                    'read': True,\n",
    "                    'copy': True,\n",
    "                    'execute': False,\n",
    "                    'admin': False\n",
    "                    }\n",
    "\n",
    "for name in user_names:\n",
    "    my_project.add_member(user = name, permissions = user_permissions)"
   ]
  },
  {
   "cell_type": "markdown",
   "metadata": {},
   "source": [
    "## 3) Copy WGS bam files from the CCLE project\n",
    "There is a helpful Public Project on the Seven Bridges Platform called CCLE. We are going to take all of our files from there. \n",
    "\n",
    "**@Jack, deleted the section about cloning below, you might have to adjust the code block below this text to match**\n",
    "\n",
    "### Search and copy files\n",
    "We have copy permissions for all of the files in the CCLE project. We will search files within that project and copy the ones which fit our criteria - listed here:\n",
    "\n",
    " * experimental strategy is **WXS**\n",
    " * file extension is **bam**\n",
    "\n",
    "#### PROTIPS\n",
    " * A detailed, related _recipe_ for copying files from a project is [here](../../Recipes/SBPLAT/files_copyFromMyProject.ipynb)\n",
    " * Detailed documentation of these particular REST architectural style request is available [here (list files)](http://docs.sevenbridges.com/v1.0/docs/list-files-primary-method) and [here (copy files)](http://docs.sevenbridges.com/docs/copy-a-file)"
   ]
  },
  {
   "cell_type": "code",
   "execution_count": null,
   "metadata": {
    "collapsed": false
   },
   "outputs": [],
   "source": [
    "# [USER INPUT] Set the source project name:\n",
    "source_project_name = 'Copy of Cancer Cell Line Encyclopedia (CCLE)'  \n",
    "files_to_copy = 10\n",
    "reference_genome = 'HG19_Broad_variant.fasta'\n",
    "\n",
    "\n",
    "# get details of your source project\n",
    "source_project = [p for p in api.projects.query(limit=100).all() \\\n",
    "                  if p.name == source_project_name]\n",
    "\n",
    "if not source_project:  # exploit fact that empty list is False, {list, tuple, etc} is True\n",
    "    print('Source project (%s) not found, check spelling' % source_project_name)\n",
    "    raise KeyboardInterrupt\n",
    "else:\n",
    "    source_project = source_project[0]\n",
    "    \n",
    "# list all files in source project that are WGS, filter out the BAM files\n",
    "source_files = api.files.query(limit = 100, project = source_project, \\\n",
    "                              metadata = {'experimental_strategy' : 'WXS'})\n",
    "source_files = [f for f in source_files.all() if \\\n",
    "               f.name[-3:] == 'bam']\n",
    "\n",
    "# List the files you already have\n",
    "my_file_names = [f.name for f in \\\n",
    "                 api.files.query(limit = 100, project = my_project.id).all()]\n",
    "\n",
    "# Copy files to your project\n",
    "bam_files = []    # will use this list later as an input\n",
    "count = 0\n",
    "for f in source_files:\n",
    "    if f.name in my_file_names:\n",
    "        print('file already exists in your project, skipping')\n",
    "        bam_files.append(api.files.query(project=my_project, \\\n",
    "                                        names =[f.name])[0])\n",
    "    else:\n",
    "        print('File (%s) does not exist in Project (%s); copying now' % \\\n",
    "          (f.name, my_project.name))\n",
    "        new_f = f.copy(project = my_project)\n",
    "        bam_files.append(new_f)\n",
    "    count += 1\n",
    "    if count >= files_to_copy:\n",
    "        break\n",
    "            \n",
    "# Get the reference_genome from the same project\n",
    "ref_file = api.files.query(limit = 100, \\\n",
    "                           project = source_project, \\\n",
    "                           names = [reference_genome])[0]\n",
    "\n",
    "if ref_file.name in my_file_names:\n",
    "    print('file already exists in your project, skipping')\n",
    "else:\n",
    "    print('File (%s) does not exist in Project (%s); copying now' % \\\n",
    "      (ref_file.name, my_project.name))\n",
    "    ref_genome = ref_file.copy(project = my_project)"
   ]
  },
  {
   "cell_type": "markdown",
   "metadata": {},
   "source": [
    "## 4) Create a workflow from the Application JSON\n",
    "We will load a tool from it's JSON here because it has been modified from the version in _Public Apps_. This is _not_ the most common user-flow, but maybe is useful to see. We need to import _json_ here to do this correctly. Please be **careful** when exporting and importing Apps as normal _copy-paste_ operations may induce JSON formatting errors.\n",
    "\n",
    "#### PROTIPS\n",
    " * Detailed documentation of this particular REST architectural style request is available [here](http://docs.sevenbridges.com/docs/add-an-app-using-raw-cwl)"
   ]
  },
  {
   "cell_type": "code",
   "execution_count": null,
   "metadata": {
    "collapsed": false
   },
   "outputs": [],
   "source": [
    "# Load the Application JSONs\n",
    "import json\n",
    "\n",
    "f = open('files/CNVnator_WF.json', 'r')\n",
    "tool_raw = f.read()\n",
    "tool = json.loads(tool_raw)\n",
    "\n",
    "# Create the app\n",
    "a_id = (my_project.id + '/cnvnator')\n",
    "my_app = api.apps.install_app(id =a_id, raw = tool)"
   ]
  },
  {
   "cell_type": "markdown",
   "metadata": {},
   "source": [
    "## 5) Create, check, and start a _batch_ of tasks\n",
    "We need to take a few steps here to properly execute a batch task. \n",
    "\n",
    " 1. Get the task inputs\n",
    " 2. Set up the task, feed a _list_ to one input, and set the task to be a **batch** task\n",
    " 3. Check for an _warnings_ or _errors_ in the created batch task\n",
    " 4. Start the batch task, _child tasks_ will be created automatically\n",
    " \n",
    "#### PROTIPS\n",
    " * Detailed documentation of this particular REST architectural style request is available [here (get inputs)](http://docs.sevenbridges.com/docs/get-task-inputs), [here (create task)](http://docs.sevenbridges.com/docs/create-a-new-task), and [here (run task)](http://docs.sevenbridges.com/docs/perform-an-action-on-a-specific-task)"
   ]
  },
  {
   "cell_type": "code",
   "execution_count": null,
   "metadata": {
    "collapsed": false
   },
   "outputs": [],
   "source": [
    "# Get tasks inputs\n",
    "print(\"  Tasks (%s) inputs:\" % (my_app.name))\n",
    "for in_a in my_app.raw['inputs']:\n",
    "    print in_a['id']\n",
    "\n",
    "# Set up a task\n",
    "task_name = 'task created with batch_o_tasks_standard.ipynb'\n",
    "inputs = {\n",
    "    'ref_genome' : ref_genome,\n",
    "    'bam_files' : bam_files,   # we set this up a few cells ago\n",
    "    'histogram' : 100,\n",
    "    'evaluation' : 100,\n",
    "    'calling' : 100,\n",
    "    'partitioning' : 100,\n",
    "    'no_gc_correction' : False,\n",
    "    'statistics' : 100\n",
    "}\n",
    "\n",
    "my_task = api.tasks.create(name=task_name, project=my_project, \\\n",
    "                           app=my_app, inputs=inputs, \\\n",
    "                           batch_input = 'bam_files', \\\n",
    "                           batch_by = { \"type\": \"ITEM\" })\n",
    "\n",
    "# Check for errors and warnings\n",
    "if my_task.errors:\n",
    "    print(my_task.errors)\n",
    "# elif my_task.warnings:        # feature is in staging\n",
    "#     print(my_task.warnings)\n",
    "else:\n",
    "    print('Your tasks are good to go, launching!')\n",
    "    \n",
    "    # Start the task\n",
    "    my_task.run()"
   ]
  },
  {
   "cell_type": "markdown",
   "metadata": {},
   "source": [
    "**Good luck, have fun!**"
   ]
  }
 ],
 "metadata": {
  "kernelspec": {
   "display_name": "Python 2",
   "language": "python",
   "name": "python2"
  },
  "language_info": {
   "codemirror_mode": {
    "name": "ipython",
    "version": 2
   },
   "file_extension": ".py",
   "mimetype": "text/x-python",
   "name": "python",
   "nbconvert_exporter": "python",
   "pygments_lexer": "ipython2",
   "version": "2.7.11"
  }
 },
 "nbformat": 4,
 "nbformat_minor": 0
}
