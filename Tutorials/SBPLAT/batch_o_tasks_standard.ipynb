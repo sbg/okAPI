{
 "cells": [
  {
   "cell_type": "markdown",
   "metadata": {},
   "source": [
    "# How can I make, validate, and run a batch task?\n",
    "### Overview\n",
    "Batching allows you to run identical analyses on different data, by entering multiple input files and grouping them with specified metadata criteria. For instance, you can group input files by File, Sample, Library, Platform unit, or File segment.  By using Batch Input, you can process multiple datasets with a single workflow containing the same parameter settings without having to set up the workflow multiple times. Batching creates one parent task containing multiple child tasks: one for each group of files.\n",
    "\n",
    "Learn more about [performing a batch analysis](https://docs.sevenbridges.com/docs/about-batch-analyses) from our Knowledge Center\n",
    "\n",
    "### Objective\n",
    "This tutorial introduces you to performing an analysis where you batch by file using the API with the `sevenbridges-python` bindings library.\n",
    "\n",
    "### Cost\n",
    "This will burn through some processing credits if runnig tasks.\n",
    "\n",
    "If you don't want to use your credits, you can [create a DRAFT task](http://docs.sevenbridges.com/docs/create-a-new-task) without running it just see how batching works. To do this, just comment out the following line: \n",
    "\n",
    "```python\n",
    "    my_task.run()\n",
    "```\n",
    "\n",
    "### Procedure\n",
    "We are going to start from scratch in this tutorial. Below, find a list of procedures with links to okAPI recipes containing example Python scripts and the relevant API requests from our API reference library.\n",
    " \n",
    " 1. Create a project. [[recipe](../../Recipes/SBPLAT/projects_makeNew.ipynb)]  [[reference](http://docs.sevenbridges.com/docs/create-a-new-project)]\n",
    " 2. (optional) Add members. [[recipe](../../Recipes/SBPLAT/projects_addMembers.ipynb)]  [[reference](http://docs.sevenbridges.com/docs/add-a-member-to-a-project)]\n",
    " 3. Copy Whole Genome Sequencing (WGS) bam files from the [CCLE](https://igor.sbgenomics.com/u/sevenbridges/cancer-cell-line-encyclopedia-ccle/) public project. [[recipe](../../Recipes/SBPLAT/files_copyFromMyProject.ipynb)]  [[reference 1](http://docs.sevenbridges.com/docs/list-files-primary-method)] [[reference 2](http://docs.sevenbridges.com/docs/copy-a-file) ]\n",
    " 4. Copy the workflow *CNVnator Analysis* from the Seven Bridges [Public Apps](http://docs.sevenbridges.com/docs/public-apps) repository. [[recipe](../../Recipes/SBPLAT/apps_copyFromPublicApps.ipynb)]  [[reference 1](http://docs.sevenbridges.com/docs/list-all-apps-available-to-you)] [[reference 2](http://docs.sevenbridges.com/docs/copy-an-app)]\n",
    " 5. Create, check, and start a batch task:\n",
    "  * Find task inputs. [[recipe](../../Recipes/SBPLAT/apps_detailOne.ipynb)]  [[reference](http://docs.sevenbridges.com/docs/get-raw-cwl-for-an-app-revision)]\n",
    "  * Create a batch task where you batch by `item`. [[reference](http://docs.sevenbridges.com/docs/create-a-new-task)]\n",
    "  * Check our draft task for errors.\n",
    "  * Run the analysis. [[recipe](h../../Recipes/SBPLAT/tasks_create.ipynb)]  [[reference](http://docs.sevenbridges.com/docs/perform-an-action-on-a-specific-task)]\n",
    " \n",
    "Throughout this tutorial, we will link back to different recipes in case you need more detail about the calls. We will also link to our API reference, a list of comprehensive API requests in our documentation, for each call. Both links will be under the **PROTIPS** section heading at the end of the markdown section.\n",
    "\n",
    "### Prerequisites\n",
    "1. You need your **authentication token** and the API needs to know about it. See <a href=\"Setup_API_environment.ipynb\">Setup_API_environment.ipynb</a> for details.\n",
    "\n",
    "## Imports\n",
    "We import the _Api_ class from the official sevenbridges-python bindings below."
   ]
  },
  {
   "cell_type": "code",
   "execution_count": 2,
   "metadata": {
    "collapsed": false,
    "jupyter": {
     "outputs_hidden": false
    }
   },
   "outputs": [],
   "source": [
    "import sevenbridges as sbg"
   ]
  },
  {
   "cell_type": "markdown",
   "metadata": {},
   "source": [
    "## Initialize the object\n",
    "The _Api_ object needs to know your **auth\\_token** and the correct path. Here we assume you are using the .sbgrc file in your home directory. For other options see <a href=\"Setup_API_environment.ipynb\">Setup_API_environment.ipynb</a>"
   ]
  },
  {
   "cell_type": "code",
   "execution_count": 3,
   "metadata": {},
   "outputs": [],
   "source": [
    "# [USER INPUT] Specify platform {cgc, sbg}\n",
    "prof = 'default'\n",
    "\n",
    "\n",
    "config_config_file = sbg.Config(profile=prof)\n",
    "api = sbg.Api(config=config_config_file)"
   ]
  },
  {
   "cell_type": "markdown",
   "metadata": {},
   "source": [
    "## 1) Create a  new project\n",
    "We create a project using your first billing group. The project is described by a small dictionary including the following:\n",
    "* **billing_group** *Billing group* that will be charged for this project. \n",
    "* **description**   (optional) Project description\n",
    "* **name**   Name of the project, may be *non-unique*<sup>1</sup>\n",
    "\n",
    "#### PROTIPS\n",
    " * A detailed recipe for creating projects is [here](../../Recipes/SBPLAT/projects_makeNew.ipynb)\n",
    " * Detailed documentation of this particular REST architectural style request is available [here](http://docs.sevenbridges.com/docs/create-a-new-project)"
   ]
  },
  {
   "cell_type": "code",
   "execution_count": 4,
   "metadata": {
    "collapsed": false,
    "jupyter": {
     "outputs_hidden": false
    }
   },
   "outputs": [
    {
     "name": "stdout",
     "output_type": "stream",
     "text": [
      "BIX_Customer_project_Belgrade will be charged for computation and storage (if applicable) for your new project\n",
      "Your new project cici_pici has been created.\n"
     ]
    }
   ],
   "source": [
    "# [USER INPUT] Set project name here:\n",
    "new_project_name = 'cici_pici'                          \n",
    "      \n",
    "    \n",
    "# check if this project already exists. LIST all projects and check for name match\n",
    "# Note that you can have more than one project with the same name. It is best practice to find things by ID.\n",
    "my_project_exists = [p for p in api.projects.query(limit=100).all() \n",
    "              if p.name == new_project_name]      \n",
    "              \n",
    "if my_project_exists:    # exploit fact that empty list is False\n",
    "    # If a project with the same name already exists, reuse the existing one\n",
    "    my_project = my_project_exists[0]\n",
    "\n",
    "    print('Project {} will be reused for next steps.'.format(my_project.id))\n",
    "\n",
    "else: \n",
    "    # What are my funding sources?\n",
    "    billing_groups = api.billing_groups.query()  \n",
    "\n",
    "    # Pick the first group (arbitrary)\n",
    "    print((billing_groups[0].name +\n",
    "           ' will be charged for computation and storage (if applicable) for your new project'))\n",
    "\n",
    "    # Set up the information for your new project\n",
    "    new_project = {\n",
    "            'billing_group': billing_groups[0].id,\n",
    "            'description': \"\"\"A project created by the API recipe (projects_makeNew.ipynb).\n",
    "                          This also supports **markdown**\n",
    "                          _Pretty cool_, right?\n",
    "                       \"\"\",\n",
    "            'name': new_project_name\n",
    "    }\n",
    "    \n",
    "    # CREATE the new project\n",
    "    my_project = api.projects.create(\n",
    "        name=new_project['name'], \n",
    "        billing_group=new_project['billing_group'],\n",
    "        description=new_project['description'],\n",
    "    )\n",
    "\n",
    "    print('Your new project {} has been created.'.format(my_project.name))"
   ]
  },
  {
   "cell_type": "markdown",
   "metadata": {},
   "source": [
    "## 2) (optional) Add project members\n",
    "Teamwork - it gets stuff done! You might want to add some members to your project. If so please follow the next cell. Otherwise, skip forward to step 3.\n",
    "\n",
    "#### PROTIPS\n",
    " * A detailed recipe for adding members to project is [here](../../Recipes/SBPLAT/projects_addMembers.ipynb).\n",
    " * Detailed documentation of this particular REST architectural style request is available [here](http://docs.sevenbridges.com/docs/add-a-member-to-a-project)."
   ]
  },
  {
   "cell_type": "code",
   "execution_count": null,
   "metadata": {
    "collapsed": true,
    "jupyter": {
     "outputs_hidden": true
    }
   },
   "outputs": [],
   "source": [
    "# [USER INPUT] List names of members to add (prefilled with Jacqueline & Fede:\n",
    "user_names =['jrosains',\n",
    "            'ftorri']\n",
    "\n",
    "\n",
    "# Permissions - here we are assigning all users the same permissions (could also be a list)\n",
    "user_permissions = {'write': True,\n",
    "                    'read': True,\n",
    "                    'copy': True,\n",
    "                    'execute': False,\n",
    "                    'admin': False\n",
    "                    }\n",
    "\n",
    "for name in user_names:\n",
    "    my_project.add_member(user=name, permissions=user_permissions)"
   ]
  },
  {
   "cell_type": "markdown",
   "metadata": {},
   "source": [
    "## 3) Copy WXS bam files from the CCLE project\n",
    "The Cancer Cell Line Encyclopedia (CCLE) public project contains Open Access sequencing data (in the form of reads aligned to the hg19 broad variant reference genome) for nearly 1000 cancer cell line samples. You can use the data contained within this project for your analyses on the Platform. Learn more about the [CCLE public project](http://docs.sevenbridges.com/docs/ccle).\n",
    "\n",
    "For this tutorial, we will obtain our files from the CCLE public project. To do so, we will specify the project ID of the Public Project. \n",
    "\n",
    "### (OPTIONAL) Clone the project (GUI)\n",
    "We can also clone this project on the visual interface. This step cannot be done with the API. After cloning, the project will be available in project list.\n",
    "Log in to the Seven Bridges [Platform](https://igor.sbgenomics.com) and click on **Public Projects**. From the page, click on **Copy Project** actionfor **Cancer Cell Line Encyclopedia (CCLE)** \n",
    "\n",
    "<img src = \"images/CCLE_0.png\" height=\"462\" width=\"780\"> \n",
    "\n",
    "A dialog box prompt you for the new project name. Rename the project or simply press the **Copy** button.\n",
    "\n",
    "<img src = \"images/CCLE_1.png\" height=\"288\" width=\"405\"> \n",
    "\n",
    "You can then go to your new project.\n",
    "\n",
    "<img src = \"images/CCLE_2.png\" height=\"416\" width=\"780\"> \n",
    "\n",
    "### Search and copy files\n",
    "Now that we have the project copied, we can access all of its files. We will search files within that project and copy the files containing:\n",
    "\n",
    " * an experimental strategy of **WXS**\n",
    " * a file extension of **bam**\n",
    "\n",
    "#### PROTIPS\n",
    " * A detailed, related recipe for copying files from a project is [here](../../Recipes/SBPLAT/files_copyFromMyProject.ipynb).\n",
    " * Detailed documentation of these particular REST architectural style request is available [here (list files)](http://docs.sevenbridges.com/v1.0/docs/list-files-primary-method) and [here (copy files)](http://docs.sevenbridges.com/docs/copy-a-file)."
   ]
  },
  {
   "cell_type": "code",
   "execution_count": 15,
   "metadata": {
    "collapsed": false,
    "jupyter": {
     "outputs_hidden": false
    }
   },
   "outputs": [
    {
     "name": "stdout",
     "output_type": "stream",
     "text": [
      "File (C835.HCC1143.2.bam) already exists in your project, skipping\n",
      "File (C835.HCC1143_BL.4.bam) already exists in your project, skipping\n",
      "File (C835.HCC1954.2.bam) already exists in your project, skipping\n",
      "File (C835.K-562.3.bam) already exists in your project, skipping\n",
      "File (C836.22Rv1.2.bam) already exists in your project, skipping\n",
      "File (C836.253J-BV.4.bam) already exists in your project, skipping\n",
      "File (C836.253J.1.bam) already exists in your project, skipping\n",
      "File (C836.ACC-MESO-1.2.bam) already exists in your project, skipping\n",
      "File (C836.ALL-SIL.1.bam) already exists in your project, skipping\n",
      "File (C836.AML-193.2.bam) already exists in your project, skipping\n",
      "File (HG19_Broad_variant.fasta) already exists in your project, skipping\n"
     ]
    }
   ],
   "source": [
    "# [USER INPUT] Set the source project id:\n",
    "source_project_id = 'sevenbridges/cancer-cell-line-encyclopedia-ccle-1'  \n",
    "files_to_copy = 10\n",
    "reference_genome = 'HG19_Broad_variant.fasta'\n",
    "\n",
    "\n",
    "source_project = api.projects.get(source_project_id)\n",
    "    \n",
    "# list all files in source project that are WXS, filter out the BAM files\n",
    "source_files = api.files.query(limit = 100, project = source_project, \n",
    "                               metadata = {'experimental_strategy' : 'WXS'})\n",
    "source_files = [f for f in source_files.all() if f.name[-3:] == 'bam']\n",
    "\n",
    "# List the files you already have\n",
    "my_file_names = [f.name for f in api.files.query(limit = 100, project = my_project.id).all()]\n",
    "\n",
    "# Copy files to your project\n",
    "bam_files = []    # will use this list later as an input\n",
    "count = 0\n",
    "for f in source_files:\n",
    "    if f.name in my_file_names:\n",
    "        print('File ({}) already exists in your project, skipping'.format(f.name))\n",
    "        bam_files.append(api.files.query(project=my_project, names =[f.name])[0])\n",
    "    else:\n",
    "        print('File ({}) does not exist; copying now'.format(f.name))\n",
    "        new_f = f.copy(project = my_project)\n",
    "        bam_files.append(new_f)\n",
    "    count += 1\n",
    "    if count >= files_to_copy:\n",
    "        break\n",
    "            \n",
    "# Get the reference_genome from the same project\n",
    "ref_file = api.files.query(limit=100, project=source_project,\n",
    "                           names=[reference_genome])[0]\n",
    "\n",
    "if ref_file.name in my_file_names:\n",
    "    ref_genome = api.files.query(limit=100, project=my_project,\n",
    "                           names=[reference_genome])[0]\n",
    "    print('File ({}) already exists in your project, skipping'.format(ref_file.name))\n",
    "else:\n",
    "    print('File ({}) does not exist; copying now'.format(ref_file.name))\n",
    "    ref_genome = ref_file.copy(project = my_project)"
   ]
  },
  {
   "cell_type": "markdown",
   "metadata": {},
   "source": [
    "## 4) Create a workflow from the Application JSON\n",
    "We will load a tool from its JSON ([located here](files/CNVnator_WF.json)) because it has been modified from the version in **Public Apps**. This is _not_ the most common user-flow, but it may be useful to see. We need to import `json` here to do this correctly. Please be **careful** when exporting and importing Apps as normal copy-paste operations may induce JSON formatting errors.\n",
    "\n",
    "#### PROTIPS\n",
    " * Detailed documentation of this particular REST architectural style request is available [here](http://docs.sevenbridges.com/docs/add-an-app-using-raw-cwl)."
   ]
  },
  {
   "cell_type": "code",
   "execution_count": 7,
   "metadata": {
    "collapsed": false,
    "jupyter": {
     "outputs_hidden": false
    }
   },
   "outputs": [],
   "source": [
    "# Load the Application JSONs\n",
    "import json\n",
    "\n",
    "f = open('files/CNVnator_WF.json', 'r')\n",
    "tool_raw = f.read()\n",
    "tool = json.loads(tool_raw)\n",
    "\n",
    "# Create the app\n",
    "a_id = (my_project.id + '/cnvnator')\n",
    "my_app = api.apps.install_app(id=a_id, raw=tool)"
   ]
  },
  {
   "cell_type": "markdown",
   "metadata": {},
   "source": [
    "## 5) Create, check, and start a _batch_ of tasks\n",
    "We need to take a few steps here to properly execute a batch task. \n",
    "\n",
    " 1. Get the task inputs from the raw CWL.\n",
    " 2. Set up the task, feed a _list_ to one input, and set the task to be a **batch** task.\n",
    " 3. Check for an _warnings_ or _errors_ in the created batch task.\n",
    " 4. Start the batch task, child tasks will be created automatically.\n",
    " \n",
    "#### PROTIPS\n",
    " * Detailed documentation of this particular REST architectural style request is available [here (get inputs)](http://docs.sevenbridges.com/docs/get-raw-cwl-for-an-app-revision), [here (create a draft task)](http://docs.sevenbridges.com/docs/create-a-new-task), and [here (run task)](http://docs.sevenbridges.com/docs/perform-an-action-on-a-specific-task).\n",
    " * Learn more about about what happens when you run a task from [our documentaton](http://docs.sevenbridges.com/blog/what-happens-when-i-run-a-task)."
   ]
  },
  {
   "cell_type": "code",
   "execution_count": 16,
   "metadata": {
    "collapsed": false,
    "jupyter": {
     "outputs_hidden": false
    }
   },
   "outputs": [
    {
     "name": "stdout",
     "output_type": "stream",
     "text": [
      "Tasks (CNVnator Analysis) inputs:\n",
      "ref_genome                     ['null', 'File']\n",
      "no_gc_correction               ['null', 'boolean']\n",
      "bam_files                      ['null', {'type': 'array', 'items': 'File'}]\n",
      "histogram                      ['null', 'int']\n",
      "statistics                     ['null', 'int']\n",
      "evaluation                     ['null', 'int']\n",
      "partitioning                   ['null', 'int']\n",
      "calling                        ['null', 'int']\n",
      "Draft tasks are created\n"
     ]
    }
   ],
   "source": [
    "# Get tasks inputs\n",
    "print(\"Tasks (%s) inputs:\" % (my_app.name))\n",
    "for in_a in my_app.raw['inputs']:\n",
    "    print(in_a['id'].lstrip('#'), ' ' * (30 - len(in_a['id'])) ,in_a['type'])\n",
    "\n",
    "# Set up a task\n",
    "task_name = 'task created with batch_o_tasks_standard.ipynb'\n",
    "inputs = {\n",
    "    'ref_genome' : ref_genome,\n",
    "    'bam_files' : bam_files,   # we set this up a few cells ago\n",
    "    'histogram' : 100,\n",
    "    'evaluation' : 100,\n",
    "    'calling' : 100,\n",
    "    'partitioning' : 100,\n",
    "    'no_gc_correction' : False,\n",
    "    'statistics' : 100\n",
    "}\n",
    "\n",
    "my_task = api.tasks.create(name=task_name, project=my_project, \\\n",
    "                           app=my_app, inputs=inputs, \\\n",
    "                           batch_input = 'bam_files', \\\n",
    "                           batch_by = { \"type\": \"ITEM\" })\n",
    "\n",
    "print(\"Draft tasks are created\")"
   ]
  },
  {
   "cell_type": "markdown",
   "metadata": {},
   "source": [
    "## Run the batch task\n",
    "Next cell will run the batch task and will generate costs."
   ]
  },
  {
   "cell_type": "code",
   "execution_count": 14,
   "metadata": {},
   "outputs": [
    {
     "name": "stdout",
     "output_type": "stream",
     "text": [
      "Your tasks are good to go, launching!\n"
     ]
    }
   ],
   "source": [
    "# Check for errors and warnings\n",
    "if my_task.errors:\n",
    "    print(my_task.errors)\n",
    "# elif my_task.warnings:        # feature is in staging\n",
    "#     print(my_task.warnings)\n",
    "else:\n",
    "    print('Your tasks are good to go, launching!')\n",
    "    \n",
    "    # Start the task\n",
    "    my_task.run()"
   ]
  },
  {
   "cell_type": "markdown",
   "metadata": {},
   "source": [
    "**Good luck, have fun!**"
   ]
  }
 ],
 "metadata": {
  "kernelspec": {
   "display_name": "Python 3",
   "language": "python",
   "name": "python3"
  },
  "language_info": {
   "codemirror_mode": {
    "name": "ipython",
    "version": 3
   },
   "file_extension": ".py",
   "mimetype": "text/x-python",
   "name": "python",
   "nbconvert_exporter": "python",
   "pygments_lexer": "ipython3",
   "version": "3.8.3"
  }
 },
 "nbformat": 4,
 "nbformat_minor": 4
}
